{
 "cells": [
  {
   "cell_type": "markdown",
   "metadata": {
    "id": "cP5zh7Ww85Fm"
   },
   "source": [
    "# Proyek Analisis Data: Nama dataset\n",
    "- Nama: Regina Ayumi Ulayyaa\n",
    "- Email: reginaayumi2@gmail.com\n",
    "- Id Dicoding:reginayumi"
   ]
  },
  {
   "cell_type": "markdown",
   "metadata": {
    "id": "ggwOFmpI88dG"
   },
   "source": [
    "## Menentukan Pertanyaan Bisnis"
   ]
  },
  {
   "cell_type": "markdown",
   "metadata": {
    "id": "6irqmTtg8-IC"
   },
   "source": [
    "- Produk apa yang memiliki penjualan tertinggi dan terendah?\n",
    "- Bagaimana tingkat kepuasan pelanggan pada tahun 2018?\n",
    "- Berapa jumlah pesanan yang disetujui pada tiap bulannya?"
   ]
  },
  {
   "cell_type": "code",
   "execution_count": 1,
   "metadata": {},
   "outputs": [
    {
     "name": "stdout",
     "output_type": "stream",
     "text": [
      "Requirement already satisfied: seaborn in c:\\users\\acer\\appdata\\local\\programs\\python\\python311\\lib\\site-packages (0.13.0)Note: you may need to restart the kernel to use updated packages.\n"
     ]
    },
    {
     "name": "stderr",
     "output_type": "stream",
     "text": [
      "\n",
      "[notice] A new release of pip is available: 23.0.1 -> 23.3.1\n",
      "[notice] To update, run: python.exe -m pip install --upgrade pip\n"
     ]
    },
    {
     "name": "stdout",
     "output_type": "stream",
     "text": [
      "\n",
      "Requirement already satisfied: numpy!=1.24.0,>=1.20 in c:\\users\\acer\\appdata\\local\\programs\\python\\python311\\lib\\site-packages (from seaborn) (1.23.5)\n",
      "Requirement already satisfied: pandas>=1.2 in c:\\users\\acer\\appdata\\local\\programs\\python\\python311\\lib\\site-packages (from seaborn) (1.5.3)\n",
      "Requirement already satisfied: matplotlib!=3.6.1,>=3.3 in c:\\users\\acer\\appdata\\local\\programs\\python\\python311\\lib\\site-packages (from seaborn) (3.7.0)\n",
      "Requirement already satisfied: contourpy>=1.0.1 in c:\\users\\acer\\appdata\\local\\programs\\python\\python311\\lib\\site-packages (from matplotlib!=3.6.1,>=3.3->seaborn) (1.0.7)\n",
      "Requirement already satisfied: cycler>=0.10 in c:\\users\\acer\\appdata\\local\\programs\\python\\python311\\lib\\site-packages (from matplotlib!=3.6.1,>=3.3->seaborn) (0.11.0)\n",
      "Requirement already satisfied: fonttools>=4.22.0 in c:\\users\\acer\\appdata\\local\\programs\\python\\python311\\lib\\site-packages (from matplotlib!=3.6.1,>=3.3->seaborn) (4.38.0)\n",
      "Requirement already satisfied: kiwisolver>=1.0.1 in c:\\users\\acer\\appdata\\local\\programs\\python\\python311\\lib\\site-packages (from matplotlib!=3.6.1,>=3.3->seaborn) (1.4.4)\n",
      "Requirement already satisfied: packaging>=20.0 in c:\\users\\acer\\appdata\\local\\programs\\python\\python311\\lib\\site-packages (from matplotlib!=3.6.1,>=3.3->seaborn) (23.0)\n",
      "Requirement already satisfied: pillow>=6.2.0 in c:\\users\\acer\\appdata\\local\\programs\\python\\python311\\lib\\site-packages (from matplotlib!=3.6.1,>=3.3->seaborn) (9.4.0)\n",
      "Requirement already satisfied: pyparsing>=2.3.1 in c:\\users\\acer\\appdata\\local\\programs\\python\\python311\\lib\\site-packages (from matplotlib!=3.6.1,>=3.3->seaborn) (3.0.9)\n",
      "Requirement already satisfied: python-dateutil>=2.7 in c:\\users\\acer\\appdata\\local\\programs\\python\\python311\\lib\\site-packages (from matplotlib!=3.6.1,>=3.3->seaborn) (2.8.2)\n",
      "Requirement already satisfied: pytz>=2020.1 in c:\\users\\acer\\appdata\\local\\programs\\python\\python311\\lib\\site-packages (from pandas>=1.2->seaborn) (2022.7.1)\n",
      "Requirement already satisfied: six>=1.5 in c:\\users\\acer\\appdata\\local\\programs\\python\\python311\\lib\\site-packages (from python-dateutil>=2.7->matplotlib!=3.6.1,>=3.3->seaborn) (1.16.0)\n",
      "Requirement already satisfied: gdown in c:\\users\\acer\\appdata\\local\\programs\\python\\python311\\lib\\site-packages (4.7.1)\n",
      "Requirement already satisfied: filelock in c:\\users\\acer\\appdata\\local\\programs\\python\\python311\\lib\\site-packages (from gdown) (3.9.0)\n",
      "Requirement already satisfied: requests[socks] in c:\\users\\acer\\appdata\\local\\programs\\python\\python311\\lib\\site-packages (from gdown) (2.31.0)\n",
      "Requirement already satisfied: six in c:\\users\\acer\\appdata\\local\\programs\\python\\python311\\lib\\site-packages (from gdown) (1.16.0)\n",
      "Requirement already satisfied: tqdm in c:\\users\\acer\\appdata\\local\\programs\\python\\python311\\lib\\site-packages (from gdown) (4.65.0)\n",
      "Requirement already satisfied: beautifulsoup4 in c:\\users\\acer\\appdata\\local\\programs\\python\\python311\\lib\\site-packages (from gdown) (4.12.2)\n",
      "Requirement already satisfied: soupsieve>1.2 in c:\\users\\acer\\appdata\\local\\programs\\python\\python311\\lib\\site-packages (from beautifulsoup4->gdown) (2.5)\n",
      "Requirement already satisfied: charset-normalizer<4,>=2 in c:\\users\\acer\\appdata\\local\\programs\\python\\python311\\lib\\site-packages (from requests[socks]->gdown) (3.0.1)\n",
      "Requirement already satisfied: idna<4,>=2.5 in c:\\users\\acer\\appdata\\local\\programs\\python\\python311\\lib\\site-packages (from requests[socks]->gdown) (3.4)\n",
      "Requirement already satisfied: urllib3<3,>=1.21.1 in c:\\users\\acer\\appdata\\local\\programs\\python\\python311\\lib\\site-packages (from requests[socks]->gdown) (1.26.14)\n",
      "Requirement already satisfied: certifi>=2017.4.17 in c:\\users\\acer\\appdata\\local\\programs\\python\\python311\\lib\\site-packages (from requests[socks]->gdown) (2022.12.7)\n",
      "Requirement already satisfied: PySocks!=1.5.7,>=1.5.6 in c:\\users\\acer\\appdata\\local\\programs\\python\\python311\\lib\\site-packages (from requests[socks]->gdown) (1.7.1)\n",
      "Requirement already satisfied: colorama in c:\\users\\acer\\appdata\\local\\programs\\python\\python311\\lib\\site-packages (from tqdm->gdown) (0.4.6)\n",
      "Note: you may need to restart the kernel to use updated packages.\n"
     ]
    },
    {
     "name": "stderr",
     "output_type": "stream",
     "text": [
      "\n",
      "[notice] A new release of pip is available: 23.0.1 -> 23.3.1\n",
      "[notice] To update, run: python.exe -m pip install --upgrade pip\n"
     ]
    }
   ],
   "source": [
    "%pip install seaborn\n",
    "%pip install gdown"
   ]
  },
  {
   "cell_type": "markdown",
   "metadata": {
    "id": "EueHsNk89AsY"
   },
   "source": [
    "## Menyiapkan semua library yang dibutuhkan"
   ]
  },
  {
   "cell_type": "code",
   "execution_count": 2,
   "metadata": {
    "id": "4cmWv4qc8xWu"
   },
   "outputs": [],
   "source": [
    "import numpy as np\n",
    "import pandas as pd\n",
    "import matplotlib.pyplot as plt\n",
    "import seaborn as sns\n",
    "import urllib\n",
    "import zipfile\n",
    "import matplotlib.image as mpimg\n",
    "import requests\n",
    "import io\n",
    "import gdown\n",
    "import zipfile\n",
    "import os\n",
    "import datetime as dt"
   ]
  },
  {
   "cell_type": "markdown",
   "metadata": {
    "id": "7DwSpkkZ9BqV"
   },
   "source": [
    "## Data Wrangling"
   ]
  },
  {
   "cell_type": "markdown",
   "metadata": {
    "id": "ZuJuLGxe9D9O"
   },
   "source": [
    "### Gathering Data"
   ]
  },
  {
   "cell_type": "code",
   "execution_count": 3,
   "metadata": {
    "colab": {
     "base_uri": "https://localhost:8080/"
    },
    "id": "Rg3wtvOr9DUm",
    "outputId": "f64d5c6f-b0b1-4da6-c827-7808012b1b8b"
   },
   "outputs": [
    {
     "name": "stderr",
     "output_type": "stream",
     "text": [
      "Downloading...\n",
      "From (uriginal): https://drive.google.com/uc?id=1asAoTYHbFRMwhmApPYZDwyM4y2a4Yv2K\n",
      "From (redirected): https://drive.google.com/uc?id=1asAoTYHbFRMwhmApPYZDwyM4y2a4Yv2K&confirm=t&uuid=a548d9a7-cb25-42f8-ab63-8a0a9fe15b41\n",
      "To: e:\\Dicoding\\dicoding_datascience\\Analisis Data\\proyek_akhir\\downloaded_file.zip\n",
      "100%|██████████| 44.9M/44.9M [00:22<00:00, 2.01MB/s]\n"
     ]
    },
    {
     "name": "stdout",
     "output_type": "stream",
     "text": [
      "Download and extraction completed.\n"
     ]
    }
   ],
   "source": [
    "# Google Drive file ID\n",
    "file_id = '1asAoTYHbFRMwhmApPYZDwyM4y2a4Yv2K'\n",
    "\n",
    "# URL for file download\n",
    "url = f'https://drive.google.com/uc?id={file_id}'\n",
    "\n",
    "# Destination file path\n",
    "downloaded_file = 'downloaded_file.zip'\n",
    "output_folder = 'data/'\n",
    "\n",
    "# Download the file\n",
    "gdown.download(url, downloaded_file, quiet=False)\n",
    "\n",
    "# Create the output folder if it doesn't exist\n",
    "if not os.path.exists(output_folder):\n",
    "    os.makedirs(output_folder)\n",
    "\n",
    "# Unzip the file\n",
    "with zipfile.ZipFile(downloaded_file, 'r') as zip_ref:\n",
    "    zip_ref.extractall(output_folder)\n",
    "\n",
    "# Clean up: Remove the downloaded zip file\n",
    "os.remove(downloaded_file)\n",
    "\n",
    "print(\"Download and extraction completed.\")\n"
   ]
  },
  {
   "cell_type": "code",
   "execution_count": 4,
   "metadata": {
    "colab": {
     "base_uri": "https://localhost:8080/",
     "height": 206
    },
    "id": "w2WsgztduZoU",
    "outputId": "7d7d8763-8e25-4ad8-9436-fb9ee991512b"
   },
   "outputs": [
    {
     "data": {
      "text/html": [
       "<div>\n",
       "<style scoped>\n",
       "    .dataframe tbody tr th:only-of-type {\n",
       "        vertical-align: middle;\n",
       "    }\n",
       "\n",
       "    .dataframe tbody tr th {\n",
       "        vertical-align: top;\n",
       "    }\n",
       "\n",
       "    .dataframe thead th {\n",
       "        text-align: right;\n",
       "    }\n",
       "</style>\n",
       "<table border=\"1\" class=\"dataframe\">\n",
       "  <thead>\n",
       "    <tr style=\"text-align: right;\">\n",
       "      <th></th>\n",
       "      <th>customer_id</th>\n",
       "      <th>customer_unique_id</th>\n",
       "      <th>customer_zip_code_prefix</th>\n",
       "      <th>customer_city</th>\n",
       "      <th>customer_state</th>\n",
       "    </tr>\n",
       "  </thead>\n",
       "  <tbody>\n",
       "    <tr>\n",
       "      <th>0</th>\n",
       "      <td>06b8999e2fba1a1fbc88172c00ba8bc7</td>\n",
       "      <td>861eff4711a542e4b93843c6dd7febb0</td>\n",
       "      <td>14409</td>\n",
       "      <td>franca</td>\n",
       "      <td>SP</td>\n",
       "    </tr>\n",
       "    <tr>\n",
       "      <th>1</th>\n",
       "      <td>18955e83d337fd6b2def6b18a428ac77</td>\n",
       "      <td>290c77bc529b7ac935b93aa66c333dc3</td>\n",
       "      <td>9790</td>\n",
       "      <td>sao bernardo do campo</td>\n",
       "      <td>SP</td>\n",
       "    </tr>\n",
       "    <tr>\n",
       "      <th>2</th>\n",
       "      <td>4e7b3e00288586ebd08712fdd0374a03</td>\n",
       "      <td>060e732b5b29e8181a18229c7b0b2b5e</td>\n",
       "      <td>1151</td>\n",
       "      <td>sao paulo</td>\n",
       "      <td>SP</td>\n",
       "    </tr>\n",
       "    <tr>\n",
       "      <th>3</th>\n",
       "      <td>b2b6027bc5c5109e529d4dc6358b12c3</td>\n",
       "      <td>259dac757896d24d7702b9acbbff3f3c</td>\n",
       "      <td>8775</td>\n",
       "      <td>mogi das cruzes</td>\n",
       "      <td>SP</td>\n",
       "    </tr>\n",
       "    <tr>\n",
       "      <th>4</th>\n",
       "      <td>4f2d8ab171c80ec8364f7c12e35b23ad</td>\n",
       "      <td>345ecd01c38d18a9036ed96c73b8d066</td>\n",
       "      <td>13056</td>\n",
       "      <td>campinas</td>\n",
       "      <td>SP</td>\n",
       "    </tr>\n",
       "  </tbody>\n",
       "</table>\n",
       "</div>"
      ],
      "text/plain": [
       "                        customer_id                customer_unique_id  \\\n",
       "0  06b8999e2fba1a1fbc88172c00ba8bc7  861eff4711a542e4b93843c6dd7febb0   \n",
       "1  18955e83d337fd6b2def6b18a428ac77  290c77bc529b7ac935b93aa66c333dc3   \n",
       "2  4e7b3e00288586ebd08712fdd0374a03  060e732b5b29e8181a18229c7b0b2b5e   \n",
       "3  b2b6027bc5c5109e529d4dc6358b12c3  259dac757896d24d7702b9acbbff3f3c   \n",
       "4  4f2d8ab171c80ec8364f7c12e35b23ad  345ecd01c38d18a9036ed96c73b8d066   \n",
       "\n",
       "   customer_zip_code_prefix          customer_city customer_state  \n",
       "0                     14409                 franca             SP  \n",
       "1                      9790  sao bernardo do campo             SP  \n",
       "2                      1151              sao paulo             SP  \n",
       "3                      8775        mogi das cruzes             SP  \n",
       "4                     13056               campinas             SP  "
      ]
     },
     "execution_count": 4,
     "metadata": {},
     "output_type": "execute_result"
    }
   ],
   "source": [
    "customers_df = pd.read_csv('./data/E-Commerce Public Dataset/customers_dataset.csv')\n",
    "customers_df.head()"
   ]
  },
  {
   "cell_type": "code",
   "execution_count": 5,
   "metadata": {
    "colab": {
     "base_uri": "https://localhost:8080/",
     "height": 206
    },
    "id": "eraGdbW1uhye",
    "outputId": "fbf786ff-1667-4a8b-8e8c-c043f21298b8"
   },
   "outputs": [
    {
     "data": {
      "text/html": [
       "<div>\n",
       "<style scoped>\n",
       "    .dataframe tbody tr th:only-of-type {\n",
       "        vertical-align: middle;\n",
       "    }\n",
       "\n",
       "    .dataframe tbody tr th {\n",
       "        vertical-align: top;\n",
       "    }\n",
       "\n",
       "    .dataframe thead th {\n",
       "        text-align: right;\n",
       "    }\n",
       "</style>\n",
       "<table border=\"1\" class=\"dataframe\">\n",
       "  <thead>\n",
       "    <tr style=\"text-align: right;\">\n",
       "      <th></th>\n",
       "      <th>geolocation_zip_code_prefix</th>\n",
       "      <th>geolocation_lat</th>\n",
       "      <th>geolocation_lng</th>\n",
       "      <th>geolocation_city</th>\n",
       "      <th>geolocation_state</th>\n",
       "    </tr>\n",
       "  </thead>\n",
       "  <tbody>\n",
       "    <tr>\n",
       "      <th>0</th>\n",
       "      <td>1037</td>\n",
       "      <td>-23.545621</td>\n",
       "      <td>-46.639292</td>\n",
       "      <td>sao paulo</td>\n",
       "      <td>SP</td>\n",
       "    </tr>\n",
       "    <tr>\n",
       "      <th>1</th>\n",
       "      <td>1046</td>\n",
       "      <td>-23.546081</td>\n",
       "      <td>-46.644820</td>\n",
       "      <td>sao paulo</td>\n",
       "      <td>SP</td>\n",
       "    </tr>\n",
       "    <tr>\n",
       "      <th>2</th>\n",
       "      <td>1046</td>\n",
       "      <td>-23.546129</td>\n",
       "      <td>-46.642951</td>\n",
       "      <td>sao paulo</td>\n",
       "      <td>SP</td>\n",
       "    </tr>\n",
       "    <tr>\n",
       "      <th>3</th>\n",
       "      <td>1041</td>\n",
       "      <td>-23.544392</td>\n",
       "      <td>-46.639499</td>\n",
       "      <td>sao paulo</td>\n",
       "      <td>SP</td>\n",
       "    </tr>\n",
       "    <tr>\n",
       "      <th>4</th>\n",
       "      <td>1035</td>\n",
       "      <td>-23.541578</td>\n",
       "      <td>-46.641607</td>\n",
       "      <td>sao paulo</td>\n",
       "      <td>SP</td>\n",
       "    </tr>\n",
       "  </tbody>\n",
       "</table>\n",
       "</div>"
      ],
      "text/plain": [
       "   geolocation_zip_code_prefix  geolocation_lat  geolocation_lng  \\\n",
       "0                         1037       -23.545621       -46.639292   \n",
       "1                         1046       -23.546081       -46.644820   \n",
       "2                         1046       -23.546129       -46.642951   \n",
       "3                         1041       -23.544392       -46.639499   \n",
       "4                         1035       -23.541578       -46.641607   \n",
       "\n",
       "  geolocation_city geolocation_state  \n",
       "0        sao paulo                SP  \n",
       "1        sao paulo                SP  \n",
       "2        sao paulo                SP  \n",
       "3        sao paulo                SP  \n",
       "4        sao paulo                SP  "
      ]
     },
     "execution_count": 5,
     "metadata": {},
     "output_type": "execute_result"
    }
   ],
   "source": [
    "geolocation_df = pd.read_csv('./data/E-Commerce Public Dataset/geolocation_dataset.csv')\n",
    "geolocation_df.head()"
   ]
  },
  {
   "cell_type": "code",
   "execution_count": 6,
   "metadata": {
    "colab": {
     "base_uri": "https://localhost:8080/",
     "height": 226
    },
    "id": "vhVTfmg7uod0",
    "outputId": "8f6a9765-0002-42c9-eca0-4a0fa8949e4f"
   },
   "outputs": [
    {
     "data": {
      "text/html": [
       "<div>\n",
       "<style scoped>\n",
       "    .dataframe tbody tr th:only-of-type {\n",
       "        vertical-align: middle;\n",
       "    }\n",
       "\n",
       "    .dataframe tbody tr th {\n",
       "        vertical-align: top;\n",
       "    }\n",
       "\n",
       "    .dataframe thead th {\n",
       "        text-align: right;\n",
       "    }\n",
       "</style>\n",
       "<table border=\"1\" class=\"dataframe\">\n",
       "  <thead>\n",
       "    <tr style=\"text-align: right;\">\n",
       "      <th></th>\n",
       "      <th>order_id</th>\n",
       "      <th>order_item_id</th>\n",
       "      <th>product_id</th>\n",
       "      <th>seller_id</th>\n",
       "      <th>shipping_limit_date</th>\n",
       "      <th>price</th>\n",
       "      <th>freight_value</th>\n",
       "    </tr>\n",
       "  </thead>\n",
       "  <tbody>\n",
       "    <tr>\n",
       "      <th>0</th>\n",
       "      <td>00010242fe8c5a6d1ba2dd792cb16214</td>\n",
       "      <td>1</td>\n",
       "      <td>4244733e06e7ecb4970a6e2683c13e61</td>\n",
       "      <td>48436dade18ac8b2bce089ec2a041202</td>\n",
       "      <td>2017-09-19 09:45:35</td>\n",
       "      <td>58.90</td>\n",
       "      <td>13.29</td>\n",
       "    </tr>\n",
       "    <tr>\n",
       "      <th>1</th>\n",
       "      <td>00018f77f2f0320c557190d7a144bdd3</td>\n",
       "      <td>1</td>\n",
       "      <td>e5f2d52b802189ee658865ca93d83a8f</td>\n",
       "      <td>dd7ddc04e1b6c2c614352b383efe2d36</td>\n",
       "      <td>2017-05-03 11:05:13</td>\n",
       "      <td>239.90</td>\n",
       "      <td>19.93</td>\n",
       "    </tr>\n",
       "    <tr>\n",
       "      <th>2</th>\n",
       "      <td>000229ec398224ef6ca0657da4fc703e</td>\n",
       "      <td>1</td>\n",
       "      <td>c777355d18b72b67abbeef9df44fd0fd</td>\n",
       "      <td>5b51032eddd242adc84c38acab88f23d</td>\n",
       "      <td>2018-01-18 14:48:30</td>\n",
       "      <td>199.00</td>\n",
       "      <td>17.87</td>\n",
       "    </tr>\n",
       "    <tr>\n",
       "      <th>3</th>\n",
       "      <td>00024acbcdf0a6daa1e931b038114c75</td>\n",
       "      <td>1</td>\n",
       "      <td>7634da152a4610f1595efa32f14722fc</td>\n",
       "      <td>9d7a1d34a5052409006425275ba1c2b4</td>\n",
       "      <td>2018-08-15 10:10:18</td>\n",
       "      <td>12.99</td>\n",
       "      <td>12.79</td>\n",
       "    </tr>\n",
       "    <tr>\n",
       "      <th>4</th>\n",
       "      <td>00042b26cf59d7ce69dfabb4e55b4fd9</td>\n",
       "      <td>1</td>\n",
       "      <td>ac6c3623068f30de03045865e4e10089</td>\n",
       "      <td>df560393f3a51e74553ab94004ba5c87</td>\n",
       "      <td>2017-02-13 13:57:51</td>\n",
       "      <td>199.90</td>\n",
       "      <td>18.14</td>\n",
       "    </tr>\n",
       "  </tbody>\n",
       "</table>\n",
       "</div>"
      ],
      "text/plain": [
       "                           order_id  order_item_id  \\\n",
       "0  00010242fe8c5a6d1ba2dd792cb16214              1   \n",
       "1  00018f77f2f0320c557190d7a144bdd3              1   \n",
       "2  000229ec398224ef6ca0657da4fc703e              1   \n",
       "3  00024acbcdf0a6daa1e931b038114c75              1   \n",
       "4  00042b26cf59d7ce69dfabb4e55b4fd9              1   \n",
       "\n",
       "                         product_id                         seller_id  \\\n",
       "0  4244733e06e7ecb4970a6e2683c13e61  48436dade18ac8b2bce089ec2a041202   \n",
       "1  e5f2d52b802189ee658865ca93d83a8f  dd7ddc04e1b6c2c614352b383efe2d36   \n",
       "2  c777355d18b72b67abbeef9df44fd0fd  5b51032eddd242adc84c38acab88f23d   \n",
       "3  7634da152a4610f1595efa32f14722fc  9d7a1d34a5052409006425275ba1c2b4   \n",
       "4  ac6c3623068f30de03045865e4e10089  df560393f3a51e74553ab94004ba5c87   \n",
       "\n",
       "   shipping_limit_date   price  freight_value  \n",
       "0  2017-09-19 09:45:35   58.90          13.29  \n",
       "1  2017-05-03 11:05:13  239.90          19.93  \n",
       "2  2018-01-18 14:48:30  199.00          17.87  \n",
       "3  2018-08-15 10:10:18   12.99          12.79  \n",
       "4  2017-02-13 13:57:51  199.90          18.14  "
      ]
     },
     "execution_count": 6,
     "metadata": {},
     "output_type": "execute_result"
    }
   ],
   "source": [
    "order_items_df = pd.read_csv('./data/E-Commerce Public Dataset/order_items_dataset.csv')\n",
    "order_items_df.head()"
   ]
  },
  {
   "cell_type": "code",
   "execution_count": 7,
   "metadata": {
    "colab": {
     "base_uri": "https://localhost:8080/",
     "height": 206
    },
    "id": "fwb9_UUTyG8-",
    "outputId": "36bab3ba-b5b3-40b4-f3d2-5c22421cacdf"
   },
   "outputs": [
    {
     "data": {
      "text/html": [
       "<div>\n",
       "<style scoped>\n",
       "    .dataframe tbody tr th:only-of-type {\n",
       "        vertical-align: middle;\n",
       "    }\n",
       "\n",
       "    .dataframe tbody tr th {\n",
       "        vertical-align: top;\n",
       "    }\n",
       "\n",
       "    .dataframe thead th {\n",
       "        text-align: right;\n",
       "    }\n",
       "</style>\n",
       "<table border=\"1\" class=\"dataframe\">\n",
       "  <thead>\n",
       "    <tr style=\"text-align: right;\">\n",
       "      <th></th>\n",
       "      <th>order_id</th>\n",
       "      <th>payment_sequential</th>\n",
       "      <th>payment_type</th>\n",
       "      <th>payment_installments</th>\n",
       "      <th>payment_value</th>\n",
       "    </tr>\n",
       "  </thead>\n",
       "  <tbody>\n",
       "    <tr>\n",
       "      <th>0</th>\n",
       "      <td>b81ef226f3fe1789b1e8b2acac839d17</td>\n",
       "      <td>1</td>\n",
       "      <td>credit_card</td>\n",
       "      <td>8</td>\n",
       "      <td>99.33</td>\n",
       "    </tr>\n",
       "    <tr>\n",
       "      <th>1</th>\n",
       "      <td>a9810da82917af2d9aefd1278f1dcfa0</td>\n",
       "      <td>1</td>\n",
       "      <td>credit_card</td>\n",
       "      <td>1</td>\n",
       "      <td>24.39</td>\n",
       "    </tr>\n",
       "    <tr>\n",
       "      <th>2</th>\n",
       "      <td>25e8ea4e93396b6fa0d3dd708e76c1bd</td>\n",
       "      <td>1</td>\n",
       "      <td>credit_card</td>\n",
       "      <td>1</td>\n",
       "      <td>65.71</td>\n",
       "    </tr>\n",
       "    <tr>\n",
       "      <th>3</th>\n",
       "      <td>ba78997921bbcdc1373bb41e913ab953</td>\n",
       "      <td>1</td>\n",
       "      <td>credit_card</td>\n",
       "      <td>8</td>\n",
       "      <td>107.78</td>\n",
       "    </tr>\n",
       "    <tr>\n",
       "      <th>4</th>\n",
       "      <td>42fdf880ba16b47b59251dd489d4441a</td>\n",
       "      <td>1</td>\n",
       "      <td>credit_card</td>\n",
       "      <td>2</td>\n",
       "      <td>128.45</td>\n",
       "    </tr>\n",
       "  </tbody>\n",
       "</table>\n",
       "</div>"
      ],
      "text/plain": [
       "                           order_id  payment_sequential payment_type  \\\n",
       "0  b81ef226f3fe1789b1e8b2acac839d17                   1  credit_card   \n",
       "1  a9810da82917af2d9aefd1278f1dcfa0                   1  credit_card   \n",
       "2  25e8ea4e93396b6fa0d3dd708e76c1bd                   1  credit_card   \n",
       "3  ba78997921bbcdc1373bb41e913ab953                   1  credit_card   \n",
       "4  42fdf880ba16b47b59251dd489d4441a                   1  credit_card   \n",
       "\n",
       "   payment_installments  payment_value  \n",
       "0                     8          99.33  \n",
       "1                     1          24.39  \n",
       "2                     1          65.71  \n",
       "3                     8         107.78  \n",
       "4                     2         128.45  "
      ]
     },
     "execution_count": 7,
     "metadata": {},
     "output_type": "execute_result"
    }
   ],
   "source": [
    "order_payment_df = pd.read_csv('./data/E-Commerce Public Dataset/order_payments_dataset.csv')\n",
    "order_payment_df.head()"
   ]
  },
  {
   "cell_type": "code",
   "execution_count": 8,
   "metadata": {
    "colab": {
     "base_uri": "https://localhost:8080/",
     "height": 261
    },
    "id": "rp2gVKRJyJqp",
    "outputId": "b78c883d-aab3-46e3-8ecd-a0ed72a83093"
   },
   "outputs": [
    {
     "data": {
      "text/html": [
       "<div>\n",
       "<style scoped>\n",
       "    .dataframe tbody tr th:only-of-type {\n",
       "        vertical-align: middle;\n",
       "    }\n",
       "\n",
       "    .dataframe tbody tr th {\n",
       "        vertical-align: top;\n",
       "    }\n",
       "\n",
       "    .dataframe thead th {\n",
       "        text-align: right;\n",
       "    }\n",
       "</style>\n",
       "<table border=\"1\" class=\"dataframe\">\n",
       "  <thead>\n",
       "    <tr style=\"text-align: right;\">\n",
       "      <th></th>\n",
       "      <th>review_id</th>\n",
       "      <th>order_id</th>\n",
       "      <th>review_score</th>\n",
       "      <th>review_comment_title</th>\n",
       "      <th>review_comment_message</th>\n",
       "      <th>review_creation_date</th>\n",
       "      <th>review_answer_timestamp</th>\n",
       "    </tr>\n",
       "  </thead>\n",
       "  <tbody>\n",
       "    <tr>\n",
       "      <th>0</th>\n",
       "      <td>7bc2406110b926393aa56f80a40eba40</td>\n",
       "      <td>73fc7af87114b39712e6da79b0a377eb</td>\n",
       "      <td>4</td>\n",
       "      <td>NaN</td>\n",
       "      <td>NaN</td>\n",
       "      <td>2018-01-18 00:00:00</td>\n",
       "      <td>2018-01-18 21:46:59</td>\n",
       "    </tr>\n",
       "    <tr>\n",
       "      <th>1</th>\n",
       "      <td>80e641a11e56f04c1ad469d5645fdfde</td>\n",
       "      <td>a548910a1c6147796b98fdf73dbeba33</td>\n",
       "      <td>5</td>\n",
       "      <td>NaN</td>\n",
       "      <td>NaN</td>\n",
       "      <td>2018-03-10 00:00:00</td>\n",
       "      <td>2018-03-11 03:05:13</td>\n",
       "    </tr>\n",
       "    <tr>\n",
       "      <th>2</th>\n",
       "      <td>228ce5500dc1d8e020d8d1322874b6f0</td>\n",
       "      <td>f9e4b658b201a9f2ecdecbb34bed034b</td>\n",
       "      <td>5</td>\n",
       "      <td>NaN</td>\n",
       "      <td>NaN</td>\n",
       "      <td>2018-02-17 00:00:00</td>\n",
       "      <td>2018-02-18 14:36:24</td>\n",
       "    </tr>\n",
       "    <tr>\n",
       "      <th>3</th>\n",
       "      <td>e64fb393e7b32834bb789ff8bb30750e</td>\n",
       "      <td>658677c97b385a9be170737859d3511b</td>\n",
       "      <td>5</td>\n",
       "      <td>NaN</td>\n",
       "      <td>Recebi bem antes do prazo estipulado.</td>\n",
       "      <td>2017-04-21 00:00:00</td>\n",
       "      <td>2017-04-21 22:02:06</td>\n",
       "    </tr>\n",
       "    <tr>\n",
       "      <th>4</th>\n",
       "      <td>f7c4243c7fe1938f181bec41a392bdeb</td>\n",
       "      <td>8e6bfb81e283fa7e4f11123a3fb894f1</td>\n",
       "      <td>5</td>\n",
       "      <td>NaN</td>\n",
       "      <td>Parabéns lojas lannister adorei comprar pela I...</td>\n",
       "      <td>2018-03-01 00:00:00</td>\n",
       "      <td>2018-03-02 10:26:53</td>\n",
       "    </tr>\n",
       "  </tbody>\n",
       "</table>\n",
       "</div>"
      ],
      "text/plain": [
       "                          review_id                          order_id  \\\n",
       "0  7bc2406110b926393aa56f80a40eba40  73fc7af87114b39712e6da79b0a377eb   \n",
       "1  80e641a11e56f04c1ad469d5645fdfde  a548910a1c6147796b98fdf73dbeba33   \n",
       "2  228ce5500dc1d8e020d8d1322874b6f0  f9e4b658b201a9f2ecdecbb34bed034b   \n",
       "3  e64fb393e7b32834bb789ff8bb30750e  658677c97b385a9be170737859d3511b   \n",
       "4  f7c4243c7fe1938f181bec41a392bdeb  8e6bfb81e283fa7e4f11123a3fb894f1   \n",
       "\n",
       "   review_score review_comment_title  \\\n",
       "0             4                  NaN   \n",
       "1             5                  NaN   \n",
       "2             5                  NaN   \n",
       "3             5                  NaN   \n",
       "4             5                  NaN   \n",
       "\n",
       "                              review_comment_message review_creation_date  \\\n",
       "0                                                NaN  2018-01-18 00:00:00   \n",
       "1                                                NaN  2018-03-10 00:00:00   \n",
       "2                                                NaN  2018-02-17 00:00:00   \n",
       "3              Recebi bem antes do prazo estipulado.  2017-04-21 00:00:00   \n",
       "4  Parabéns lojas lannister adorei comprar pela I...  2018-03-01 00:00:00   \n",
       "\n",
       "  review_answer_timestamp  \n",
       "0     2018-01-18 21:46:59  \n",
       "1     2018-03-11 03:05:13  \n",
       "2     2018-02-18 14:36:24  \n",
       "3     2017-04-21 22:02:06  \n",
       "4     2018-03-02 10:26:53  "
      ]
     },
     "execution_count": 8,
     "metadata": {},
     "output_type": "execute_result"
    }
   ],
   "source": [
    "order_reviews_df = pd.read_csv('./data/E-Commerce Public Dataset/order_reviews_dataset.csv')\n",
    "order_reviews_df.head()"
   ]
  },
  {
   "cell_type": "code",
   "execution_count": 9,
   "metadata": {
    "colab": {
     "base_uri": "https://localhost:8080/",
     "height": 226
    },
    "id": "A7zWrbDGyLNG",
    "outputId": "232615a3-717d-42d2-9c79-26dc4425c034"
   },
   "outputs": [
    {
     "data": {
      "text/html": [
       "<div>\n",
       "<style scoped>\n",
       "    .dataframe tbody tr th:only-of-type {\n",
       "        vertical-align: middle;\n",
       "    }\n",
       "\n",
       "    .dataframe tbody tr th {\n",
       "        vertical-align: top;\n",
       "    }\n",
       "\n",
       "    .dataframe thead th {\n",
       "        text-align: right;\n",
       "    }\n",
       "</style>\n",
       "<table border=\"1\" class=\"dataframe\">\n",
       "  <thead>\n",
       "    <tr style=\"text-align: right;\">\n",
       "      <th></th>\n",
       "      <th>order_id</th>\n",
       "      <th>customer_id</th>\n",
       "      <th>order_status</th>\n",
       "      <th>order_purchase_timestamp</th>\n",
       "      <th>order_approved_at</th>\n",
       "      <th>order_delivered_carrier_date</th>\n",
       "      <th>order_delivered_customer_date</th>\n",
       "      <th>order_estimated_delivery_date</th>\n",
       "    </tr>\n",
       "  </thead>\n",
       "  <tbody>\n",
       "    <tr>\n",
       "      <th>0</th>\n",
       "      <td>e481f51cbdc54678b7cc49136f2d6af7</td>\n",
       "      <td>9ef432eb6251297304e76186b10a928d</td>\n",
       "      <td>delivered</td>\n",
       "      <td>2017-10-02 10:56:33</td>\n",
       "      <td>2017-10-02 11:07:15</td>\n",
       "      <td>2017-10-04 19:55:00</td>\n",
       "      <td>2017-10-10 21:25:13</td>\n",
       "      <td>2017-10-18 00:00:00</td>\n",
       "    </tr>\n",
       "    <tr>\n",
       "      <th>1</th>\n",
       "      <td>53cdb2fc8bc7dce0b6741e2150273451</td>\n",
       "      <td>b0830fb4747a6c6d20dea0b8c802d7ef</td>\n",
       "      <td>delivered</td>\n",
       "      <td>2018-07-24 20:41:37</td>\n",
       "      <td>2018-07-26 03:24:27</td>\n",
       "      <td>2018-07-26 14:31:00</td>\n",
       "      <td>2018-08-07 15:27:45</td>\n",
       "      <td>2018-08-13 00:00:00</td>\n",
       "    </tr>\n",
       "    <tr>\n",
       "      <th>2</th>\n",
       "      <td>47770eb9100c2d0c44946d9cf07ec65d</td>\n",
       "      <td>41ce2a54c0b03bf3443c3d931a367089</td>\n",
       "      <td>delivered</td>\n",
       "      <td>2018-08-08 08:38:49</td>\n",
       "      <td>2018-08-08 08:55:23</td>\n",
       "      <td>2018-08-08 13:50:00</td>\n",
       "      <td>2018-08-17 18:06:29</td>\n",
       "      <td>2018-09-04 00:00:00</td>\n",
       "    </tr>\n",
       "    <tr>\n",
       "      <th>3</th>\n",
       "      <td>949d5b44dbf5de918fe9c16f97b45f8a</td>\n",
       "      <td>f88197465ea7920adcdbec7375364d82</td>\n",
       "      <td>delivered</td>\n",
       "      <td>2017-11-18 19:28:06</td>\n",
       "      <td>2017-11-18 19:45:59</td>\n",
       "      <td>2017-11-22 13:39:59</td>\n",
       "      <td>2017-12-02 00:28:42</td>\n",
       "      <td>2017-12-15 00:00:00</td>\n",
       "    </tr>\n",
       "    <tr>\n",
       "      <th>4</th>\n",
       "      <td>ad21c59c0840e6cb83a9ceb5573f8159</td>\n",
       "      <td>8ab97904e6daea8866dbdbc4fb7aad2c</td>\n",
       "      <td>delivered</td>\n",
       "      <td>2018-02-13 21:18:39</td>\n",
       "      <td>2018-02-13 22:20:29</td>\n",
       "      <td>2018-02-14 19:46:34</td>\n",
       "      <td>2018-02-16 18:17:02</td>\n",
       "      <td>2018-02-26 00:00:00</td>\n",
       "    </tr>\n",
       "  </tbody>\n",
       "</table>\n",
       "</div>"
      ],
      "text/plain": [
       "                           order_id                       customer_id  \\\n",
       "0  e481f51cbdc54678b7cc49136f2d6af7  9ef432eb6251297304e76186b10a928d   \n",
       "1  53cdb2fc8bc7dce0b6741e2150273451  b0830fb4747a6c6d20dea0b8c802d7ef   \n",
       "2  47770eb9100c2d0c44946d9cf07ec65d  41ce2a54c0b03bf3443c3d931a367089   \n",
       "3  949d5b44dbf5de918fe9c16f97b45f8a  f88197465ea7920adcdbec7375364d82   \n",
       "4  ad21c59c0840e6cb83a9ceb5573f8159  8ab97904e6daea8866dbdbc4fb7aad2c   \n",
       "\n",
       "  order_status order_purchase_timestamp    order_approved_at  \\\n",
       "0    delivered      2017-10-02 10:56:33  2017-10-02 11:07:15   \n",
       "1    delivered      2018-07-24 20:41:37  2018-07-26 03:24:27   \n",
       "2    delivered      2018-08-08 08:38:49  2018-08-08 08:55:23   \n",
       "3    delivered      2017-11-18 19:28:06  2017-11-18 19:45:59   \n",
       "4    delivered      2018-02-13 21:18:39  2018-02-13 22:20:29   \n",
       "\n",
       "  order_delivered_carrier_date order_delivered_customer_date  \\\n",
       "0          2017-10-04 19:55:00           2017-10-10 21:25:13   \n",
       "1          2018-07-26 14:31:00           2018-08-07 15:27:45   \n",
       "2          2018-08-08 13:50:00           2018-08-17 18:06:29   \n",
       "3          2017-11-22 13:39:59           2017-12-02 00:28:42   \n",
       "4          2018-02-14 19:46:34           2018-02-16 18:17:02   \n",
       "\n",
       "  order_estimated_delivery_date  \n",
       "0           2017-10-18 00:00:00  \n",
       "1           2018-08-13 00:00:00  \n",
       "2           2018-09-04 00:00:00  \n",
       "3           2017-12-15 00:00:00  \n",
       "4           2018-02-26 00:00:00  "
      ]
     },
     "execution_count": 9,
     "metadata": {},
     "output_type": "execute_result"
    }
   ],
   "source": [
    "orders_df = pd.read_csv('./data/E-Commerce Public Dataset/orders_dataset.csv')\n",
    "orders_df.head()"
   ]
  },
  {
   "cell_type": "code",
   "execution_count": 10,
   "metadata": {
    "colab": {
     "base_uri": "https://localhost:8080/",
     "height": 206
    },
    "id": "8uAQPgeVz9yA",
    "outputId": "15134dc1-0ae3-4237-a94b-f67c64926ae2"
   },
   "outputs": [
    {
     "data": {
      "text/html": [
       "<div>\n",
       "<style scoped>\n",
       "    .dataframe tbody tr th:only-of-type {\n",
       "        vertical-align: middle;\n",
       "    }\n",
       "\n",
       "    .dataframe tbody tr th {\n",
       "        vertical-align: top;\n",
       "    }\n",
       "\n",
       "    .dataframe thead th {\n",
       "        text-align: right;\n",
       "    }\n",
       "</style>\n",
       "<table border=\"1\" class=\"dataframe\">\n",
       "  <thead>\n",
       "    <tr style=\"text-align: right;\">\n",
       "      <th></th>\n",
       "      <th>product_category_name</th>\n",
       "      <th>product_category_name_english</th>\n",
       "    </tr>\n",
       "  </thead>\n",
       "  <tbody>\n",
       "    <tr>\n",
       "      <th>0</th>\n",
       "      <td>beleza_saude</td>\n",
       "      <td>health_beauty</td>\n",
       "    </tr>\n",
       "    <tr>\n",
       "      <th>1</th>\n",
       "      <td>informatica_acessorios</td>\n",
       "      <td>computers_accessories</td>\n",
       "    </tr>\n",
       "    <tr>\n",
       "      <th>2</th>\n",
       "      <td>automotivo</td>\n",
       "      <td>auto</td>\n",
       "    </tr>\n",
       "    <tr>\n",
       "      <th>3</th>\n",
       "      <td>cama_mesa_banho</td>\n",
       "      <td>bed_bath_table</td>\n",
       "    </tr>\n",
       "    <tr>\n",
       "      <th>4</th>\n",
       "      <td>moveis_decoracao</td>\n",
       "      <td>furniture_decor</td>\n",
       "    </tr>\n",
       "  </tbody>\n",
       "</table>\n",
       "</div>"
      ],
      "text/plain": [
       "    product_category_name product_category_name_english\n",
       "0            beleza_saude                 health_beauty\n",
       "1  informatica_acessorios         computers_accessories\n",
       "2              automotivo                          auto\n",
       "3         cama_mesa_banho                bed_bath_table\n",
       "4        moveis_decoracao               furniture_decor"
      ]
     },
     "execution_count": 10,
     "metadata": {},
     "output_type": "execute_result"
    }
   ],
   "source": [
    "product_category_df = pd.read_csv('./data/E-Commerce Public Dataset/product_category_name_translation.csv')\n",
    "product_category_df.head()"
   ]
  },
  {
   "cell_type": "code",
   "execution_count": 11,
   "metadata": {
    "colab": {
     "base_uri": "https://localhost:8080/",
     "height": 226
    },
    "id": "tCkrow4lyOeO",
    "outputId": "54b277e7-bca3-48b2-d32a-b1625cd4193a"
   },
   "outputs": [
    {
     "data": {
      "text/html": [
       "<div>\n",
       "<style scoped>\n",
       "    .dataframe tbody tr th:only-of-type {\n",
       "        vertical-align: middle;\n",
       "    }\n",
       "\n",
       "    .dataframe tbody tr th {\n",
       "        vertical-align: top;\n",
       "    }\n",
       "\n",
       "    .dataframe thead th {\n",
       "        text-align: right;\n",
       "    }\n",
       "</style>\n",
       "<table border=\"1\" class=\"dataframe\">\n",
       "  <thead>\n",
       "    <tr style=\"text-align: right;\">\n",
       "      <th></th>\n",
       "      <th>product_id</th>\n",
       "      <th>product_category_name</th>\n",
       "      <th>product_name_lenght</th>\n",
       "      <th>product_description_lenght</th>\n",
       "      <th>product_photos_qty</th>\n",
       "      <th>product_weight_g</th>\n",
       "      <th>product_length_cm</th>\n",
       "      <th>product_height_cm</th>\n",
       "      <th>product_width_cm</th>\n",
       "    </tr>\n",
       "  </thead>\n",
       "  <tbody>\n",
       "    <tr>\n",
       "      <th>0</th>\n",
       "      <td>1e9e8ef04dbcff4541ed26657ea517e5</td>\n",
       "      <td>perfumaria</td>\n",
       "      <td>40.0</td>\n",
       "      <td>287.0</td>\n",
       "      <td>1.0</td>\n",
       "      <td>225.0</td>\n",
       "      <td>16.0</td>\n",
       "      <td>10.0</td>\n",
       "      <td>14.0</td>\n",
       "    </tr>\n",
       "    <tr>\n",
       "      <th>1</th>\n",
       "      <td>3aa071139cb16b67ca9e5dea641aaa2f</td>\n",
       "      <td>artes</td>\n",
       "      <td>44.0</td>\n",
       "      <td>276.0</td>\n",
       "      <td>1.0</td>\n",
       "      <td>1000.0</td>\n",
       "      <td>30.0</td>\n",
       "      <td>18.0</td>\n",
       "      <td>20.0</td>\n",
       "    </tr>\n",
       "    <tr>\n",
       "      <th>2</th>\n",
       "      <td>96bd76ec8810374ed1b65e291975717f</td>\n",
       "      <td>esporte_lazer</td>\n",
       "      <td>46.0</td>\n",
       "      <td>250.0</td>\n",
       "      <td>1.0</td>\n",
       "      <td>154.0</td>\n",
       "      <td>18.0</td>\n",
       "      <td>9.0</td>\n",
       "      <td>15.0</td>\n",
       "    </tr>\n",
       "    <tr>\n",
       "      <th>3</th>\n",
       "      <td>cef67bcfe19066a932b7673e239eb23d</td>\n",
       "      <td>bebes</td>\n",
       "      <td>27.0</td>\n",
       "      <td>261.0</td>\n",
       "      <td>1.0</td>\n",
       "      <td>371.0</td>\n",
       "      <td>26.0</td>\n",
       "      <td>4.0</td>\n",
       "      <td>26.0</td>\n",
       "    </tr>\n",
       "    <tr>\n",
       "      <th>4</th>\n",
       "      <td>9dc1a7de274444849c219cff195d0b71</td>\n",
       "      <td>utilidades_domesticas</td>\n",
       "      <td>37.0</td>\n",
       "      <td>402.0</td>\n",
       "      <td>4.0</td>\n",
       "      <td>625.0</td>\n",
       "      <td>20.0</td>\n",
       "      <td>17.0</td>\n",
       "      <td>13.0</td>\n",
       "    </tr>\n",
       "  </tbody>\n",
       "</table>\n",
       "</div>"
      ],
      "text/plain": [
       "                         product_id  product_category_name  \\\n",
       "0  1e9e8ef04dbcff4541ed26657ea517e5             perfumaria   \n",
       "1  3aa071139cb16b67ca9e5dea641aaa2f                  artes   \n",
       "2  96bd76ec8810374ed1b65e291975717f          esporte_lazer   \n",
       "3  cef67bcfe19066a932b7673e239eb23d                  bebes   \n",
       "4  9dc1a7de274444849c219cff195d0b71  utilidades_domesticas   \n",
       "\n",
       "   product_name_lenght  product_description_lenght  product_photos_qty  \\\n",
       "0                 40.0                       287.0                 1.0   \n",
       "1                 44.0                       276.0                 1.0   \n",
       "2                 46.0                       250.0                 1.0   \n",
       "3                 27.0                       261.0                 1.0   \n",
       "4                 37.0                       402.0                 4.0   \n",
       "\n",
       "   product_weight_g  product_length_cm  product_height_cm  product_width_cm  \n",
       "0             225.0               16.0               10.0              14.0  \n",
       "1            1000.0               30.0               18.0              20.0  \n",
       "2             154.0               18.0                9.0              15.0  \n",
       "3             371.0               26.0                4.0              26.0  \n",
       "4             625.0               20.0               17.0              13.0  "
      ]
     },
     "execution_count": 11,
     "metadata": {},
     "output_type": "execute_result"
    }
   ],
   "source": [
    "products_df = pd.read_csv('./data/E-Commerce Public Dataset/products_dataset.csv')\n",
    "products_df.head()"
   ]
  },
  {
   "cell_type": "code",
   "execution_count": 12,
   "metadata": {
    "colab": {
     "base_uri": "https://localhost:8080/",
     "height": 206
    },
    "id": "N2_zueqlyPYS",
    "outputId": "c1e579b2-cec3-4aec-cb90-536786a681d3"
   },
   "outputs": [
    {
     "data": {
      "text/html": [
       "<div>\n",
       "<style scoped>\n",
       "    .dataframe tbody tr th:only-of-type {\n",
       "        vertical-align: middle;\n",
       "    }\n",
       "\n",
       "    .dataframe tbody tr th {\n",
       "        vertical-align: top;\n",
       "    }\n",
       "\n",
       "    .dataframe thead th {\n",
       "        text-align: right;\n",
       "    }\n",
       "</style>\n",
       "<table border=\"1\" class=\"dataframe\">\n",
       "  <thead>\n",
       "    <tr style=\"text-align: right;\">\n",
       "      <th></th>\n",
       "      <th>seller_id</th>\n",
       "      <th>seller_zip_code_prefix</th>\n",
       "      <th>seller_city</th>\n",
       "      <th>seller_state</th>\n",
       "    </tr>\n",
       "  </thead>\n",
       "  <tbody>\n",
       "    <tr>\n",
       "      <th>0</th>\n",
       "      <td>3442f8959a84dea7ee197c632cb2df15</td>\n",
       "      <td>13023</td>\n",
       "      <td>campinas</td>\n",
       "      <td>SP</td>\n",
       "    </tr>\n",
       "    <tr>\n",
       "      <th>1</th>\n",
       "      <td>d1b65fc7debc3361ea86b5f14c68d2e2</td>\n",
       "      <td>13844</td>\n",
       "      <td>mogi guacu</td>\n",
       "      <td>SP</td>\n",
       "    </tr>\n",
       "    <tr>\n",
       "      <th>2</th>\n",
       "      <td>ce3ad9de960102d0677a81f5d0bb7b2d</td>\n",
       "      <td>20031</td>\n",
       "      <td>rio de janeiro</td>\n",
       "      <td>RJ</td>\n",
       "    </tr>\n",
       "    <tr>\n",
       "      <th>3</th>\n",
       "      <td>c0f3eea2e14555b6faeea3dd58c1b1c3</td>\n",
       "      <td>4195</td>\n",
       "      <td>sao paulo</td>\n",
       "      <td>SP</td>\n",
       "    </tr>\n",
       "    <tr>\n",
       "      <th>4</th>\n",
       "      <td>51a04a8a6bdcb23deccc82b0b80742cf</td>\n",
       "      <td>12914</td>\n",
       "      <td>braganca paulista</td>\n",
       "      <td>SP</td>\n",
       "    </tr>\n",
       "  </tbody>\n",
       "</table>\n",
       "</div>"
      ],
      "text/plain": [
       "                          seller_id  seller_zip_code_prefix  \\\n",
       "0  3442f8959a84dea7ee197c632cb2df15                   13023   \n",
       "1  d1b65fc7debc3361ea86b5f14c68d2e2                   13844   \n",
       "2  ce3ad9de960102d0677a81f5d0bb7b2d                   20031   \n",
       "3  c0f3eea2e14555b6faeea3dd58c1b1c3                    4195   \n",
       "4  51a04a8a6bdcb23deccc82b0b80742cf                   12914   \n",
       "\n",
       "         seller_city seller_state  \n",
       "0           campinas           SP  \n",
       "1         mogi guacu           SP  \n",
       "2     rio de janeiro           RJ  \n",
       "3          sao paulo           SP  \n",
       "4  braganca paulista           SP  "
      ]
     },
     "execution_count": 12,
     "metadata": {},
     "output_type": "execute_result"
    }
   ],
   "source": [
    "sellers_df = pd.read_csv('./data/E-Commerce Public Dataset/sellers_dataset.csv')\n",
    "sellers_df.head()"
   ]
  },
  {
   "cell_type": "markdown",
   "metadata": {
    "id": "BvZAfrSH9F2U"
   },
   "source": [
    "### Assessing Data"
   ]
  },
  {
   "cell_type": "code",
   "execution_count": 13,
   "metadata": {
    "id": "wnQYo6HE1yiV"
   },
   "outputs": [],
   "source": [
    "def analyze_table(df):\n",
    "    # Print info table\n",
    "    print(f\"\\n---Info Tabel---\\n\")\n",
    "    df.info()\n",
    "\n",
    "    # Print missing values table\n",
    "    print(f\"\\n---Missing Value---\\n\")\n",
    "    print(df.isna().sum())\n",
    "\n",
    "    # Print duplicated values count\n",
    "    print(f\"\\n---Duplikat---\\n\")\n",
    "    print(df.duplicated().sum())\n",
    "\n",
    "    # Print table description\n",
    "    print(f\"\\n---Deskripsi Tabel---\\n\")\n",
    "    print(df.describe())"
   ]
  },
  {
   "cell_type": "markdown",
   "metadata": {
    "id": "Rfx3XLuQ1kKC"
   },
   "source": [
    "#### Info tabel customers"
   ]
  },
  {
   "cell_type": "code",
   "execution_count": 14,
   "metadata": {
    "colab": {
     "base_uri": "https://localhost:8080/"
    },
    "id": "tRpFWixv5WZX",
    "outputId": "b2ab57ff-1622-42f8-b4f9-d90eb8b49c98"
   },
   "outputs": [
    {
     "name": "stdout",
     "output_type": "stream",
     "text": [
      "\n",
      "---Info Tabel---\n",
      "\n",
      "<class 'pandas.core.frame.DataFrame'>\n",
      "RangeIndex: 99441 entries, 0 to 99440\n",
      "Data columns (total 5 columns):\n",
      " #   Column                    Non-Null Count  Dtype \n",
      "---  ------                    --------------  ----- \n",
      " 0   customer_id               99441 non-null  object\n",
      " 1   customer_unique_id        99441 non-null  object\n",
      " 2   customer_zip_code_prefix  99441 non-null  int64 \n",
      " 3   customer_city             99441 non-null  object\n",
      " 4   customer_state            99441 non-null  object\n",
      "dtypes: int64(1), object(4)\n",
      "memory usage: 3.8+ MB\n",
      "\n",
      "---Missing Value---\n",
      "\n",
      "customer_id                 0\n",
      "customer_unique_id          0\n",
      "customer_zip_code_prefix    0\n",
      "customer_city               0\n",
      "customer_state              0\n",
      "dtype: int64\n",
      "\n",
      "---Duplikat---\n",
      "\n",
      "0\n",
      "\n",
      "---Deskripsi Tabel---\n",
      "\n",
      "       customer_zip_code_prefix\n",
      "count              99441.000000\n",
      "mean               35137.474583\n",
      "std                29797.938996\n",
      "min                 1003.000000\n",
      "25%                11347.000000\n",
      "50%                24416.000000\n",
      "75%                58900.000000\n",
      "max                99990.000000\n"
     ]
    }
   ],
   "source": [
    "analyze_table(customers_df)"
   ]
  },
  {
   "cell_type": "markdown",
   "metadata": {
    "id": "HjlyxQbt6pls"
   },
   "source": [
    "#### Info tabel geolocation"
   ]
  },
  {
   "cell_type": "code",
   "execution_count": 15,
   "metadata": {
    "colab": {
     "base_uri": "https://localhost:8080/"
    },
    "id": "qnShMC4f6LFC",
    "outputId": "0c6ea89d-fd77-41b0-940c-bd9775e8227d"
   },
   "outputs": [
    {
     "name": "stdout",
     "output_type": "stream",
     "text": [
      "\n",
      "---Info Tabel---\n",
      "\n",
      "<class 'pandas.core.frame.DataFrame'>\n",
      "RangeIndex: 1000163 entries, 0 to 1000162\n",
      "Data columns (total 5 columns):\n",
      " #   Column                       Non-Null Count    Dtype  \n",
      "---  ------                       --------------    -----  \n",
      " 0   geolocation_zip_code_prefix  1000163 non-null  int64  \n",
      " 1   geolocation_lat              1000163 non-null  float64\n",
      " 2   geolocation_lng              1000163 non-null  float64\n",
      " 3   geolocation_city             1000163 non-null  object \n",
      " 4   geolocation_state            1000163 non-null  object \n",
      "dtypes: float64(2), int64(1), object(2)\n",
      "memory usage: 38.2+ MB\n",
      "\n",
      "---Missing Value---\n",
      "\n",
      "geolocation_zip_code_prefix    0\n",
      "geolocation_lat                0\n",
      "geolocation_lng                0\n",
      "geolocation_city               0\n",
      "geolocation_state              0\n",
      "dtype: int64\n",
      "\n",
      "---Duplikat---\n",
      "\n",
      "261831\n",
      "\n",
      "---Deskripsi Tabel---\n",
      "\n",
      "       geolocation_zip_code_prefix  geolocation_lat  geolocation_lng\n",
      "count                 1.000163e+06     1.000163e+06     1.000163e+06\n",
      "mean                  3.657417e+04    -2.117615e+01    -4.639054e+01\n",
      "std                   3.054934e+04     5.715866e+00     4.269748e+00\n",
      "min                   1.001000e+03    -3.660537e+01    -1.014668e+02\n",
      "25%                   1.107500e+04    -2.360355e+01    -4.857317e+01\n",
      "50%                   2.653000e+04    -2.291938e+01    -4.663788e+01\n",
      "75%                   6.350400e+04    -1.997962e+01    -4.376771e+01\n",
      "max                   9.999000e+04     4.506593e+01     1.211054e+02\n"
     ]
    }
   ],
   "source": [
    "analyze_table(geolocation_df)"
   ]
  },
  {
   "cell_type": "markdown",
   "metadata": {
    "id": "O_FpVAUU8hZd"
   },
   "source": [
    "##### Terdapat 261831 data duplikat pada tabel geolocation"
   ]
  },
  {
   "cell_type": "markdown",
   "metadata": {
    "id": "4x-nZ4Lf6u0D"
   },
   "source": [
    "#### Info tabel order_items"
   ]
  },
  {
   "cell_type": "code",
   "execution_count": 16,
   "metadata": {
    "colab": {
     "base_uri": "https://localhost:8080/"
    },
    "id": "6F9x94kQ6Nr7",
    "outputId": "173f11c4-53a3-456b-d74b-7fb45247504a"
   },
   "outputs": [
    {
     "name": "stdout",
     "output_type": "stream",
     "text": [
      "\n",
      "---Info Tabel---\n",
      "\n",
      "<class 'pandas.core.frame.DataFrame'>\n",
      "RangeIndex: 112650 entries, 0 to 112649\n",
      "Data columns (total 7 columns):\n",
      " #   Column               Non-Null Count   Dtype  \n",
      "---  ------               --------------   -----  \n",
      " 0   order_id             112650 non-null  object \n",
      " 1   order_item_id        112650 non-null  int64  \n",
      " 2   product_id           112650 non-null  object \n",
      " 3   seller_id            112650 non-null  object \n",
      " 4   shipping_limit_date  112650 non-null  object \n",
      " 5   price                112650 non-null  float64\n",
      " 6   freight_value        112650 non-null  float64\n",
      "dtypes: float64(2), int64(1), object(4)\n",
      "memory usage: 6.0+ MB\n",
      "\n",
      "---Missing Value---\n",
      "\n",
      "order_id               0\n",
      "order_item_id          0\n",
      "product_id             0\n",
      "seller_id              0\n",
      "shipping_limit_date    0\n",
      "price                  0\n",
      "freight_value          0\n",
      "dtype: int64\n",
      "\n",
      "---Duplikat---\n",
      "\n",
      "0\n",
      "\n",
      "---Deskripsi Tabel---\n",
      "\n",
      "       order_item_id          price  freight_value\n",
      "count  112650.000000  112650.000000  112650.000000\n",
      "mean        1.197834     120.653739      19.990320\n",
      "std         0.705124     183.633928      15.806405\n",
      "min         1.000000       0.850000       0.000000\n",
      "25%         1.000000      39.900000      13.080000\n",
      "50%         1.000000      74.990000      16.260000\n",
      "75%         1.000000     134.900000      21.150000\n",
      "max        21.000000    6735.000000     409.680000\n"
     ]
    }
   ],
   "source": [
    "analyze_table(order_items_df)"
   ]
  },
  {
   "cell_type": "markdown",
   "metadata": {
    "id": "f0Z6wqQODE2X"
   },
   "source": [
    "##### kolom shipping_limit_date bukan termasuk tipe data object"
   ]
  },
  {
   "cell_type": "markdown",
   "metadata": {
    "id": "lqyki3ZK6yoU"
   },
   "source": [
    "#### Info tabel order_payment"
   ]
  },
  {
   "cell_type": "code",
   "execution_count": 17,
   "metadata": {
    "colab": {
     "base_uri": "https://localhost:8080/"
    },
    "id": "gmEfti416N3Y",
    "outputId": "72f3c12e-ddfc-4689-ed95-44bedf6021c4"
   },
   "outputs": [
    {
     "name": "stdout",
     "output_type": "stream",
     "text": [
      "\n",
      "---Info Tabel---\n",
      "\n",
      "<class 'pandas.core.frame.DataFrame'>\n",
      "RangeIndex: 103886 entries, 0 to 103885\n",
      "Data columns (total 5 columns):\n",
      " #   Column                Non-Null Count   Dtype  \n",
      "---  ------                --------------   -----  \n",
      " 0   order_id              103886 non-null  object \n",
      " 1   payment_sequential    103886 non-null  int64  \n",
      " 2   payment_type          103886 non-null  object \n",
      " 3   payment_installments  103886 non-null  int64  \n",
      " 4   payment_value         103886 non-null  float64\n",
      "dtypes: float64(1), int64(2), object(2)\n",
      "memory usage: 4.0+ MB\n",
      "\n",
      "---Missing Value---\n",
      "\n",
      "order_id                0\n",
      "payment_sequential      0\n",
      "payment_type            0\n",
      "payment_installments    0\n",
      "payment_value           0\n",
      "dtype: int64\n",
      "\n",
      "---Duplikat---\n",
      "\n",
      "0\n",
      "\n",
      "---Deskripsi Tabel---\n",
      "\n",
      "       payment_sequential  payment_installments  payment_value\n",
      "count       103886.000000         103886.000000  103886.000000\n",
      "mean             1.092679              2.853349     154.100380\n",
      "std              0.706584              2.687051     217.494064\n",
      "min              1.000000              0.000000       0.000000\n",
      "25%              1.000000              1.000000      56.790000\n",
      "50%              1.000000              1.000000     100.000000\n",
      "75%              1.000000              4.000000     171.837500\n",
      "max             29.000000             24.000000   13664.080000\n"
     ]
    }
   ],
   "source": [
    "analyze_table(order_payment_df)"
   ]
  },
  {
   "cell_type": "markdown",
   "metadata": {
    "id": "crW8K9as69Je"
   },
   "source": [
    "#### Info tabel order_reviews"
   ]
  },
  {
   "cell_type": "code",
   "execution_count": 18,
   "metadata": {
    "colab": {
     "base_uri": "https://localhost:8080/"
    },
    "id": "Bt-exGIS6OAh",
    "outputId": "8d4f835f-c21e-470d-d656-3ea12761fbfa"
   },
   "outputs": [
    {
     "name": "stdout",
     "output_type": "stream",
     "text": [
      "\n",
      "---Info Tabel---\n",
      "\n",
      "<class 'pandas.core.frame.DataFrame'>\n",
      "RangeIndex: 99224 entries, 0 to 99223\n",
      "Data columns (total 7 columns):\n",
      " #   Column                   Non-Null Count  Dtype \n",
      "---  ------                   --------------  ----- \n",
      " 0   review_id                99224 non-null  object\n",
      " 1   order_id                 99224 non-null  object\n",
      " 2   review_score             99224 non-null  int64 \n",
      " 3   review_comment_title     11568 non-null  object\n",
      " 4   review_comment_message   40977 non-null  object\n",
      " 5   review_creation_date     99224 non-null  object\n",
      " 6   review_answer_timestamp  99224 non-null  object\n",
      "dtypes: int64(1), object(6)\n",
      "memory usage: 5.3+ MB\n",
      "\n",
      "---Missing Value---\n",
      "\n",
      "review_id                      0\n",
      "order_id                       0\n",
      "review_score                   0\n",
      "review_comment_title       87656\n",
      "review_comment_message     58247\n",
      "review_creation_date           0\n",
      "review_answer_timestamp        0\n",
      "dtype: int64\n",
      "\n",
      "---Duplikat---\n",
      "\n",
      "0\n",
      "\n",
      "---Deskripsi Tabel---\n",
      "\n",
      "       review_score\n",
      "count  99224.000000\n",
      "mean       4.086421\n",
      "std        1.347579\n",
      "min        1.000000\n",
      "25%        4.000000\n",
      "50%        5.000000\n",
      "75%        5.000000\n",
      "max        5.000000\n"
     ]
    }
   ],
   "source": [
    "analyze_table(order_reviews_df)"
   ]
  },
  {
   "cell_type": "markdown",
   "metadata": {
    "id": "-_ptUFU19kC2"
   },
   "source": [
    "##### Tabel reviews memiliki 2 kolom dengan missing value, yaitu:\n",
    "- review_comment_title\n",
    "- review_comment_message\n",
    "\n",
    "Tipe data pada kolom dengan data date belum sesuai, masih berupa object"
   ]
  },
  {
   "cell_type": "markdown",
   "metadata": {
    "id": "b7xGXX6M6_yy"
   },
   "source": [
    "#### Info tabel orders"
   ]
  },
  {
   "cell_type": "code",
   "execution_count": 19,
   "metadata": {
    "colab": {
     "base_uri": "https://localhost:8080/"
    },
    "id": "b-c0qmR96OHz",
    "outputId": "0b593e55-f9e2-4ac8-ba82-5fde9cb4d37d"
   },
   "outputs": [
    {
     "name": "stdout",
     "output_type": "stream",
     "text": [
      "\n",
      "---Info Tabel---\n",
      "\n",
      "<class 'pandas.core.frame.DataFrame'>\n",
      "RangeIndex: 99441 entries, 0 to 99440\n",
      "Data columns (total 8 columns):\n",
      " #   Column                         Non-Null Count  Dtype \n",
      "---  ------                         --------------  ----- \n",
      " 0   order_id                       99441 non-null  object\n",
      " 1   customer_id                    99441 non-null  object\n",
      " 2   order_status                   99441 non-null  object\n",
      " 3   order_purchase_timestamp       99441 non-null  object\n",
      " 4   order_approved_at              99281 non-null  object\n",
      " 5   order_delivered_carrier_date   97658 non-null  object\n",
      " 6   order_delivered_customer_date  96476 non-null  object\n",
      " 7   order_estimated_delivery_date  99441 non-null  object\n",
      "dtypes: object(8)\n",
      "memory usage: 6.1+ MB\n",
      "\n",
      "---Missing Value---\n",
      "\n",
      "order_id                            0\n",
      "customer_id                         0\n",
      "order_status                        0\n",
      "order_purchase_timestamp            0\n",
      "order_approved_at                 160\n",
      "order_delivered_carrier_date     1783\n",
      "order_delivered_customer_date    2965\n",
      "order_estimated_delivery_date       0\n",
      "dtype: int64\n",
      "\n",
      "---Duplikat---\n",
      "\n",
      "0\n",
      "\n",
      "---Deskripsi Tabel---\n",
      "\n",
      "                                order_id                       customer_id  \\\n",
      "count                              99441                             99441   \n",
      "unique                             99441                             99441   \n",
      "top     e481f51cbdc54678b7cc49136f2d6af7  9ef432eb6251297304e76186b10a928d   \n",
      "freq                                   1                                 1   \n",
      "\n",
      "       order_status order_purchase_timestamp    order_approved_at  \\\n",
      "count         99441                    99441                99281   \n",
      "unique            8                    98875                90733   \n",
      "top       delivered      2018-04-11 10:48:14  2018-02-27 04:31:10   \n",
      "freq          96478                        3                    9   \n",
      "\n",
      "       order_delivered_carrier_date order_delivered_customer_date  \\\n",
      "count                         97658                         96476   \n",
      "unique                        81018                         95664   \n",
      "top             2018-05-09 15:48:00           2018-05-08 23:38:46   \n",
      "freq                             47                             3   \n",
      "\n",
      "       order_estimated_delivery_date  \n",
      "count                          99441  \n",
      "unique                           459  \n",
      "top              2017-12-20 00:00:00  \n",
      "freq                             522  \n"
     ]
    }
   ],
   "source": [
    "analyze_table(orders_df)"
   ]
  },
  {
   "cell_type": "markdown",
   "metadata": {
    "id": "nGtuUaps8x5d"
   },
   "source": [
    "##### Tabel orders memiliki missing value pada kolom\n",
    "- order_approved_at\n",
    "- order_delivered_carrier_date\n",
    "- order_delivered_customer_date\n",
    "\n",
    "Tipe data pada kolom dengan data date belum sesuai, masih berupa object"
   ]
  },
  {
   "cell_type": "markdown",
   "metadata": {
    "id": "nknspIuw7CSZ"
   },
   "source": [
    "#### Info tabel product_category"
   ]
  },
  {
   "cell_type": "code",
   "execution_count": 20,
   "metadata": {
    "colab": {
     "base_uri": "https://localhost:8080/"
    },
    "id": "8VTZce1Y6OQ7",
    "outputId": "843cfdc9-6211-47e7-ff21-587b1ec75fef"
   },
   "outputs": [
    {
     "name": "stdout",
     "output_type": "stream",
     "text": [
      "\n",
      "---Info Tabel---\n",
      "\n",
      "<class 'pandas.core.frame.DataFrame'>\n",
      "RangeIndex: 71 entries, 0 to 70\n",
      "Data columns (total 2 columns):\n",
      " #   Column                         Non-Null Count  Dtype \n",
      "---  ------                         --------------  ----- \n",
      " 0   product_category_name          71 non-null     object\n",
      " 1   product_category_name_english  71 non-null     object\n",
      "dtypes: object(2)\n",
      "memory usage: 1.2+ KB\n",
      "\n",
      "---Missing Value---\n",
      "\n",
      "product_category_name            0\n",
      "product_category_name_english    0\n",
      "dtype: int64\n",
      "\n",
      "---Duplikat---\n",
      "\n",
      "0\n",
      "\n",
      "---Deskripsi Tabel---\n",
      "\n",
      "       product_category_name product_category_name_english\n",
      "count                     71                            71\n",
      "unique                    71                            71\n",
      "top             beleza_saude                 health_beauty\n",
      "freq                       1                             1\n"
     ]
    }
   ],
   "source": [
    "analyze_table(product_category_df)"
   ]
  },
  {
   "cell_type": "markdown",
   "metadata": {
    "id": "uxDnl05w7KJB"
   },
   "source": [
    "#### Info tabel products"
   ]
  },
  {
   "cell_type": "code",
   "execution_count": 21,
   "metadata": {
    "colab": {
     "base_uri": "https://localhost:8080/"
    },
    "id": "5Jd7LqsU6OVX",
    "outputId": "02a8b270-cffb-476a-d6ae-f4b1b8d00701"
   },
   "outputs": [
    {
     "name": "stdout",
     "output_type": "stream",
     "text": [
      "\n",
      "---Info Tabel---\n",
      "\n",
      "<class 'pandas.core.frame.DataFrame'>\n",
      "RangeIndex: 32951 entries, 0 to 32950\n",
      "Data columns (total 9 columns):\n",
      " #   Column                      Non-Null Count  Dtype  \n",
      "---  ------                      --------------  -----  \n",
      " 0   product_id                  32951 non-null  object \n",
      " 1   product_category_name       32341 non-null  object \n",
      " 2   product_name_lenght         32341 non-null  float64\n",
      " 3   product_description_lenght  32341 non-null  float64\n",
      " 4   product_photos_qty          32341 non-null  float64\n",
      " 5   product_weight_g            32949 non-null  float64\n",
      " 6   product_length_cm           32949 non-null  float64\n",
      " 7   product_height_cm           32949 non-null  float64\n",
      " 8   product_width_cm            32949 non-null  float64\n",
      "dtypes: float64(7), object(2)\n",
      "memory usage: 2.3+ MB\n",
      "\n",
      "---Missing Value---\n",
      "\n",
      "product_id                      0\n",
      "product_category_name         610\n",
      "product_name_lenght           610\n",
      "product_description_lenght    610\n",
      "product_photos_qty            610\n",
      "product_weight_g                2\n",
      "product_length_cm               2\n",
      "product_height_cm               2\n",
      "product_width_cm                2\n",
      "dtype: int64\n",
      "\n",
      "---Duplikat---\n",
      "\n",
      "0\n",
      "\n",
      "---Deskripsi Tabel---\n",
      "\n",
      "       product_name_lenght  product_description_lenght  product_photos_qty  \\\n",
      "count         32341.000000                32341.000000        32341.000000   \n",
      "mean             48.476949                  771.495285            2.188986   \n",
      "std              10.245741                  635.115225            1.736766   \n",
      "min               5.000000                    4.000000            1.000000   \n",
      "25%              42.000000                  339.000000            1.000000   \n",
      "50%              51.000000                  595.000000            1.000000   \n",
      "75%              57.000000                  972.000000            3.000000   \n",
      "max              76.000000                 3992.000000           20.000000   \n",
      "\n",
      "       product_weight_g  product_length_cm  product_height_cm  \\\n",
      "count      32949.000000       32949.000000       32949.000000   \n",
      "mean        2276.472488          30.815078          16.937661   \n",
      "std         4282.038731          16.914458          13.637554   \n",
      "min            0.000000           7.000000           2.000000   \n",
      "25%          300.000000          18.000000           8.000000   \n",
      "50%          700.000000          25.000000          13.000000   \n",
      "75%         1900.000000          38.000000          21.000000   \n",
      "max        40425.000000         105.000000         105.000000   \n",
      "\n",
      "       product_width_cm  \n",
      "count      32949.000000  \n",
      "mean          23.196728  \n",
      "std           12.079047  \n",
      "min            6.000000  \n",
      "25%           15.000000  \n",
      "50%           20.000000  \n",
      "75%           30.000000  \n",
      "max          118.000000  \n"
     ]
    }
   ],
   "source": [
    "analyze_table(products_df)"
   ]
  },
  {
   "cell_type": "markdown",
   "metadata": {
    "id": "hnszkQTb9T3t"
   },
   "source": [
    "Tabel products memiliki missing values pada kolom semua kolom kecuali product_id"
   ]
  },
  {
   "cell_type": "markdown",
   "metadata": {
    "id": "QU8kWLgS7Md_"
   },
   "source": [
    "#### Info tabel sellers"
   ]
  },
  {
   "cell_type": "code",
   "execution_count": 22,
   "metadata": {
    "colab": {
     "base_uri": "https://localhost:8080/"
    },
    "id": "rq71CCZ66Oda",
    "outputId": "c90659e8-8f71-4ac1-c756-e3aa5d539e75"
   },
   "outputs": [
    {
     "name": "stdout",
     "output_type": "stream",
     "text": [
      "\n",
      "---Info Tabel---\n",
      "\n",
      "<class 'pandas.core.frame.DataFrame'>\n",
      "RangeIndex: 3095 entries, 0 to 3094\n",
      "Data columns (total 4 columns):\n",
      " #   Column                  Non-Null Count  Dtype \n",
      "---  ------                  --------------  ----- \n",
      " 0   seller_id               3095 non-null   object\n",
      " 1   seller_zip_code_prefix  3095 non-null   int64 \n",
      " 2   seller_city             3095 non-null   object\n",
      " 3   seller_state            3095 non-null   object\n",
      "dtypes: int64(1), object(3)\n",
      "memory usage: 96.8+ KB\n",
      "\n",
      "---Missing Value---\n",
      "\n",
      "seller_id                 0\n",
      "seller_zip_code_prefix    0\n",
      "seller_city               0\n",
      "seller_state              0\n",
      "dtype: int64\n",
      "\n",
      "---Duplikat---\n",
      "\n",
      "0\n",
      "\n",
      "---Deskripsi Tabel---\n",
      "\n",
      "       seller_zip_code_prefix\n",
      "count             3095.000000\n",
      "mean             32291.059451\n",
      "std              32713.453830\n",
      "min               1001.000000\n",
      "25%               7093.500000\n",
      "50%              14940.000000\n",
      "75%              64552.500000\n",
      "max              99730.000000\n"
     ]
    }
   ],
   "source": [
    "analyze_table(sellers_df)"
   ]
  },
  {
   "cell_type": "markdown",
   "metadata": {
    "id": "Uz5dgcJm9HW5"
   },
   "source": [
    "### Cleaning Data"
   ]
  },
  {
   "cell_type": "markdown",
   "metadata": {
    "id": "1ZFzvGP5-Jdf"
   },
   "source": [
    "#### Cleaning data tabel geolocation dengan drop duplikat"
   ]
  },
  {
   "cell_type": "code",
   "execution_count": 23,
   "metadata": {
    "id": "CCszTdXD9Ivf"
   },
   "outputs": [],
   "source": [
    "# Drop duplikat\n",
    "geolocation_df.drop_duplicates(inplace=True)"
   ]
  },
  {
   "cell_type": "code",
   "execution_count": 24,
   "metadata": {
    "colab": {
     "base_uri": "https://localhost:8080/"
    },
    "id": "CBv8FSgm_Gk7",
    "outputId": "9d9e7b6e-12b1-4761-a4aa-601f5ac7e534"
   },
   "outputs": [
    {
     "data": {
      "text/plain": [
       "0"
      ]
     },
     "execution_count": 24,
     "metadata": {},
     "output_type": "execute_result"
    }
   ],
   "source": [
    "geolocation_df.duplicated().sum()"
   ]
  },
  {
   "cell_type": "markdown",
   "metadata": {
    "id": "3rRwZs8SDa3_"
   },
   "source": [
    "#### Cleaning data tabel order_items"
   ]
  },
  {
   "cell_type": "code",
   "execution_count": 25,
   "metadata": {
    "id": "2QrI5earDfY0"
   },
   "outputs": [],
   "source": [
    "order_item_col=['shipping_limit_date']\n",
    "for col in order_item_col:\n",
    "    order_items_df[col]=pd.to_datetime(order_items_df[col])"
   ]
  },
  {
   "cell_type": "code",
   "execution_count": 26,
   "metadata": {
    "colab": {
     "base_uri": "https://localhost:8080/"
    },
    "id": "Tt_NEcXPDyka",
    "outputId": "0d819e73-abf2-47de-8d20-e1c3c49cc33a"
   },
   "outputs": [
    {
     "name": "stdout",
     "output_type": "stream",
     "text": [
      "<class 'pandas.core.frame.DataFrame'>\n",
      "RangeIndex: 112650 entries, 0 to 112649\n",
      "Data columns (total 7 columns):\n",
      " #   Column               Non-Null Count   Dtype         \n",
      "---  ------               --------------   -----         \n",
      " 0   order_id             112650 non-null  object        \n",
      " 1   order_item_id        112650 non-null  int64         \n",
      " 2   product_id           112650 non-null  object        \n",
      " 3   seller_id            112650 non-null  object        \n",
      " 4   shipping_limit_date  112650 non-null  datetime64[ns]\n",
      " 5   price                112650 non-null  float64       \n",
      " 6   freight_value        112650 non-null  float64       \n",
      "dtypes: datetime64[ns](1), float64(2), int64(1), object(3)\n",
      "memory usage: 6.0+ MB\n"
     ]
    }
   ],
   "source": [
    "order_items_df.info()"
   ]
  },
  {
   "cell_type": "markdown",
   "metadata": {
    "id": "E26tuKE9_lRP"
   },
   "source": [
    "#### Cleaning data tabel order_reviews"
   ]
  },
  {
   "cell_type": "markdown",
   "metadata": {
    "id": "bqA8fHQcAXhf"
   },
   "source": [
    "Terdapat missing value pada 2 kolom, yaitu: review_comment_title dan review_comment_message. Drop kolom akan dilakukan karena isi dari 2 kolom tersebut yang berupa text tidak akan digunakan dalam analisis data."
   ]
  },
  {
   "cell_type": "code",
   "execution_count": 27,
   "metadata": {
    "id": "aNO0aXA2-RJl"
   },
   "outputs": [],
   "source": [
    "drop_cols = ['review_comment_title', 'review_comment_message']\n",
    "order_reviews_df.drop(drop_cols, axis= 1, inplace= True)"
   ]
  },
  {
   "cell_type": "code",
   "execution_count": 28,
   "metadata": {
    "colab": {
     "base_uri": "https://localhost:8080/"
    },
    "id": "1VoDgtxaAJpM",
    "outputId": "e1c05a81-b112-45f9-b725-57b156bd4135"
   },
   "outputs": [
    {
     "data": {
      "text/plain": [
       "review_id                  0\n",
       "order_id                   0\n",
       "review_score               0\n",
       "review_creation_date       0\n",
       "review_answer_timestamp    0\n",
       "dtype: int64"
      ]
     },
     "execution_count": 28,
     "metadata": {},
     "output_type": "execute_result"
    }
   ],
   "source": [
    "order_reviews_df.isna().sum()"
   ]
  },
  {
   "cell_type": "code",
   "execution_count": 29,
   "metadata": {
    "id": "H_cgSa0aCIYQ"
   },
   "outputs": [],
   "source": [
    "order_review_col=['review_creation_date','review_answer_timestamp']\n",
    "for col in order_review_col:\n",
    "    order_reviews_df[col]=pd.to_datetime(order_reviews_df[col])"
   ]
  },
  {
   "cell_type": "code",
   "execution_count": 30,
   "metadata": {
    "colab": {
     "base_uri": "https://localhost:8080/"
    },
    "id": "1LSRTbuvCMYw",
    "outputId": "849f736e-77fd-4a33-bd17-37fba0768969"
   },
   "outputs": [
    {
     "name": "stdout",
     "output_type": "stream",
     "text": [
      "<class 'pandas.core.frame.DataFrame'>\n",
      "RangeIndex: 99224 entries, 0 to 99223\n",
      "Data columns (total 5 columns):\n",
      " #   Column                   Non-Null Count  Dtype         \n",
      "---  ------                   --------------  -----         \n",
      " 0   review_id                99224 non-null  object        \n",
      " 1   order_id                 99224 non-null  object        \n",
      " 2   review_score             99224 non-null  int64         \n",
      " 3   review_creation_date     99224 non-null  datetime64[ns]\n",
      " 4   review_answer_timestamp  99224 non-null  datetime64[ns]\n",
      "dtypes: datetime64[ns](2), int64(1), object(2)\n",
      "memory usage: 3.8+ MB\n"
     ]
    }
   ],
   "source": [
    "order_reviews_df.info()"
   ]
  },
  {
   "cell_type": "markdown",
   "metadata": {
    "id": "Z4Wg05jEBHF7"
   },
   "source": [
    "#### Cleaning data tabel orders"
   ]
  },
  {
   "cell_type": "code",
   "execution_count": 31,
   "metadata": {
    "id": "emd1LfFZBJ6P"
   },
   "outputs": [],
   "source": [
    "orders_col=[\n",
    "    'order_purchase_timestamp',\n",
    "    'order_approved_at',\n",
    "    'order_delivered_carrier_date',\n",
    "    'order_delivered_customer_date',\n",
    "    'order_estimated_delivery_date'\n",
    "]\n",
    "for col in orders_col:\n",
    "    orders_df[col]=pd.to_datetime(orders_df[col])"
   ]
  },
  {
   "cell_type": "code",
   "execution_count": 32,
   "metadata": {
    "colab": {
     "base_uri": "https://localhost:8080/"
    },
    "id": "zqiFMINTBKIv",
    "outputId": "40fdb0e6-c9d0-47ef-8e54-84dee6a16b23"
   },
   "outputs": [
    {
     "name": "stdout",
     "output_type": "stream",
     "text": [
      "<class 'pandas.core.frame.DataFrame'>\n",
      "RangeIndex: 99441 entries, 0 to 99440\n",
      "Data columns (total 8 columns):\n",
      " #   Column                         Non-Null Count  Dtype         \n",
      "---  ------                         --------------  -----         \n",
      " 0   order_id                       99441 non-null  object        \n",
      " 1   customer_id                    99441 non-null  object        \n",
      " 2   order_status                   99441 non-null  object        \n",
      " 3   order_purchase_timestamp       99441 non-null  datetime64[ns]\n",
      " 4   order_approved_at              99281 non-null  datetime64[ns]\n",
      " 5   order_delivered_carrier_date   97658 non-null  datetime64[ns]\n",
      " 6   order_delivered_customer_date  96476 non-null  datetime64[ns]\n",
      " 7   order_estimated_delivery_date  99441 non-null  datetime64[ns]\n",
      "dtypes: datetime64[ns](5), object(3)\n",
      "memory usage: 6.1+ MB\n"
     ]
    }
   ],
   "source": [
    "orders_df.info()"
   ]
  },
  {
   "cell_type": "markdown",
   "metadata": {
    "id": "Fh4Wg9DaEWBL"
   },
   "source": [
    "#### Cleaning data tabel products"
   ]
  },
  {
   "cell_type": "markdown",
   "metadata": {
    "id": "jKUqdAkhE5Ib"
   },
   "source": [
    "Melakukan drop kolom-kolom yang tidak dipakai di analisis data"
   ]
  },
  {
   "cell_type": "code",
   "execution_count": 33,
   "metadata": {
    "id": "uJBt6z6wEZl1"
   },
   "outputs": [],
   "source": [
    "product_drop_cols = ['product_name_lenght',\n",
    "                     'product_description_lenght',\n",
    "                     'product_weight_g',\n",
    "                     'product_length_cm',\n",
    "                     'product_height_cm',\n",
    "                     'product_width_cm']\n",
    "\n",
    "products_df.drop(product_drop_cols, axis= 1, inplace= True)"
   ]
  },
  {
   "cell_type": "markdown",
   "metadata": {
    "id": "IY-IMTZgGpJu"
   },
   "source": [
    "Melakukan penggantian missing value pada kolom product_category_name dengan modus dan product_photos_qty dengan median"
   ]
  },
  {
   "cell_type": "code",
   "execution_count": 34,
   "metadata": {
    "id": "VWRvC7i8GPCn"
   },
   "outputs": [],
   "source": [
    "products_df['product_category_name'].fillna(products_df['product_category_name'].mode()[0], inplace=True)\n",
    "products_df['product_photos_qty'].fillna(products_df['product_photos_qty'].median(), inplace=True)"
   ]
  },
  {
   "cell_type": "code",
   "execution_count": 35,
   "metadata": {
    "colab": {
     "base_uri": "https://localhost:8080/"
    },
    "id": "ulnwy7zQEeId",
    "outputId": "3ab0eb52-fbfb-48a1-8f88-ced02d49ac79"
   },
   "outputs": [
    {
     "name": "stdout",
     "output_type": "stream",
     "text": [
      "<class 'pandas.core.frame.DataFrame'>\n",
      "RangeIndex: 32951 entries, 0 to 32950\n",
      "Data columns (total 3 columns):\n",
      " #   Column                 Non-Null Count  Dtype  \n",
      "---  ------                 --------------  -----  \n",
      " 0   product_id             32951 non-null  object \n",
      " 1   product_category_name  32951 non-null  object \n",
      " 2   product_photos_qty     32951 non-null  float64\n",
      "dtypes: float64(1), object(2)\n",
      "memory usage: 772.4+ KB\n"
     ]
    }
   ],
   "source": [
    "products_df.info()"
   ]
  },
  {
   "cell_type": "markdown",
   "metadata": {
    "id": "EyPJaCDm9KFb"
   },
   "source": [
    "## Exploratory Data Analysis (EDA)"
   ]
  },
  {
   "cell_type": "markdown",
   "metadata": {
    "id": "hxgJ6qd69Mce"
   },
   "source": [
    "### Explore tabel customers"
   ]
  },
  {
   "cell_type": "code",
   "execution_count": 36,
   "metadata": {
    "colab": {
     "base_uri": "https://localhost:8080/",
     "height": 206
    },
    "id": "Xo68yguo9LTl",
    "outputId": "106a39a2-ae3b-4028-d524-1d01b270562a"
   },
   "outputs": [
    {
     "data": {
      "text/html": [
       "<div>\n",
       "<style scoped>\n",
       "    .dataframe tbody tr th:only-of-type {\n",
       "        vertical-align: middle;\n",
       "    }\n",
       "\n",
       "    .dataframe tbody tr th {\n",
       "        vertical-align: top;\n",
       "    }\n",
       "\n",
       "    .dataframe thead th {\n",
       "        text-align: right;\n",
       "    }\n",
       "</style>\n",
       "<table border=\"1\" class=\"dataframe\">\n",
       "  <thead>\n",
       "    <tr style=\"text-align: right;\">\n",
       "      <th></th>\n",
       "      <th>customer_id</th>\n",
       "      <th>customer_unique_id</th>\n",
       "      <th>customer_zip_code_prefix</th>\n",
       "      <th>customer_city</th>\n",
       "      <th>customer_state</th>\n",
       "    </tr>\n",
       "  </thead>\n",
       "  <tbody>\n",
       "    <tr>\n",
       "      <th>30406</th>\n",
       "      <td>054e2d5e2e62f26e884cfd2e9bbeeab7</td>\n",
       "      <td>22d47c0d3a0a3d5667b73a5f1d8bb20a</td>\n",
       "      <td>72015</td>\n",
       "      <td>brasilia</td>\n",
       "      <td>DF</td>\n",
       "    </tr>\n",
       "    <tr>\n",
       "      <th>63831</th>\n",
       "      <td>aac1312b09bbe8ff9595f5c15f9906d7</td>\n",
       "      <td>19af2c88e8c0ea187366bb5d82789df6</td>\n",
       "      <td>4165</td>\n",
       "      <td>sao paulo</td>\n",
       "      <td>SP</td>\n",
       "    </tr>\n",
       "    <tr>\n",
       "      <th>93004</th>\n",
       "      <td>a7fe9d419746fc1f2587bf3ca74236f5</td>\n",
       "      <td>82f341134c3e8d0a25958d4bb4f05e4b</td>\n",
       "      <td>22061</td>\n",
       "      <td>rio de janeiro</td>\n",
       "      <td>RJ</td>\n",
       "    </tr>\n",
       "    <tr>\n",
       "      <th>93325</th>\n",
       "      <td>96a68cae26d14cd164323c6bcc6eba60</td>\n",
       "      <td>a06f91da0bcf4f2ba635ee92ba3c33c6</td>\n",
       "      <td>18800</td>\n",
       "      <td>piraju</td>\n",
       "      <td>SP</td>\n",
       "    </tr>\n",
       "    <tr>\n",
       "      <th>90157</th>\n",
       "      <td>b7c369ee1974391cd79eb8c38e6713c5</td>\n",
       "      <td>7bf62cfb6d429a8c50f2ac2724b28bfc</td>\n",
       "      <td>88103</td>\n",
       "      <td>sao jose</td>\n",
       "      <td>SC</td>\n",
       "    </tr>\n",
       "  </tbody>\n",
       "</table>\n",
       "</div>"
      ],
      "text/plain": [
       "                            customer_id                customer_unique_id  \\\n",
       "30406  054e2d5e2e62f26e884cfd2e9bbeeab7  22d47c0d3a0a3d5667b73a5f1d8bb20a   \n",
       "63831  aac1312b09bbe8ff9595f5c15f9906d7  19af2c88e8c0ea187366bb5d82789df6   \n",
       "93004  a7fe9d419746fc1f2587bf3ca74236f5  82f341134c3e8d0a25958d4bb4f05e4b   \n",
       "93325  96a68cae26d14cd164323c6bcc6eba60  a06f91da0bcf4f2ba635ee92ba3c33c6   \n",
       "90157  b7c369ee1974391cd79eb8c38e6713c5  7bf62cfb6d429a8c50f2ac2724b28bfc   \n",
       "\n",
       "       customer_zip_code_prefix   customer_city customer_state  \n",
       "30406                     72015        brasilia             DF  \n",
       "63831                      4165       sao paulo             SP  \n",
       "93004                     22061  rio de janeiro             RJ  \n",
       "93325                     18800          piraju             SP  \n",
       "90157                     88103        sao jose             SC  "
      ]
     },
     "execution_count": 36,
     "metadata": {},
     "output_type": "execute_result"
    }
   ],
   "source": [
    "customers_df.sample(5)"
   ]
  },
  {
   "cell_type": "code",
   "execution_count": 37,
   "metadata": {
    "colab": {
     "base_uri": "https://localhost:8080/",
     "height": 394
    },
    "id": "2wtHTPnzJ1C1",
    "outputId": "847bc0e5-0377-4a84-b186-e8437c2bda30"
   },
   "outputs": [
    {
     "data": {
      "text/html": [
       "<div>\n",
       "<style scoped>\n",
       "    .dataframe tbody tr th:only-of-type {\n",
       "        vertical-align: middle;\n",
       "    }\n",
       "\n",
       "    .dataframe tbody tr th {\n",
       "        vertical-align: top;\n",
       "    }\n",
       "\n",
       "    .dataframe thead th {\n",
       "        text-align: right;\n",
       "    }\n",
       "</style>\n",
       "<table border=\"1\" class=\"dataframe\">\n",
       "  <thead>\n",
       "    <tr style=\"text-align: right;\">\n",
       "      <th></th>\n",
       "      <th>customer_id</th>\n",
       "      <th>customer_unique_id</th>\n",
       "      <th>customer_zip_code_prefix</th>\n",
       "      <th>customer_city</th>\n",
       "      <th>customer_state</th>\n",
       "    </tr>\n",
       "  </thead>\n",
       "  <tbody>\n",
       "    <tr>\n",
       "      <th>count</th>\n",
       "      <td>99441</td>\n",
       "      <td>99441</td>\n",
       "      <td>99441.000000</td>\n",
       "      <td>99441</td>\n",
       "      <td>99441</td>\n",
       "    </tr>\n",
       "    <tr>\n",
       "      <th>unique</th>\n",
       "      <td>99441</td>\n",
       "      <td>96096</td>\n",
       "      <td>NaN</td>\n",
       "      <td>4119</td>\n",
       "      <td>27</td>\n",
       "    </tr>\n",
       "    <tr>\n",
       "      <th>top</th>\n",
       "      <td>06b8999e2fba1a1fbc88172c00ba8bc7</td>\n",
       "      <td>8d50f5eadf50201ccdcedfb9e2ac8455</td>\n",
       "      <td>NaN</td>\n",
       "      <td>sao paulo</td>\n",
       "      <td>SP</td>\n",
       "    </tr>\n",
       "    <tr>\n",
       "      <th>freq</th>\n",
       "      <td>1</td>\n",
       "      <td>17</td>\n",
       "      <td>NaN</td>\n",
       "      <td>15540</td>\n",
       "      <td>41746</td>\n",
       "    </tr>\n",
       "    <tr>\n",
       "      <th>mean</th>\n",
       "      <td>NaN</td>\n",
       "      <td>NaN</td>\n",
       "      <td>35137.474583</td>\n",
       "      <td>NaN</td>\n",
       "      <td>NaN</td>\n",
       "    </tr>\n",
       "    <tr>\n",
       "      <th>std</th>\n",
       "      <td>NaN</td>\n",
       "      <td>NaN</td>\n",
       "      <td>29797.938996</td>\n",
       "      <td>NaN</td>\n",
       "      <td>NaN</td>\n",
       "    </tr>\n",
       "    <tr>\n",
       "      <th>min</th>\n",
       "      <td>NaN</td>\n",
       "      <td>NaN</td>\n",
       "      <td>1003.000000</td>\n",
       "      <td>NaN</td>\n",
       "      <td>NaN</td>\n",
       "    </tr>\n",
       "    <tr>\n",
       "      <th>25%</th>\n",
       "      <td>NaN</td>\n",
       "      <td>NaN</td>\n",
       "      <td>11347.000000</td>\n",
       "      <td>NaN</td>\n",
       "      <td>NaN</td>\n",
       "    </tr>\n",
       "    <tr>\n",
       "      <th>50%</th>\n",
       "      <td>NaN</td>\n",
       "      <td>NaN</td>\n",
       "      <td>24416.000000</td>\n",
       "      <td>NaN</td>\n",
       "      <td>NaN</td>\n",
       "    </tr>\n",
       "    <tr>\n",
       "      <th>75%</th>\n",
       "      <td>NaN</td>\n",
       "      <td>NaN</td>\n",
       "      <td>58900.000000</td>\n",
       "      <td>NaN</td>\n",
       "      <td>NaN</td>\n",
       "    </tr>\n",
       "    <tr>\n",
       "      <th>max</th>\n",
       "      <td>NaN</td>\n",
       "      <td>NaN</td>\n",
       "      <td>99990.000000</td>\n",
       "      <td>NaN</td>\n",
       "      <td>NaN</td>\n",
       "    </tr>\n",
       "  </tbody>\n",
       "</table>\n",
       "</div>"
      ],
      "text/plain": [
       "                             customer_id                customer_unique_id  \\\n",
       "count                              99441                             99441   \n",
       "unique                             99441                             96096   \n",
       "top     06b8999e2fba1a1fbc88172c00ba8bc7  8d50f5eadf50201ccdcedfb9e2ac8455   \n",
       "freq                                   1                                17   \n",
       "mean                                 NaN                               NaN   \n",
       "std                                  NaN                               NaN   \n",
       "min                                  NaN                               NaN   \n",
       "25%                                  NaN                               NaN   \n",
       "50%                                  NaN                               NaN   \n",
       "75%                                  NaN                               NaN   \n",
       "max                                  NaN                               NaN   \n",
       "\n",
       "        customer_zip_code_prefix customer_city customer_state  \n",
       "count               99441.000000         99441          99441  \n",
       "unique                       NaN          4119             27  \n",
       "top                          NaN     sao paulo             SP  \n",
       "freq                         NaN         15540          41746  \n",
       "mean                35137.474583           NaN            NaN  \n",
       "std                 29797.938996           NaN            NaN  \n",
       "min                  1003.000000           NaN            NaN  \n",
       "25%                 11347.000000           NaN            NaN  \n",
       "50%                 24416.000000           NaN            NaN  \n",
       "75%                 58900.000000           NaN            NaN  \n",
       "max                 99990.000000           NaN            NaN  "
      ]
     },
     "execution_count": 37,
     "metadata": {},
     "output_type": "execute_result"
    }
   ],
   "source": [
    "customers_df.describe(include=\"all\")"
   ]
  },
  {
   "cell_type": "code",
   "execution_count": 38,
   "metadata": {
    "colab": {
     "base_uri": "https://localhost:8080/"
    },
    "id": "k2SkoOMgKILv",
    "outputId": "28093e23-a883-45cb-8c38-93fa459f1bd9"
   },
   "outputs": [
    {
     "data": {
      "text/plain": [
       "customer_city\n",
       "sao paulo         15540\n",
       "rio de janeiro     6882\n",
       "belo horizonte     2773\n",
       "brasilia           2131\n",
       "curitiba           1521\n",
       "                  ...  \n",
       "ibiara                1\n",
       "rio espera            1\n",
       "rio dos indios        1\n",
       "rio dos cedros        1\n",
       "lagoao                1\n",
       "Name: customer_id, Length: 4119, dtype: int64"
      ]
     },
     "execution_count": 38,
     "metadata": {},
     "output_type": "execute_result"
    }
   ],
   "source": [
    "customers_df.groupby(by=\"customer_city\").customer_id.nunique().sort_values(ascending=False)"
   ]
  },
  {
   "cell_type": "code",
   "execution_count": 39,
   "metadata": {
    "colab": {
     "base_uri": "https://localhost:8080/"
    },
    "id": "d1m0vV_TK3eN",
    "outputId": "a1d20439-ec79-42c1-ef63-1187c99bda1e"
   },
   "outputs": [
    {
     "data": {
      "text/plain": [
       "customer_state\n",
       "SP    41746\n",
       "RJ    12852\n",
       "MG    11635\n",
       "RS     5466\n",
       "PR     5045\n",
       "SC     3637\n",
       "BA     3380\n",
       "DF     2140\n",
       "ES     2033\n",
       "GO     2020\n",
       "PE     1652\n",
       "CE     1336\n",
       "PA      975\n",
       "MT      907\n",
       "MA      747\n",
       "MS      715\n",
       "PB      536\n",
       "PI      495\n",
       "RN      485\n",
       "AL      413\n",
       "SE      350\n",
       "TO      280\n",
       "RO      253\n",
       "AM      148\n",
       "AC       81\n",
       "AP       68\n",
       "RR       46\n",
       "Name: customer_id, dtype: int64"
      ]
     },
     "execution_count": 39,
     "metadata": {},
     "output_type": "execute_result"
    }
   ],
   "source": [
    "customers_df.groupby(by=\"customer_state\").customer_id.nunique().sort_values(ascending=False)"
   ]
  },
  {
   "cell_type": "markdown",
   "metadata": {
    "id": "08eqaAMBKaFD"
   },
   "source": [
    "Diketahui bahwa customer terbanyak berasal dari Sao Paulo City dan Sao Paulo State"
   ]
  },
  {
   "cell_type": "markdown",
   "metadata": {
    "id": "WKk0q6y1LLjl"
   },
   "source": [
    "### Explore tabel orders"
   ]
  },
  {
   "cell_type": "code",
   "execution_count": 40,
   "metadata": {
    "colab": {
     "base_uri": "https://localhost:8080/",
     "height": 226
    },
    "id": "GyVbPhywL_z0",
    "outputId": "fe218dd1-66f3-4929-cc0c-88a0c5cf9a0b"
   },
   "outputs": [
    {
     "data": {
      "text/html": [
       "<div>\n",
       "<style scoped>\n",
       "    .dataframe tbody tr th:only-of-type {\n",
       "        vertical-align: middle;\n",
       "    }\n",
       "\n",
       "    .dataframe tbody tr th {\n",
       "        vertical-align: top;\n",
       "    }\n",
       "\n",
       "    .dataframe thead th {\n",
       "        text-align: right;\n",
       "    }\n",
       "</style>\n",
       "<table border=\"1\" class=\"dataframe\">\n",
       "  <thead>\n",
       "    <tr style=\"text-align: right;\">\n",
       "      <th></th>\n",
       "      <th>order_id</th>\n",
       "      <th>customer_id</th>\n",
       "      <th>order_status</th>\n",
       "      <th>order_purchase_timestamp</th>\n",
       "      <th>order_approved_at</th>\n",
       "      <th>order_delivered_carrier_date</th>\n",
       "      <th>order_delivered_customer_date</th>\n",
       "      <th>order_estimated_delivery_date</th>\n",
       "    </tr>\n",
       "  </thead>\n",
       "  <tbody>\n",
       "    <tr>\n",
       "      <th>10126</th>\n",
       "      <td>fbcac8a5f28ae481d3c3ebb74de5a7fd</td>\n",
       "      <td>eec86eb10f3bc01629ab99ffa32ea05a</td>\n",
       "      <td>delivered</td>\n",
       "      <td>2018-03-25 13:09:20</td>\n",
       "      <td>2018-03-25 13:27:46</td>\n",
       "      <td>2018-03-27 10:06:37</td>\n",
       "      <td>2018-04-06 00:33:44</td>\n",
       "      <td>2018-04-23</td>\n",
       "    </tr>\n",
       "    <tr>\n",
       "      <th>3005</th>\n",
       "      <td>826b47e4cd7bba4e4c6fa5485f898b74</td>\n",
       "      <td>e68e6423401e85c138229b23d4bf4761</td>\n",
       "      <td>delivered</td>\n",
       "      <td>2017-12-01 22:37:42</td>\n",
       "      <td>2017-12-01 22:52:53</td>\n",
       "      <td>2017-12-05 20:59:00</td>\n",
       "      <td>2017-12-06 19:09:43</td>\n",
       "      <td>2017-12-27</td>\n",
       "    </tr>\n",
       "    <tr>\n",
       "      <th>75217</th>\n",
       "      <td>06970f3ad11e6267192d7d98af40a8f5</td>\n",
       "      <td>3121273a484955eef5f8c940af3ebfb6</td>\n",
       "      <td>delivered</td>\n",
       "      <td>2017-11-27 14:18:58</td>\n",
       "      <td>2017-11-27 14:26:26</td>\n",
       "      <td>2017-11-30 17:05:07</td>\n",
       "      <td>2017-12-06 11:42:29</td>\n",
       "      <td>2017-12-29</td>\n",
       "    </tr>\n",
       "    <tr>\n",
       "      <th>50968</th>\n",
       "      <td>2d9d63715c81835d6114d3f608fd9f1c</td>\n",
       "      <td>e424f099ba16554747def169a15b2b4f</td>\n",
       "      <td>delivered</td>\n",
       "      <td>2017-08-24 10:00:23</td>\n",
       "      <td>2017-08-24 10:15:17</td>\n",
       "      <td>2017-08-28 19:41:20</td>\n",
       "      <td>2017-08-31 20:47:32</td>\n",
       "      <td>2017-09-21</td>\n",
       "    </tr>\n",
       "    <tr>\n",
       "      <th>36040</th>\n",
       "      <td>ce1e2803ea11245b2537f957d011f115</td>\n",
       "      <td>fa1d38e22ef098c914de262f0f6d4c22</td>\n",
       "      <td>delivered</td>\n",
       "      <td>2017-07-21 19:47:02</td>\n",
       "      <td>2017-07-21 19:55:21</td>\n",
       "      <td>2017-07-24 22:56:27</td>\n",
       "      <td>2017-08-11 21:52:23</td>\n",
       "      <td>2017-08-28</td>\n",
       "    </tr>\n",
       "  </tbody>\n",
       "</table>\n",
       "</div>"
      ],
      "text/plain": [
       "                               order_id                       customer_id  \\\n",
       "10126  fbcac8a5f28ae481d3c3ebb74de5a7fd  eec86eb10f3bc01629ab99ffa32ea05a   \n",
       "3005   826b47e4cd7bba4e4c6fa5485f898b74  e68e6423401e85c138229b23d4bf4761   \n",
       "75217  06970f3ad11e6267192d7d98af40a8f5  3121273a484955eef5f8c940af3ebfb6   \n",
       "50968  2d9d63715c81835d6114d3f608fd9f1c  e424f099ba16554747def169a15b2b4f   \n",
       "36040  ce1e2803ea11245b2537f957d011f115  fa1d38e22ef098c914de262f0f6d4c22   \n",
       "\n",
       "      order_status order_purchase_timestamp   order_approved_at  \\\n",
       "10126    delivered      2018-03-25 13:09:20 2018-03-25 13:27:46   \n",
       "3005     delivered      2017-12-01 22:37:42 2017-12-01 22:52:53   \n",
       "75217    delivered      2017-11-27 14:18:58 2017-11-27 14:26:26   \n",
       "50968    delivered      2017-08-24 10:00:23 2017-08-24 10:15:17   \n",
       "36040    delivered      2017-07-21 19:47:02 2017-07-21 19:55:21   \n",
       "\n",
       "      order_delivered_carrier_date order_delivered_customer_date  \\\n",
       "10126          2018-03-27 10:06:37           2018-04-06 00:33:44   \n",
       "3005           2017-12-05 20:59:00           2017-12-06 19:09:43   \n",
       "75217          2017-11-30 17:05:07           2017-12-06 11:42:29   \n",
       "50968          2017-08-28 19:41:20           2017-08-31 20:47:32   \n",
       "36040          2017-07-24 22:56:27           2017-08-11 21:52:23   \n",
       "\n",
       "      order_estimated_delivery_date  \n",
       "10126                    2018-04-23  \n",
       "3005                     2017-12-27  \n",
       "75217                    2017-12-29  \n",
       "50968                    2017-09-21  \n",
       "36040                    2017-08-28  "
      ]
     },
     "execution_count": 40,
     "metadata": {},
     "output_type": "execute_result"
    }
   ],
   "source": [
    "orders_df.sample(5)"
   ]
  },
  {
   "cell_type": "code",
   "execution_count": 41,
   "metadata": {
    "id": "--513Z8pMBDw"
   },
   "outputs": [],
   "source": [
    "delivery_time = orders_df[\"order_delivered_customer_date\"] - orders_df[\"order_delivered_carrier_date\"]\n",
    "delivery_time = delivery_time.apply(lambda x: x.total_seconds())\n",
    "orders_df[\"delivery_time\"] = round(delivery_time/86400)"
   ]
  },
  {
   "cell_type": "code",
   "execution_count": 42,
   "metadata": {
    "colab": {
     "base_uri": "https://localhost:8080/",
     "height": 226
    },
    "id": "-JwAM0GxMCxk",
    "outputId": "01ed5dd1-5a75-419b-9957-4b8035839168"
   },
   "outputs": [
    {
     "data": {
      "text/html": [
       "<div>\n",
       "<style scoped>\n",
       "    .dataframe tbody tr th:only-of-type {\n",
       "        vertical-align: middle;\n",
       "    }\n",
       "\n",
       "    .dataframe tbody tr th {\n",
       "        vertical-align: top;\n",
       "    }\n",
       "\n",
       "    .dataframe thead th {\n",
       "        text-align: right;\n",
       "    }\n",
       "</style>\n",
       "<table border=\"1\" class=\"dataframe\">\n",
       "  <thead>\n",
       "    <tr style=\"text-align: right;\">\n",
       "      <th></th>\n",
       "      <th>order_id</th>\n",
       "      <th>customer_id</th>\n",
       "      <th>order_status</th>\n",
       "      <th>order_purchase_timestamp</th>\n",
       "      <th>order_approved_at</th>\n",
       "      <th>order_delivered_carrier_date</th>\n",
       "      <th>order_delivered_customer_date</th>\n",
       "      <th>order_estimated_delivery_date</th>\n",
       "      <th>delivery_time</th>\n",
       "    </tr>\n",
       "  </thead>\n",
       "  <tbody>\n",
       "    <tr>\n",
       "      <th>59578</th>\n",
       "      <td>6ba5ec180235f8b95042925408ed3bd0</td>\n",
       "      <td>bb9ae08977cdcb7fea21891f23631993</td>\n",
       "      <td>delivered</td>\n",
       "      <td>2018-01-16 23:21:40</td>\n",
       "      <td>2018-01-16 23:31:27</td>\n",
       "      <td>2018-01-18 22:52:52</td>\n",
       "      <td>2018-01-29 18:36:59</td>\n",
       "      <td>2018-02-16</td>\n",
       "      <td>11.0</td>\n",
       "    </tr>\n",
       "    <tr>\n",
       "      <th>48489</th>\n",
       "      <td>86603549dc4dc577ba20b693ecb5daca</td>\n",
       "      <td>94acbdff64edaeb307c7bcd31bedcde5</td>\n",
       "      <td>delivered</td>\n",
       "      <td>2018-06-06 15:55:22</td>\n",
       "      <td>2018-06-06 16:14:34</td>\n",
       "      <td>2018-06-14 14:36:00</td>\n",
       "      <td>2018-06-25 23:26:25</td>\n",
       "      <td>2018-07-19</td>\n",
       "      <td>11.0</td>\n",
       "    </tr>\n",
       "    <tr>\n",
       "      <th>34221</th>\n",
       "      <td>a59fd1b51d1198a8845cfb665209ea4d</td>\n",
       "      <td>db385be90c817dcb9a73ddcc0b88be79</td>\n",
       "      <td>delivered</td>\n",
       "      <td>2017-02-07 14:24:45</td>\n",
       "      <td>2017-02-07 14:42:12</td>\n",
       "      <td>2017-02-08 14:02:56</td>\n",
       "      <td>2017-02-11 15:35:49</td>\n",
       "      <td>2017-03-16</td>\n",
       "      <td>3.0</td>\n",
       "    </tr>\n",
       "    <tr>\n",
       "      <th>50947</th>\n",
       "      <td>7747943a54b29512ff1101e3881e5df9</td>\n",
       "      <td>d6fb0ffef6f30ad2e473857bc0f802bf</td>\n",
       "      <td>delivered</td>\n",
       "      <td>2017-08-10 19:58:16</td>\n",
       "      <td>2017-08-11 04:24:38</td>\n",
       "      <td>2017-08-11 18:20:03</td>\n",
       "      <td>2017-08-24 14:16:43</td>\n",
       "      <td>2017-09-01</td>\n",
       "      <td>13.0</td>\n",
       "    </tr>\n",
       "    <tr>\n",
       "      <th>69631</th>\n",
       "      <td>435361f134c9396bdb0de6ed227fd883</td>\n",
       "      <td>d1b1ef27bb2fbdeedc8823febfcc4072</td>\n",
       "      <td>delivered</td>\n",
       "      <td>2017-07-09 15:17:43</td>\n",
       "      <td>2017-07-10 21:05:15</td>\n",
       "      <td>2017-07-12 14:52:14</td>\n",
       "      <td>2017-07-13 18:18:47</td>\n",
       "      <td>2017-07-28</td>\n",
       "      <td>1.0</td>\n",
       "    </tr>\n",
       "  </tbody>\n",
       "</table>\n",
       "</div>"
      ],
      "text/plain": [
       "                               order_id                       customer_id  \\\n",
       "59578  6ba5ec180235f8b95042925408ed3bd0  bb9ae08977cdcb7fea21891f23631993   \n",
       "48489  86603549dc4dc577ba20b693ecb5daca  94acbdff64edaeb307c7bcd31bedcde5   \n",
       "34221  a59fd1b51d1198a8845cfb665209ea4d  db385be90c817dcb9a73ddcc0b88be79   \n",
       "50947  7747943a54b29512ff1101e3881e5df9  d6fb0ffef6f30ad2e473857bc0f802bf   \n",
       "69631  435361f134c9396bdb0de6ed227fd883  d1b1ef27bb2fbdeedc8823febfcc4072   \n",
       "\n",
       "      order_status order_purchase_timestamp   order_approved_at  \\\n",
       "59578    delivered      2018-01-16 23:21:40 2018-01-16 23:31:27   \n",
       "48489    delivered      2018-06-06 15:55:22 2018-06-06 16:14:34   \n",
       "34221    delivered      2017-02-07 14:24:45 2017-02-07 14:42:12   \n",
       "50947    delivered      2017-08-10 19:58:16 2017-08-11 04:24:38   \n",
       "69631    delivered      2017-07-09 15:17:43 2017-07-10 21:05:15   \n",
       "\n",
       "      order_delivered_carrier_date order_delivered_customer_date  \\\n",
       "59578          2018-01-18 22:52:52           2018-01-29 18:36:59   \n",
       "48489          2018-06-14 14:36:00           2018-06-25 23:26:25   \n",
       "34221          2017-02-08 14:02:56           2017-02-11 15:35:49   \n",
       "50947          2017-08-11 18:20:03           2017-08-24 14:16:43   \n",
       "69631          2017-07-12 14:52:14           2017-07-13 18:18:47   \n",
       "\n",
       "      order_estimated_delivery_date  delivery_time  \n",
       "59578                    2018-02-16           11.0  \n",
       "48489                    2018-07-19           11.0  \n",
       "34221                    2017-03-16            3.0  \n",
       "50947                    2017-09-01           13.0  \n",
       "69631                    2017-07-28            1.0  "
      ]
     },
     "execution_count": 42,
     "metadata": {},
     "output_type": "execute_result"
    }
   ],
   "source": [
    "orders_df.sample(5)"
   ]
  },
  {
   "cell_type": "code",
   "execution_count": 43,
   "metadata": {
    "colab": {
     "base_uri": "https://localhost:8080/",
     "height": 659
    },
    "id": "wa3jBBQRMUo5",
    "outputId": "631d7efb-ccea-43c8-ffca-483d7764d709"
   },
   "outputs": [
    {
     "name": "stderr",
     "output_type": "stream",
     "text": [
      "C:\\Users\\ACER\\AppData\\Local\\Temp\\ipykernel_22524\\2273736046.py:1: FutureWarning: Treating datetime data as categorical rather than numeric in `.describe` is deprecated and will be removed in a future version of pandas. Specify `datetime_is_numeric=True` to silence this warning and adopt the future behavior now.\n",
      "  orders_df.describe(include=\"all\")\n",
      "C:\\Users\\ACER\\AppData\\Local\\Temp\\ipykernel_22524\\2273736046.py:1: FutureWarning: Treating datetime data as categorical rather than numeric in `.describe` is deprecated and will be removed in a future version of pandas. Specify `datetime_is_numeric=True` to silence this warning and adopt the future behavior now.\n",
      "  orders_df.describe(include=\"all\")\n",
      "C:\\Users\\ACER\\AppData\\Local\\Temp\\ipykernel_22524\\2273736046.py:1: FutureWarning: Treating datetime data as categorical rather than numeric in `.describe` is deprecated and will be removed in a future version of pandas. Specify `datetime_is_numeric=True` to silence this warning and adopt the future behavior now.\n",
      "  orders_df.describe(include=\"all\")\n",
      "C:\\Users\\ACER\\AppData\\Local\\Temp\\ipykernel_22524\\2273736046.py:1: FutureWarning: Treating datetime data as categorical rather than numeric in `.describe` is deprecated and will be removed in a future version of pandas. Specify `datetime_is_numeric=True` to silence this warning and adopt the future behavior now.\n",
      "  orders_df.describe(include=\"all\")\n",
      "C:\\Users\\ACER\\AppData\\Local\\Temp\\ipykernel_22524\\2273736046.py:1: FutureWarning: Treating datetime data as categorical rather than numeric in `.describe` is deprecated and will be removed in a future version of pandas. Specify `datetime_is_numeric=True` to silence this warning and adopt the future behavior now.\n",
      "  orders_df.describe(include=\"all\")\n"
     ]
    },
    {
     "data": {
      "text/html": [
       "<div>\n",
       "<style scoped>\n",
       "    .dataframe tbody tr th:only-of-type {\n",
       "        vertical-align: middle;\n",
       "    }\n",
       "\n",
       "    .dataframe tbody tr th {\n",
       "        vertical-align: top;\n",
       "    }\n",
       "\n",
       "    .dataframe thead th {\n",
       "        text-align: right;\n",
       "    }\n",
       "</style>\n",
       "<table border=\"1\" class=\"dataframe\">\n",
       "  <thead>\n",
       "    <tr style=\"text-align: right;\">\n",
       "      <th></th>\n",
       "      <th>order_id</th>\n",
       "      <th>customer_id</th>\n",
       "      <th>order_status</th>\n",
       "      <th>order_purchase_timestamp</th>\n",
       "      <th>order_approved_at</th>\n",
       "      <th>order_delivered_carrier_date</th>\n",
       "      <th>order_delivered_customer_date</th>\n",
       "      <th>order_estimated_delivery_date</th>\n",
       "      <th>delivery_time</th>\n",
       "    </tr>\n",
       "  </thead>\n",
       "  <tbody>\n",
       "    <tr>\n",
       "      <th>count</th>\n",
       "      <td>99441</td>\n",
       "      <td>99441</td>\n",
       "      <td>99441</td>\n",
       "      <td>99441</td>\n",
       "      <td>99281</td>\n",
       "      <td>97658</td>\n",
       "      <td>96476</td>\n",
       "      <td>99441</td>\n",
       "      <td>96475.000000</td>\n",
       "    </tr>\n",
       "    <tr>\n",
       "      <th>unique</th>\n",
       "      <td>99441</td>\n",
       "      <td>99441</td>\n",
       "      <td>8</td>\n",
       "      <td>98875</td>\n",
       "      <td>90733</td>\n",
       "      <td>81018</td>\n",
       "      <td>95664</td>\n",
       "      <td>459</td>\n",
       "      <td>NaN</td>\n",
       "    </tr>\n",
       "    <tr>\n",
       "      <th>top</th>\n",
       "      <td>e481f51cbdc54678b7cc49136f2d6af7</td>\n",
       "      <td>9ef432eb6251297304e76186b10a928d</td>\n",
       "      <td>delivered</td>\n",
       "      <td>2018-04-11 10:48:14</td>\n",
       "      <td>2018-02-27 04:31:10</td>\n",
       "      <td>2018-05-09 15:48:00</td>\n",
       "      <td>2018-05-08 23:38:46</td>\n",
       "      <td>2017-12-20 00:00:00</td>\n",
       "      <td>NaN</td>\n",
       "    </tr>\n",
       "    <tr>\n",
       "      <th>freq</th>\n",
       "      <td>1</td>\n",
       "      <td>1</td>\n",
       "      <td>96478</td>\n",
       "      <td>3</td>\n",
       "      <td>9</td>\n",
       "      <td>47</td>\n",
       "      <td>3</td>\n",
       "      <td>522</td>\n",
       "      <td>NaN</td>\n",
       "    </tr>\n",
       "    <tr>\n",
       "      <th>first</th>\n",
       "      <td>NaN</td>\n",
       "      <td>NaN</td>\n",
       "      <td>NaN</td>\n",
       "      <td>2016-09-04 21:15:19</td>\n",
       "      <td>2016-09-15 12:16:38</td>\n",
       "      <td>2016-10-08 10:34:01</td>\n",
       "      <td>2016-10-11 13:46:32</td>\n",
       "      <td>2016-09-30 00:00:00</td>\n",
       "      <td>NaN</td>\n",
       "    </tr>\n",
       "    <tr>\n",
       "      <th>last</th>\n",
       "      <td>NaN</td>\n",
       "      <td>NaN</td>\n",
       "      <td>NaN</td>\n",
       "      <td>2018-10-17 17:30:18</td>\n",
       "      <td>2018-09-03 17:40:06</td>\n",
       "      <td>2018-09-11 19:48:28</td>\n",
       "      <td>2018-10-17 13:22:46</td>\n",
       "      <td>2018-11-12 00:00:00</td>\n",
       "      <td>NaN</td>\n",
       "    </tr>\n",
       "    <tr>\n",
       "      <th>mean</th>\n",
       "      <td>NaN</td>\n",
       "      <td>NaN</td>\n",
       "      <td>NaN</td>\n",
       "      <td>NaN</td>\n",
       "      <td>NaN</td>\n",
       "      <td>NaN</td>\n",
       "      <td>NaN</td>\n",
       "      <td>NaN</td>\n",
       "      <td>9.292314</td>\n",
       "    </tr>\n",
       "    <tr>\n",
       "      <th>std</th>\n",
       "      <td>NaN</td>\n",
       "      <td>NaN</td>\n",
       "      <td>NaN</td>\n",
       "      <td>NaN</td>\n",
       "      <td>NaN</td>\n",
       "      <td>NaN</td>\n",
       "      <td>NaN</td>\n",
       "      <td>NaN</td>\n",
       "      <td>8.776671</td>\n",
       "    </tr>\n",
       "    <tr>\n",
       "      <th>min</th>\n",
       "      <td>NaN</td>\n",
       "      <td>NaN</td>\n",
       "      <td>NaN</td>\n",
       "      <td>NaN</td>\n",
       "      <td>NaN</td>\n",
       "      <td>NaN</td>\n",
       "      <td>NaN</td>\n",
       "      <td>NaN</td>\n",
       "      <td>-16.000000</td>\n",
       "    </tr>\n",
       "    <tr>\n",
       "      <th>25%</th>\n",
       "      <td>NaN</td>\n",
       "      <td>NaN</td>\n",
       "      <td>NaN</td>\n",
       "      <td>NaN</td>\n",
       "      <td>NaN</td>\n",
       "      <td>NaN</td>\n",
       "      <td>NaN</td>\n",
       "      <td>NaN</td>\n",
       "      <td>4.000000</td>\n",
       "    </tr>\n",
       "    <tr>\n",
       "      <th>50%</th>\n",
       "      <td>NaN</td>\n",
       "      <td>NaN</td>\n",
       "      <td>NaN</td>\n",
       "      <td>NaN</td>\n",
       "      <td>NaN</td>\n",
       "      <td>NaN</td>\n",
       "      <td>NaN</td>\n",
       "      <td>NaN</td>\n",
       "      <td>7.000000</td>\n",
       "    </tr>\n",
       "    <tr>\n",
       "      <th>75%</th>\n",
       "      <td>NaN</td>\n",
       "      <td>NaN</td>\n",
       "      <td>NaN</td>\n",
       "      <td>NaN</td>\n",
       "      <td>NaN</td>\n",
       "      <td>NaN</td>\n",
       "      <td>NaN</td>\n",
       "      <td>NaN</td>\n",
       "      <td>12.000000</td>\n",
       "    </tr>\n",
       "    <tr>\n",
       "      <th>max</th>\n",
       "      <td>NaN</td>\n",
       "      <td>NaN</td>\n",
       "      <td>NaN</td>\n",
       "      <td>NaN</td>\n",
       "      <td>NaN</td>\n",
       "      <td>NaN</td>\n",
       "      <td>NaN</td>\n",
       "      <td>NaN</td>\n",
       "      <td>205.000000</td>\n",
       "    </tr>\n",
       "  </tbody>\n",
       "</table>\n",
       "</div>"
      ],
      "text/plain": [
       "                                order_id                       customer_id  \\\n",
       "count                              99441                             99441   \n",
       "unique                             99441                             99441   \n",
       "top     e481f51cbdc54678b7cc49136f2d6af7  9ef432eb6251297304e76186b10a928d   \n",
       "freq                                   1                                 1   \n",
       "first                                NaN                               NaN   \n",
       "last                                 NaN                               NaN   \n",
       "mean                                 NaN                               NaN   \n",
       "std                                  NaN                               NaN   \n",
       "min                                  NaN                               NaN   \n",
       "25%                                  NaN                               NaN   \n",
       "50%                                  NaN                               NaN   \n",
       "75%                                  NaN                               NaN   \n",
       "max                                  NaN                               NaN   \n",
       "\n",
       "       order_status order_purchase_timestamp    order_approved_at  \\\n",
       "count         99441                    99441                99281   \n",
       "unique            8                    98875                90733   \n",
       "top       delivered      2018-04-11 10:48:14  2018-02-27 04:31:10   \n",
       "freq          96478                        3                    9   \n",
       "first           NaN      2016-09-04 21:15:19  2016-09-15 12:16:38   \n",
       "last            NaN      2018-10-17 17:30:18  2018-09-03 17:40:06   \n",
       "mean            NaN                      NaN                  NaN   \n",
       "std             NaN                      NaN                  NaN   \n",
       "min             NaN                      NaN                  NaN   \n",
       "25%             NaN                      NaN                  NaN   \n",
       "50%             NaN                      NaN                  NaN   \n",
       "75%             NaN                      NaN                  NaN   \n",
       "max             NaN                      NaN                  NaN   \n",
       "\n",
       "       order_delivered_carrier_date order_delivered_customer_date  \\\n",
       "count                         97658                         96476   \n",
       "unique                        81018                         95664   \n",
       "top             2018-05-09 15:48:00           2018-05-08 23:38:46   \n",
       "freq                             47                             3   \n",
       "first           2016-10-08 10:34:01           2016-10-11 13:46:32   \n",
       "last            2018-09-11 19:48:28           2018-10-17 13:22:46   \n",
       "mean                            NaN                           NaN   \n",
       "std                             NaN                           NaN   \n",
       "min                             NaN                           NaN   \n",
       "25%                             NaN                           NaN   \n",
       "50%                             NaN                           NaN   \n",
       "75%                             NaN                           NaN   \n",
       "max                             NaN                           NaN   \n",
       "\n",
       "       order_estimated_delivery_date  delivery_time  \n",
       "count                          99441   96475.000000  \n",
       "unique                           459            NaN  \n",
       "top              2017-12-20 00:00:00            NaN  \n",
       "freq                             522            NaN  \n",
       "first            2016-09-30 00:00:00            NaN  \n",
       "last             2018-11-12 00:00:00            NaN  \n",
       "mean                             NaN       9.292314  \n",
       "std                              NaN       8.776671  \n",
       "min                              NaN     -16.000000  \n",
       "25%                              NaN       4.000000  \n",
       "50%                              NaN       7.000000  \n",
       "75%                              NaN      12.000000  \n",
       "max                              NaN     205.000000  "
      ]
     },
     "execution_count": 43,
     "metadata": {},
     "output_type": "execute_result"
    }
   ],
   "source": [
    "orders_df.describe(include=\"all\")"
   ]
  },
  {
   "cell_type": "markdown",
   "metadata": {
    "id": "H6L0j1luNfTY"
   },
   "source": [
    "### Explore customers_df & orders_df"
   ]
  },
  {
   "cell_type": "code",
   "execution_count": 44,
   "metadata": {
    "colab": {
     "base_uri": "https://localhost:8080/",
     "height": 261
    },
    "id": "yHNtOGWTNg-k",
    "outputId": "a0c6d6a2-1ac6-49a8-b9f5-9dd10ca3b15c"
   },
   "outputs": [
    {
     "data": {
      "text/html": [
       "<div>\n",
       "<style scoped>\n",
       "    .dataframe tbody tr th:only-of-type {\n",
       "        vertical-align: middle;\n",
       "    }\n",
       "\n",
       "    .dataframe tbody tr th {\n",
       "        vertical-align: top;\n",
       "    }\n",
       "\n",
       "    .dataframe thead th {\n",
       "        text-align: right;\n",
       "    }\n",
       "</style>\n",
       "<table border=\"1\" class=\"dataframe\">\n",
       "  <thead>\n",
       "    <tr style=\"text-align: right;\">\n",
       "      <th></th>\n",
       "      <th>customer_id</th>\n",
       "      <th>customer_unique_id</th>\n",
       "      <th>customer_zip_code_prefix</th>\n",
       "      <th>customer_city</th>\n",
       "      <th>customer_state</th>\n",
       "      <th>order_id</th>\n",
       "      <th>order_status</th>\n",
       "      <th>order_purchase_timestamp</th>\n",
       "      <th>order_approved_at</th>\n",
       "      <th>order_delivered_carrier_date</th>\n",
       "      <th>order_delivered_customer_date</th>\n",
       "      <th>order_estimated_delivery_date</th>\n",
       "      <th>delivery_time</th>\n",
       "    </tr>\n",
       "  </thead>\n",
       "  <tbody>\n",
       "    <tr>\n",
       "      <th>0</th>\n",
       "      <td>06b8999e2fba1a1fbc88172c00ba8bc7</td>\n",
       "      <td>861eff4711a542e4b93843c6dd7febb0</td>\n",
       "      <td>14409</td>\n",
       "      <td>franca</td>\n",
       "      <td>SP</td>\n",
       "      <td>00e7ee1b050b8499577073aeb2a297a1</td>\n",
       "      <td>delivered</td>\n",
       "      <td>2017-05-16 15:05:35</td>\n",
       "      <td>2017-05-16 15:22:12</td>\n",
       "      <td>2017-05-23 10:47:57</td>\n",
       "      <td>2017-05-25 10:35:35</td>\n",
       "      <td>2017-06-05</td>\n",
       "      <td>2.0</td>\n",
       "    </tr>\n",
       "    <tr>\n",
       "      <th>1</th>\n",
       "      <td>18955e83d337fd6b2def6b18a428ac77</td>\n",
       "      <td>290c77bc529b7ac935b93aa66c333dc3</td>\n",
       "      <td>9790</td>\n",
       "      <td>sao bernardo do campo</td>\n",
       "      <td>SP</td>\n",
       "      <td>29150127e6685892b6eab3eec79f59c7</td>\n",
       "      <td>delivered</td>\n",
       "      <td>2018-01-12 20:48:24</td>\n",
       "      <td>2018-01-12 20:58:32</td>\n",
       "      <td>2018-01-15 17:14:59</td>\n",
       "      <td>2018-01-29 12:41:19</td>\n",
       "      <td>2018-02-06</td>\n",
       "      <td>14.0</td>\n",
       "    </tr>\n",
       "    <tr>\n",
       "      <th>2</th>\n",
       "      <td>4e7b3e00288586ebd08712fdd0374a03</td>\n",
       "      <td>060e732b5b29e8181a18229c7b0b2b5e</td>\n",
       "      <td>1151</td>\n",
       "      <td>sao paulo</td>\n",
       "      <td>SP</td>\n",
       "      <td>b2059ed67ce144a36e2aa97d2c9e9ad2</td>\n",
       "      <td>delivered</td>\n",
       "      <td>2018-05-19 16:07:45</td>\n",
       "      <td>2018-05-20 16:19:10</td>\n",
       "      <td>2018-06-11 14:31:00</td>\n",
       "      <td>2018-06-14 17:58:51</td>\n",
       "      <td>2018-06-13</td>\n",
       "      <td>3.0</td>\n",
       "    </tr>\n",
       "    <tr>\n",
       "      <th>3</th>\n",
       "      <td>b2b6027bc5c5109e529d4dc6358b12c3</td>\n",
       "      <td>259dac757896d24d7702b9acbbff3f3c</td>\n",
       "      <td>8775</td>\n",
       "      <td>mogi das cruzes</td>\n",
       "      <td>SP</td>\n",
       "      <td>951670f92359f4fe4a63112aa7306eba</td>\n",
       "      <td>delivered</td>\n",
       "      <td>2018-03-13 16:06:38</td>\n",
       "      <td>2018-03-13 17:29:19</td>\n",
       "      <td>2018-03-27 23:22:42</td>\n",
       "      <td>2018-03-28 16:04:25</td>\n",
       "      <td>2018-04-10</td>\n",
       "      <td>1.0</td>\n",
       "    </tr>\n",
       "    <tr>\n",
       "      <th>4</th>\n",
       "      <td>4f2d8ab171c80ec8364f7c12e35b23ad</td>\n",
       "      <td>345ecd01c38d18a9036ed96c73b8d066</td>\n",
       "      <td>13056</td>\n",
       "      <td>campinas</td>\n",
       "      <td>SP</td>\n",
       "      <td>6b7d50bd145f6fc7f33cebabd7e49d0f</td>\n",
       "      <td>delivered</td>\n",
       "      <td>2018-07-29 09:51:30</td>\n",
       "      <td>2018-07-29 10:10:09</td>\n",
       "      <td>2018-07-30 15:16:00</td>\n",
       "      <td>2018-08-09 20:55:48</td>\n",
       "      <td>2018-08-15</td>\n",
       "      <td>10.0</td>\n",
       "    </tr>\n",
       "  </tbody>\n",
       "</table>\n",
       "</div>"
      ],
      "text/plain": [
       "                        customer_id                customer_unique_id  \\\n",
       "0  06b8999e2fba1a1fbc88172c00ba8bc7  861eff4711a542e4b93843c6dd7febb0   \n",
       "1  18955e83d337fd6b2def6b18a428ac77  290c77bc529b7ac935b93aa66c333dc3   \n",
       "2  4e7b3e00288586ebd08712fdd0374a03  060e732b5b29e8181a18229c7b0b2b5e   \n",
       "3  b2b6027bc5c5109e529d4dc6358b12c3  259dac757896d24d7702b9acbbff3f3c   \n",
       "4  4f2d8ab171c80ec8364f7c12e35b23ad  345ecd01c38d18a9036ed96c73b8d066   \n",
       "\n",
       "   customer_zip_code_prefix          customer_city customer_state  \\\n",
       "0                     14409                 franca             SP   \n",
       "1                      9790  sao bernardo do campo             SP   \n",
       "2                      1151              sao paulo             SP   \n",
       "3                      8775        mogi das cruzes             SP   \n",
       "4                     13056               campinas             SP   \n",
       "\n",
       "                           order_id order_status order_purchase_timestamp  \\\n",
       "0  00e7ee1b050b8499577073aeb2a297a1    delivered      2017-05-16 15:05:35   \n",
       "1  29150127e6685892b6eab3eec79f59c7    delivered      2018-01-12 20:48:24   \n",
       "2  b2059ed67ce144a36e2aa97d2c9e9ad2    delivered      2018-05-19 16:07:45   \n",
       "3  951670f92359f4fe4a63112aa7306eba    delivered      2018-03-13 16:06:38   \n",
       "4  6b7d50bd145f6fc7f33cebabd7e49d0f    delivered      2018-07-29 09:51:30   \n",
       "\n",
       "    order_approved_at order_delivered_carrier_date  \\\n",
       "0 2017-05-16 15:22:12          2017-05-23 10:47:57   \n",
       "1 2018-01-12 20:58:32          2018-01-15 17:14:59   \n",
       "2 2018-05-20 16:19:10          2018-06-11 14:31:00   \n",
       "3 2018-03-13 17:29:19          2018-03-27 23:22:42   \n",
       "4 2018-07-29 10:10:09          2018-07-30 15:16:00   \n",
       "\n",
       "  order_delivered_customer_date order_estimated_delivery_date  delivery_time  \n",
       "0           2017-05-25 10:35:35                    2017-06-05            2.0  \n",
       "1           2018-01-29 12:41:19                    2018-02-06           14.0  \n",
       "2           2018-06-14 17:58:51                    2018-06-13            3.0  \n",
       "3           2018-03-28 16:04:25                    2018-04-10            1.0  \n",
       "4           2018-08-09 20:55:48                    2018-08-15           10.0  "
      ]
     },
     "execution_count": 44,
     "metadata": {},
     "output_type": "execute_result"
    }
   ],
   "source": [
    "# Merge customers_df & orders_df\n",
    "customer_orders_df = pd.merge(\n",
    "    left=customers_df,\n",
    "    right=orders_df,\n",
    "    how=\"left\",\n",
    "    left_on=\"customer_id\",\n",
    "    right_on=\"customer_id\"\n",
    ")\n",
    "customer_orders_df.head()"
   ]
  },
  {
   "cell_type": "markdown",
   "metadata": {
    "id": "3LrGFIp5PewH"
   },
   "source": [
    "### Explore order_payment & order_reviews"
   ]
  },
  {
   "cell_type": "code",
   "execution_count": 45,
   "metadata": {
    "colab": {
     "base_uri": "https://localhost:8080/",
     "height": 226
    },
    "id": "tPLiaxmtNxyz",
    "outputId": "ef5abf07-becd-45e3-b0c0-dc80667baa44"
   },
   "outputs": [
    {
     "data": {
      "text/html": [
       "<div>\n",
       "<style scoped>\n",
       "    .dataframe tbody tr th:only-of-type {\n",
       "        vertical-align: middle;\n",
       "    }\n",
       "\n",
       "    .dataframe tbody tr th {\n",
       "        vertical-align: top;\n",
       "    }\n",
       "\n",
       "    .dataframe thead th {\n",
       "        text-align: right;\n",
       "    }\n",
       "</style>\n",
       "<table border=\"1\" class=\"dataframe\">\n",
       "  <thead>\n",
       "    <tr style=\"text-align: right;\">\n",
       "      <th></th>\n",
       "      <th>order_id</th>\n",
       "      <th>payment_sequential</th>\n",
       "      <th>payment_type</th>\n",
       "      <th>payment_installments</th>\n",
       "      <th>payment_value</th>\n",
       "      <th>review_id</th>\n",
       "      <th>review_score</th>\n",
       "      <th>review_creation_date</th>\n",
       "      <th>review_answer_timestamp</th>\n",
       "    </tr>\n",
       "  </thead>\n",
       "  <tbody>\n",
       "    <tr>\n",
       "      <th>0</th>\n",
       "      <td>b81ef226f3fe1789b1e8b2acac839d17</td>\n",
       "      <td>1</td>\n",
       "      <td>credit_card</td>\n",
       "      <td>8</td>\n",
       "      <td>99.33</td>\n",
       "      <td>4ce650e117a5b292bf5ea980a61eb61e</td>\n",
       "      <td>1.0</td>\n",
       "      <td>2018-05-10</td>\n",
       "      <td>2018-05-15 23:38:00</td>\n",
       "    </tr>\n",
       "    <tr>\n",
       "      <th>1</th>\n",
       "      <td>a9810da82917af2d9aefd1278f1dcfa0</td>\n",
       "      <td>1</td>\n",
       "      <td>credit_card</td>\n",
       "      <td>1</td>\n",
       "      <td>24.39</td>\n",
       "      <td>ad2036caca61484fc435d7e673c020f2</td>\n",
       "      <td>5.0</td>\n",
       "      <td>2018-06-30</td>\n",
       "      <td>2018-07-03 11:23:16</td>\n",
       "    </tr>\n",
       "    <tr>\n",
       "      <th>2</th>\n",
       "      <td>25e8ea4e93396b6fa0d3dd708e76c1bd</td>\n",
       "      <td>1</td>\n",
       "      <td>credit_card</td>\n",
       "      <td>1</td>\n",
       "      <td>65.71</td>\n",
       "      <td>bcddfa0f7d2e54cfc74bae4f01b84d92</td>\n",
       "      <td>5.0</td>\n",
       "      <td>2017-12-19</td>\n",
       "      <td>2017-12-22 17:55:30</td>\n",
       "    </tr>\n",
       "    <tr>\n",
       "      <th>3</th>\n",
       "      <td>ba78997921bbcdc1373bb41e913ab953</td>\n",
       "      <td>1</td>\n",
       "      <td>credit_card</td>\n",
       "      <td>8</td>\n",
       "      <td>107.78</td>\n",
       "      <td>c37a0e51e5df82bdb55d38ff0ffb6af3</td>\n",
       "      <td>5.0</td>\n",
       "      <td>2017-12-21</td>\n",
       "      <td>2017-12-21 21:42:31</td>\n",
       "    </tr>\n",
       "    <tr>\n",
       "      <th>4</th>\n",
       "      <td>ba78997921bbcdc1373bb41e913ab953</td>\n",
       "      <td>1</td>\n",
       "      <td>credit_card</td>\n",
       "      <td>8</td>\n",
       "      <td>107.78</td>\n",
       "      <td>5bc7680443b4ef765fec11a8201eeb0c</td>\n",
       "      <td>5.0</td>\n",
       "      <td>2017-12-21</td>\n",
       "      <td>2017-12-22 01:10:39</td>\n",
       "    </tr>\n",
       "  </tbody>\n",
       "</table>\n",
       "</div>"
      ],
      "text/plain": [
       "                           order_id  payment_sequential payment_type  \\\n",
       "0  b81ef226f3fe1789b1e8b2acac839d17                   1  credit_card   \n",
       "1  a9810da82917af2d9aefd1278f1dcfa0                   1  credit_card   \n",
       "2  25e8ea4e93396b6fa0d3dd708e76c1bd                   1  credit_card   \n",
       "3  ba78997921bbcdc1373bb41e913ab953                   1  credit_card   \n",
       "4  ba78997921bbcdc1373bb41e913ab953                   1  credit_card   \n",
       "\n",
       "   payment_installments  payment_value                         review_id  \\\n",
       "0                     8          99.33  4ce650e117a5b292bf5ea980a61eb61e   \n",
       "1                     1          24.39  ad2036caca61484fc435d7e673c020f2   \n",
       "2                     1          65.71  bcddfa0f7d2e54cfc74bae4f01b84d92   \n",
       "3                     8         107.78  c37a0e51e5df82bdb55d38ff0ffb6af3   \n",
       "4                     8         107.78  5bc7680443b4ef765fec11a8201eeb0c   \n",
       "\n",
       "   review_score review_creation_date review_answer_timestamp  \n",
       "0           1.0           2018-05-10     2018-05-15 23:38:00  \n",
       "1           5.0           2018-06-30     2018-07-03 11:23:16  \n",
       "2           5.0           2017-12-19     2017-12-22 17:55:30  \n",
       "3           5.0           2017-12-21     2017-12-21 21:42:31  \n",
       "4           5.0           2017-12-21     2017-12-22 01:10:39  "
      ]
     },
     "execution_count": 45,
     "metadata": {},
     "output_type": "execute_result"
    }
   ],
   "source": [
    "# Merge order_payment & order_reviews\n",
    "order_payment_review_df = pd.merge(\n",
    "    left=order_payment_df,\n",
    "    right=order_reviews_df,\n",
    "    how=\"left\",\n",
    "    left_on=\"order_id\",\n",
    "    right_on=\"order_id\"\n",
    ")\n",
    "order_payment_review_df.head()"
   ]
  },
  {
   "cell_type": "code",
   "execution_count": 46,
   "metadata": {
    "colab": {
     "base_uri": "https://localhost:8080/"
    },
    "id": "drzekxz0OXd7",
    "outputId": "1c24cf2a-0743-4a04-a2fb-22bd324e3ea3"
   },
   "outputs": [
    {
     "data": {
      "text/plain": [
       "payment_type\n",
       "credit_card    76505\n",
       "boleto         19784\n",
       "voucher         3866\n",
       "debit_card      1528\n",
       "not_defined        3\n",
       "Name: order_id, dtype: int64"
      ]
     },
     "execution_count": 46,
     "metadata": {},
     "output_type": "execute_result"
    }
   ],
   "source": [
    "order_payment_review_df.groupby(by=\"payment_type\").order_id.nunique().sort_values(ascending=False)"
   ]
  },
  {
   "cell_type": "code",
   "execution_count": 47,
   "metadata": {
    "colab": {
     "base_uri": "https://localhost:8080/",
     "height": 269
    },
    "id": "jTRGhoF5Ob8e",
    "outputId": "10a8a0b6-cdc2-4417-b483-ef5898763a1a"
   },
   "outputs": [
    {
     "data": {
      "text/html": [
       "<div>\n",
       "<style scoped>\n",
       "    .dataframe tbody tr th:only-of-type {\n",
       "        vertical-align: middle;\n",
       "    }\n",
       "\n",
       "    .dataframe tbody tr th {\n",
       "        vertical-align: top;\n",
       "    }\n",
       "\n",
       "    .dataframe thead tr th {\n",
       "        text-align: left;\n",
       "    }\n",
       "\n",
       "    .dataframe thead tr:last-of-type th {\n",
       "        text-align: right;\n",
       "    }\n",
       "</style>\n",
       "<table border=\"1\" class=\"dataframe\">\n",
       "  <thead>\n",
       "    <tr>\n",
       "      <th></th>\n",
       "      <th>order_id</th>\n",
       "      <th colspan=\"2\" halign=\"left\">payment_value</th>\n",
       "    </tr>\n",
       "    <tr>\n",
       "      <th></th>\n",
       "      <th>nunique</th>\n",
       "      <th>min</th>\n",
       "      <th>max</th>\n",
       "    </tr>\n",
       "    <tr>\n",
       "      <th>payment_type</th>\n",
       "      <th></th>\n",
       "      <th></th>\n",
       "      <th></th>\n",
       "    </tr>\n",
       "  </thead>\n",
       "  <tbody>\n",
       "    <tr>\n",
       "      <th>boleto</th>\n",
       "      <td>19784</td>\n",
       "      <td>11.62</td>\n",
       "      <td>7274.88</td>\n",
       "    </tr>\n",
       "    <tr>\n",
       "      <th>credit_card</th>\n",
       "      <td>76505</td>\n",
       "      <td>0.01</td>\n",
       "      <td>13664.08</td>\n",
       "    </tr>\n",
       "    <tr>\n",
       "      <th>debit_card</th>\n",
       "      <td>1528</td>\n",
       "      <td>13.38</td>\n",
       "      <td>4445.50</td>\n",
       "    </tr>\n",
       "    <tr>\n",
       "      <th>not_defined</th>\n",
       "      <td>3</td>\n",
       "      <td>0.00</td>\n",
       "      <td>0.00</td>\n",
       "    </tr>\n",
       "    <tr>\n",
       "      <th>voucher</th>\n",
       "      <td>3866</td>\n",
       "      <td>0.00</td>\n",
       "      <td>3184.34</td>\n",
       "    </tr>\n",
       "  </tbody>\n",
       "</table>\n",
       "</div>"
      ],
      "text/plain": [
       "             order_id payment_value          \n",
       "              nunique           min       max\n",
       "payment_type                                 \n",
       "boleto          19784         11.62   7274.88\n",
       "credit_card     76505          0.01  13664.08\n",
       "debit_card       1528         13.38   4445.50\n",
       "not_defined         3          0.00      0.00\n",
       "voucher          3866          0.00   3184.34"
      ]
     },
     "execution_count": 47,
     "metadata": {},
     "output_type": "execute_result"
    }
   ],
   "source": [
    "order_payment_review_df.groupby(by=\"payment_type\").agg({\n",
    "    \"order_id\": \"nunique\",\n",
    "    \"payment_value\":  [\"min\", \"max\"]\n",
    "})"
   ]
  },
  {
   "cell_type": "code",
   "execution_count": 48,
   "metadata": {
    "colab": {
     "base_uri": "https://localhost:8080/",
     "height": 550
    },
    "id": "qiLKN0oFmjqv",
    "outputId": "e10dda7b-a919-4e35-bc67-7f6f6f18fc09"
   },
   "outputs": [
    {
     "name": "stderr",
     "output_type": "stream",
     "text": [
      "C:\\Users\\ACER\\AppData\\Local\\Temp\\ipykernel_22524\\3772756675.py:1: FutureWarning: Treating datetime data as categorical rather than numeric in `.describe` is deprecated and will be removed in a future version of pandas. Specify `datetime_is_numeric=True` to silence this warning and adopt the future behavior now.\n",
      "  order_payment_review_df.describe(include=\"all\")\n",
      "C:\\Users\\ACER\\AppData\\Local\\Temp\\ipykernel_22524\\3772756675.py:1: FutureWarning: Treating datetime data as categorical rather than numeric in `.describe` is deprecated and will be removed in a future version of pandas. Specify `datetime_is_numeric=True` to silence this warning and adopt the future behavior now.\n",
      "  order_payment_review_df.describe(include=\"all\")\n"
     ]
    },
    {
     "data": {
      "text/html": [
       "<div>\n",
       "<style scoped>\n",
       "    .dataframe tbody tr th:only-of-type {\n",
       "        vertical-align: middle;\n",
       "    }\n",
       "\n",
       "    .dataframe tbody tr th {\n",
       "        vertical-align: top;\n",
       "    }\n",
       "\n",
       "    .dataframe thead th {\n",
       "        text-align: right;\n",
       "    }\n",
       "</style>\n",
       "<table border=\"1\" class=\"dataframe\">\n",
       "  <thead>\n",
       "    <tr style=\"text-align: right;\">\n",
       "      <th></th>\n",
       "      <th>order_id</th>\n",
       "      <th>payment_sequential</th>\n",
       "      <th>payment_type</th>\n",
       "      <th>payment_installments</th>\n",
       "      <th>payment_value</th>\n",
       "      <th>review_id</th>\n",
       "      <th>review_score</th>\n",
       "      <th>review_creation_date</th>\n",
       "      <th>review_answer_timestamp</th>\n",
       "    </tr>\n",
       "  </thead>\n",
       "  <tbody>\n",
       "    <tr>\n",
       "      <th>count</th>\n",
       "      <td>104477</td>\n",
       "      <td>104477.000000</td>\n",
       "      <td>104477</td>\n",
       "      <td>104477.000000</td>\n",
       "      <td>104477.000000</td>\n",
       "      <td>103677</td>\n",
       "      <td>103677.000000</td>\n",
       "      <td>103677</td>\n",
       "      <td>103677</td>\n",
       "    </tr>\n",
       "    <tr>\n",
       "      <th>unique</th>\n",
       "      <td>99440</td>\n",
       "      <td>NaN</td>\n",
       "      <td>5</td>\n",
       "      <td>NaN</td>\n",
       "      <td>NaN</td>\n",
       "      <td>98409</td>\n",
       "      <td>NaN</td>\n",
       "      <td>635</td>\n",
       "      <td>98247</td>\n",
       "    </tr>\n",
       "    <tr>\n",
       "      <th>top</th>\n",
       "      <td>fa65dad1b0e818e3ccc5cb0e39231352</td>\n",
       "      <td>NaN</td>\n",
       "      <td>credit_card</td>\n",
       "      <td>NaN</td>\n",
       "      <td>NaN</td>\n",
       "      <td>f28281373ab8815bafafe371218f02ce</td>\n",
       "      <td>NaN</td>\n",
       "      <td>2017-12-19 00:00:00</td>\n",
       "      <td>2017-05-24 16:21:27</td>\n",
       "    </tr>\n",
       "    <tr>\n",
       "      <th>freq</th>\n",
       "      <td>29</td>\n",
       "      <td>NaN</td>\n",
       "      <td>77198</td>\n",
       "      <td>NaN</td>\n",
       "      <td>NaN</td>\n",
       "      <td>29</td>\n",
       "      <td>NaN</td>\n",
       "      <td>479</td>\n",
       "      <td>29</td>\n",
       "    </tr>\n",
       "    <tr>\n",
       "      <th>first</th>\n",
       "      <td>NaN</td>\n",
       "      <td>NaN</td>\n",
       "      <td>NaN</td>\n",
       "      <td>NaN</td>\n",
       "      <td>NaN</td>\n",
       "      <td>NaN</td>\n",
       "      <td>NaN</td>\n",
       "      <td>2016-10-02 00:00:00</td>\n",
       "      <td>2016-10-11 14:31:29</td>\n",
       "    </tr>\n",
       "    <tr>\n",
       "      <th>last</th>\n",
       "      <td>NaN</td>\n",
       "      <td>NaN</td>\n",
       "      <td>NaN</td>\n",
       "      <td>NaN</td>\n",
       "      <td>NaN</td>\n",
       "      <td>NaN</td>\n",
       "      <td>NaN</td>\n",
       "      <td>2018-08-31 00:00:00</td>\n",
       "      <td>2018-10-29 12:27:35</td>\n",
       "    </tr>\n",
       "    <tr>\n",
       "      <th>mean</th>\n",
       "      <td>NaN</td>\n",
       "      <td>1.093379</td>\n",
       "      <td>NaN</td>\n",
       "      <td>2.856418</td>\n",
       "      <td>153.923071</td>\n",
       "      <td>NaN</td>\n",
       "      <td>4.083886</td>\n",
       "      <td>NaN</td>\n",
       "      <td>NaN</td>\n",
       "    </tr>\n",
       "    <tr>\n",
       "      <th>std</th>\n",
       "      <td>NaN</td>\n",
       "      <td>0.709289</td>\n",
       "      <td>NaN</td>\n",
       "      <td>2.690075</td>\n",
       "      <td>217.120187</td>\n",
       "      <td>NaN</td>\n",
       "      <td>1.349185</td>\n",
       "      <td>NaN</td>\n",
       "      <td>NaN</td>\n",
       "    </tr>\n",
       "    <tr>\n",
       "      <th>min</th>\n",
       "      <td>NaN</td>\n",
       "      <td>1.000000</td>\n",
       "      <td>NaN</td>\n",
       "      <td>0.000000</td>\n",
       "      <td>0.000000</td>\n",
       "      <td>NaN</td>\n",
       "      <td>1.000000</td>\n",
       "      <td>NaN</td>\n",
       "      <td>NaN</td>\n",
       "    </tr>\n",
       "    <tr>\n",
       "      <th>25%</th>\n",
       "      <td>NaN</td>\n",
       "      <td>1.000000</td>\n",
       "      <td>NaN</td>\n",
       "      <td>1.000000</td>\n",
       "      <td>56.780000</td>\n",
       "      <td>NaN</td>\n",
       "      <td>4.000000</td>\n",
       "      <td>NaN</td>\n",
       "      <td>NaN</td>\n",
       "    </tr>\n",
       "    <tr>\n",
       "      <th>50%</th>\n",
       "      <td>NaN</td>\n",
       "      <td>1.000000</td>\n",
       "      <td>NaN</td>\n",
       "      <td>1.000000</td>\n",
       "      <td>100.000000</td>\n",
       "      <td>NaN</td>\n",
       "      <td>5.000000</td>\n",
       "      <td>NaN</td>\n",
       "      <td>NaN</td>\n",
       "    </tr>\n",
       "    <tr>\n",
       "      <th>75%</th>\n",
       "      <td>NaN</td>\n",
       "      <td>1.000000</td>\n",
       "      <td>NaN</td>\n",
       "      <td>4.000000</td>\n",
       "      <td>171.690000</td>\n",
       "      <td>NaN</td>\n",
       "      <td>5.000000</td>\n",
       "      <td>NaN</td>\n",
       "      <td>NaN</td>\n",
       "    </tr>\n",
       "    <tr>\n",
       "      <th>max</th>\n",
       "      <td>NaN</td>\n",
       "      <td>29.000000</td>\n",
       "      <td>NaN</td>\n",
       "      <td>24.000000</td>\n",
       "      <td>13664.080000</td>\n",
       "      <td>NaN</td>\n",
       "      <td>5.000000</td>\n",
       "      <td>NaN</td>\n",
       "      <td>NaN</td>\n",
       "    </tr>\n",
       "  </tbody>\n",
       "</table>\n",
       "</div>"
      ],
      "text/plain": [
       "                                order_id  payment_sequential payment_type  \\\n",
       "count                             104477       104477.000000       104477   \n",
       "unique                             99440                 NaN            5   \n",
       "top     fa65dad1b0e818e3ccc5cb0e39231352                 NaN  credit_card   \n",
       "freq                                  29                 NaN        77198   \n",
       "first                                NaN                 NaN          NaN   \n",
       "last                                 NaN                 NaN          NaN   \n",
       "mean                                 NaN            1.093379          NaN   \n",
       "std                                  NaN            0.709289          NaN   \n",
       "min                                  NaN            1.000000          NaN   \n",
       "25%                                  NaN            1.000000          NaN   \n",
       "50%                                  NaN            1.000000          NaN   \n",
       "75%                                  NaN            1.000000          NaN   \n",
       "max                                  NaN           29.000000          NaN   \n",
       "\n",
       "        payment_installments  payment_value                         review_id  \\\n",
       "count          104477.000000  104477.000000                            103677   \n",
       "unique                   NaN            NaN                             98409   \n",
       "top                      NaN            NaN  f28281373ab8815bafafe371218f02ce   \n",
       "freq                     NaN            NaN                                29   \n",
       "first                    NaN            NaN                               NaN   \n",
       "last                     NaN            NaN                               NaN   \n",
       "mean                2.856418     153.923071                               NaN   \n",
       "std                 2.690075     217.120187                               NaN   \n",
       "min                 0.000000       0.000000                               NaN   \n",
       "25%                 1.000000      56.780000                               NaN   \n",
       "50%                 1.000000     100.000000                               NaN   \n",
       "75%                 4.000000     171.690000                               NaN   \n",
       "max                24.000000   13664.080000                               NaN   \n",
       "\n",
       "         review_score review_creation_date review_answer_timestamp  \n",
       "count   103677.000000               103677                  103677  \n",
       "unique            NaN                  635                   98247  \n",
       "top               NaN  2017-12-19 00:00:00     2017-05-24 16:21:27  \n",
       "freq              NaN                  479                      29  \n",
       "first             NaN  2016-10-02 00:00:00     2016-10-11 14:31:29  \n",
       "last              NaN  2018-08-31 00:00:00     2018-10-29 12:27:35  \n",
       "mean         4.083886                  NaN                     NaN  \n",
       "std          1.349185                  NaN                     NaN  \n",
       "min          1.000000                  NaN                     NaN  \n",
       "25%          4.000000                  NaN                     NaN  \n",
       "50%          5.000000                  NaN                     NaN  \n",
       "75%          5.000000                  NaN                     NaN  \n",
       "max          5.000000                  NaN                     NaN  "
      ]
     },
     "execution_count": 48,
     "metadata": {},
     "output_type": "execute_result"
    }
   ],
   "source": [
    "order_payment_review_df.describe(include=\"all\")"
   ]
  },
  {
   "cell_type": "markdown",
   "metadata": {
    "id": "XYc0i1isQAZB"
   },
   "source": [
    "### Explore customers_orders & payments_reviews"
   ]
  },
  {
   "cell_type": "code",
   "execution_count": 49,
   "metadata": {
    "colab": {
     "base_uri": "https://localhost:8080/",
     "height": 290
    },
    "id": "_1dB-B0YOoNX",
    "outputId": "5d6d6e8c-447e-4fd6-b2fe-3e30c6a0ee4c"
   },
   "outputs": [
    {
     "data": {
      "text/html": [
       "<div>\n",
       "<style scoped>\n",
       "    .dataframe tbody tr th:only-of-type {\n",
       "        vertical-align: middle;\n",
       "    }\n",
       "\n",
       "    .dataframe tbody tr th {\n",
       "        vertical-align: top;\n",
       "    }\n",
       "\n",
       "    .dataframe thead th {\n",
       "        text-align: right;\n",
       "    }\n",
       "</style>\n",
       "<table border=\"1\" class=\"dataframe\">\n",
       "  <thead>\n",
       "    <tr style=\"text-align: right;\">\n",
       "      <th></th>\n",
       "      <th>customer_id</th>\n",
       "      <th>customer_unique_id</th>\n",
       "      <th>customer_zip_code_prefix</th>\n",
       "      <th>customer_city</th>\n",
       "      <th>customer_state</th>\n",
       "      <th>order_id</th>\n",
       "      <th>order_status</th>\n",
       "      <th>order_purchase_timestamp</th>\n",
       "      <th>order_approved_at</th>\n",
       "      <th>order_delivered_carrier_date</th>\n",
       "      <th>...</th>\n",
       "      <th>order_estimated_delivery_date</th>\n",
       "      <th>delivery_time</th>\n",
       "      <th>payment_sequential</th>\n",
       "      <th>payment_type</th>\n",
       "      <th>payment_installments</th>\n",
       "      <th>payment_value</th>\n",
       "      <th>review_id</th>\n",
       "      <th>review_score</th>\n",
       "      <th>review_creation_date</th>\n",
       "      <th>review_answer_timestamp</th>\n",
       "    </tr>\n",
       "  </thead>\n",
       "  <tbody>\n",
       "    <tr>\n",
       "      <th>0</th>\n",
       "      <td>06b8999e2fba1a1fbc88172c00ba8bc7</td>\n",
       "      <td>861eff4711a542e4b93843c6dd7febb0</td>\n",
       "      <td>14409</td>\n",
       "      <td>franca</td>\n",
       "      <td>SP</td>\n",
       "      <td>00e7ee1b050b8499577073aeb2a297a1</td>\n",
       "      <td>delivered</td>\n",
       "      <td>2017-05-16 15:05:35</td>\n",
       "      <td>2017-05-16 15:22:12</td>\n",
       "      <td>2017-05-23 10:47:57</td>\n",
       "      <td>...</td>\n",
       "      <td>2017-06-05</td>\n",
       "      <td>2.0</td>\n",
       "      <td>1.0</td>\n",
       "      <td>credit_card</td>\n",
       "      <td>2.0</td>\n",
       "      <td>146.87</td>\n",
       "      <td>88b8b52d46df026a9d1ad2136a59b30b</td>\n",
       "      <td>4.0</td>\n",
       "      <td>2017-05-26</td>\n",
       "      <td>2017-05-30 22:34:40</td>\n",
       "    </tr>\n",
       "    <tr>\n",
       "      <th>1</th>\n",
       "      <td>18955e83d337fd6b2def6b18a428ac77</td>\n",
       "      <td>290c77bc529b7ac935b93aa66c333dc3</td>\n",
       "      <td>9790</td>\n",
       "      <td>sao bernardo do campo</td>\n",
       "      <td>SP</td>\n",
       "      <td>29150127e6685892b6eab3eec79f59c7</td>\n",
       "      <td>delivered</td>\n",
       "      <td>2018-01-12 20:48:24</td>\n",
       "      <td>2018-01-12 20:58:32</td>\n",
       "      <td>2018-01-15 17:14:59</td>\n",
       "      <td>...</td>\n",
       "      <td>2018-02-06</td>\n",
       "      <td>14.0</td>\n",
       "      <td>1.0</td>\n",
       "      <td>credit_card</td>\n",
       "      <td>8.0</td>\n",
       "      <td>335.48</td>\n",
       "      <td>02fc48a9efa3e3d0f1a8ea26507eeec3</td>\n",
       "      <td>5.0</td>\n",
       "      <td>2018-01-30</td>\n",
       "      <td>2018-02-10 22:43:29</td>\n",
       "    </tr>\n",
       "    <tr>\n",
       "      <th>2</th>\n",
       "      <td>4e7b3e00288586ebd08712fdd0374a03</td>\n",
       "      <td>060e732b5b29e8181a18229c7b0b2b5e</td>\n",
       "      <td>1151</td>\n",
       "      <td>sao paulo</td>\n",
       "      <td>SP</td>\n",
       "      <td>b2059ed67ce144a36e2aa97d2c9e9ad2</td>\n",
       "      <td>delivered</td>\n",
       "      <td>2018-05-19 16:07:45</td>\n",
       "      <td>2018-05-20 16:19:10</td>\n",
       "      <td>2018-06-11 14:31:00</td>\n",
       "      <td>...</td>\n",
       "      <td>2018-06-13</td>\n",
       "      <td>3.0</td>\n",
       "      <td>1.0</td>\n",
       "      <td>credit_card</td>\n",
       "      <td>7.0</td>\n",
       "      <td>157.73</td>\n",
       "      <td>5ad6695d76ee186dc473c42706984d87</td>\n",
       "      <td>5.0</td>\n",
       "      <td>2018-06-15</td>\n",
       "      <td>2018-06-15 12:10:59</td>\n",
       "    </tr>\n",
       "    <tr>\n",
       "      <th>3</th>\n",
       "      <td>b2b6027bc5c5109e529d4dc6358b12c3</td>\n",
       "      <td>259dac757896d24d7702b9acbbff3f3c</td>\n",
       "      <td>8775</td>\n",
       "      <td>mogi das cruzes</td>\n",
       "      <td>SP</td>\n",
       "      <td>951670f92359f4fe4a63112aa7306eba</td>\n",
       "      <td>delivered</td>\n",
       "      <td>2018-03-13 16:06:38</td>\n",
       "      <td>2018-03-13 17:29:19</td>\n",
       "      <td>2018-03-27 23:22:42</td>\n",
       "      <td>...</td>\n",
       "      <td>2018-04-10</td>\n",
       "      <td>1.0</td>\n",
       "      <td>1.0</td>\n",
       "      <td>credit_card</td>\n",
       "      <td>1.0</td>\n",
       "      <td>173.30</td>\n",
       "      <td>059a801bb31f6aab2266e672cab87bc5</td>\n",
       "      <td>5.0</td>\n",
       "      <td>2018-03-29</td>\n",
       "      <td>2018-04-02 18:36:47</td>\n",
       "    </tr>\n",
       "    <tr>\n",
       "      <th>4</th>\n",
       "      <td>4f2d8ab171c80ec8364f7c12e35b23ad</td>\n",
       "      <td>345ecd01c38d18a9036ed96c73b8d066</td>\n",
       "      <td>13056</td>\n",
       "      <td>campinas</td>\n",
       "      <td>SP</td>\n",
       "      <td>6b7d50bd145f6fc7f33cebabd7e49d0f</td>\n",
       "      <td>delivered</td>\n",
       "      <td>2018-07-29 09:51:30</td>\n",
       "      <td>2018-07-29 10:10:09</td>\n",
       "      <td>2018-07-30 15:16:00</td>\n",
       "      <td>...</td>\n",
       "      <td>2018-08-15</td>\n",
       "      <td>10.0</td>\n",
       "      <td>1.0</td>\n",
       "      <td>credit_card</td>\n",
       "      <td>8.0</td>\n",
       "      <td>252.25</td>\n",
       "      <td>8490879d58d6c5d7773f2739a03f089a</td>\n",
       "      <td>5.0</td>\n",
       "      <td>2018-08-10</td>\n",
       "      <td>2018-08-17 01:59:52</td>\n",
       "    </tr>\n",
       "  </tbody>\n",
       "</table>\n",
       "<p>5 rows × 21 columns</p>\n",
       "</div>"
      ],
      "text/plain": [
       "                        customer_id                customer_unique_id  \\\n",
       "0  06b8999e2fba1a1fbc88172c00ba8bc7  861eff4711a542e4b93843c6dd7febb0   \n",
       "1  18955e83d337fd6b2def6b18a428ac77  290c77bc529b7ac935b93aa66c333dc3   \n",
       "2  4e7b3e00288586ebd08712fdd0374a03  060e732b5b29e8181a18229c7b0b2b5e   \n",
       "3  b2b6027bc5c5109e529d4dc6358b12c3  259dac757896d24d7702b9acbbff3f3c   \n",
       "4  4f2d8ab171c80ec8364f7c12e35b23ad  345ecd01c38d18a9036ed96c73b8d066   \n",
       "\n",
       "   customer_zip_code_prefix          customer_city customer_state  \\\n",
       "0                     14409                 franca             SP   \n",
       "1                      9790  sao bernardo do campo             SP   \n",
       "2                      1151              sao paulo             SP   \n",
       "3                      8775        mogi das cruzes             SP   \n",
       "4                     13056               campinas             SP   \n",
       "\n",
       "                           order_id order_status order_purchase_timestamp  \\\n",
       "0  00e7ee1b050b8499577073aeb2a297a1    delivered      2017-05-16 15:05:35   \n",
       "1  29150127e6685892b6eab3eec79f59c7    delivered      2018-01-12 20:48:24   \n",
       "2  b2059ed67ce144a36e2aa97d2c9e9ad2    delivered      2018-05-19 16:07:45   \n",
       "3  951670f92359f4fe4a63112aa7306eba    delivered      2018-03-13 16:06:38   \n",
       "4  6b7d50bd145f6fc7f33cebabd7e49d0f    delivered      2018-07-29 09:51:30   \n",
       "\n",
       "    order_approved_at order_delivered_carrier_date  ...  \\\n",
       "0 2017-05-16 15:22:12          2017-05-23 10:47:57  ...   \n",
       "1 2018-01-12 20:58:32          2018-01-15 17:14:59  ...   \n",
       "2 2018-05-20 16:19:10          2018-06-11 14:31:00  ...   \n",
       "3 2018-03-13 17:29:19          2018-03-27 23:22:42  ...   \n",
       "4 2018-07-29 10:10:09          2018-07-30 15:16:00  ...   \n",
       "\n",
       "  order_estimated_delivery_date delivery_time  payment_sequential  \\\n",
       "0                    2017-06-05           2.0                 1.0   \n",
       "1                    2018-02-06          14.0                 1.0   \n",
       "2                    2018-06-13           3.0                 1.0   \n",
       "3                    2018-04-10           1.0                 1.0   \n",
       "4                    2018-08-15          10.0                 1.0   \n",
       "\n",
       "   payment_type payment_installments  payment_value  \\\n",
       "0   credit_card                  2.0         146.87   \n",
       "1   credit_card                  8.0         335.48   \n",
       "2   credit_card                  7.0         157.73   \n",
       "3   credit_card                  1.0         173.30   \n",
       "4   credit_card                  8.0         252.25   \n",
       "\n",
       "                          review_id review_score  review_creation_date  \\\n",
       "0  88b8b52d46df026a9d1ad2136a59b30b          4.0            2017-05-26   \n",
       "1  02fc48a9efa3e3d0f1a8ea26507eeec3          5.0            2018-01-30   \n",
       "2  5ad6695d76ee186dc473c42706984d87          5.0            2018-06-15   \n",
       "3  059a801bb31f6aab2266e672cab87bc5          5.0            2018-03-29   \n",
       "4  8490879d58d6c5d7773f2739a03f089a          5.0            2018-08-10   \n",
       "\n",
       "  review_answer_timestamp  \n",
       "0     2017-05-30 22:34:40  \n",
       "1     2018-02-10 22:43:29  \n",
       "2     2018-06-15 12:10:59  \n",
       "3     2018-04-02 18:36:47  \n",
       "4     2018-08-17 01:59:52  \n",
       "\n",
       "[5 rows x 21 columns]"
      ]
     },
     "execution_count": 49,
     "metadata": {},
     "output_type": "execute_result"
    }
   ],
   "source": [
    "# Merge customers_orders & payments_reviews\n",
    "customer_df = pd.merge(\n",
    "    left=customer_orders_df,\n",
    "    right=order_payment_review_df,\n",
    "    how=\"left\",\n",
    "    left_on=\"order_id\",\n",
    "    right_on=\"order_id\"\n",
    ")\n",
    "customer_df.head()"
   ]
  },
  {
   "cell_type": "markdown",
   "metadata": {
    "id": "5MwazsofQFJt"
   },
   "source": [
    "### Explore order_items & sellers"
   ]
  },
  {
   "cell_type": "code",
   "execution_count": 50,
   "metadata": {
    "colab": {
     "base_uri": "https://localhost:8080/",
     "height": 261
    },
    "id": "DBnhKfwZQKoP",
    "outputId": "389df363-0fc7-4596-89a3-6cc964ffffb7"
   },
   "outputs": [
    {
     "data": {
      "text/html": [
       "<div>\n",
       "<style scoped>\n",
       "    .dataframe tbody tr th:only-of-type {\n",
       "        vertical-align: middle;\n",
       "    }\n",
       "\n",
       "    .dataframe tbody tr th {\n",
       "        vertical-align: top;\n",
       "    }\n",
       "\n",
       "    .dataframe thead th {\n",
       "        text-align: right;\n",
       "    }\n",
       "</style>\n",
       "<table border=\"1\" class=\"dataframe\">\n",
       "  <thead>\n",
       "    <tr style=\"text-align: right;\">\n",
       "      <th></th>\n",
       "      <th>order_id</th>\n",
       "      <th>order_item_id</th>\n",
       "      <th>product_id</th>\n",
       "      <th>seller_id</th>\n",
       "      <th>shipping_limit_date</th>\n",
       "      <th>price</th>\n",
       "      <th>freight_value</th>\n",
       "      <th>seller_zip_code_prefix</th>\n",
       "      <th>seller_city</th>\n",
       "      <th>seller_state</th>\n",
       "    </tr>\n",
       "  </thead>\n",
       "  <tbody>\n",
       "    <tr>\n",
       "      <th>0</th>\n",
       "      <td>00010242fe8c5a6d1ba2dd792cb16214</td>\n",
       "      <td>1</td>\n",
       "      <td>4244733e06e7ecb4970a6e2683c13e61</td>\n",
       "      <td>48436dade18ac8b2bce089ec2a041202</td>\n",
       "      <td>2017-09-19 09:45:35</td>\n",
       "      <td>58.90</td>\n",
       "      <td>13.29</td>\n",
       "      <td>27277</td>\n",
       "      <td>volta redonda</td>\n",
       "      <td>SP</td>\n",
       "    </tr>\n",
       "    <tr>\n",
       "      <th>1</th>\n",
       "      <td>00018f77f2f0320c557190d7a144bdd3</td>\n",
       "      <td>1</td>\n",
       "      <td>e5f2d52b802189ee658865ca93d83a8f</td>\n",
       "      <td>dd7ddc04e1b6c2c614352b383efe2d36</td>\n",
       "      <td>2017-05-03 11:05:13</td>\n",
       "      <td>239.90</td>\n",
       "      <td>19.93</td>\n",
       "      <td>3471</td>\n",
       "      <td>sao paulo</td>\n",
       "      <td>SP</td>\n",
       "    </tr>\n",
       "    <tr>\n",
       "      <th>2</th>\n",
       "      <td>000229ec398224ef6ca0657da4fc703e</td>\n",
       "      <td>1</td>\n",
       "      <td>c777355d18b72b67abbeef9df44fd0fd</td>\n",
       "      <td>5b51032eddd242adc84c38acab88f23d</td>\n",
       "      <td>2018-01-18 14:48:30</td>\n",
       "      <td>199.00</td>\n",
       "      <td>17.87</td>\n",
       "      <td>37564</td>\n",
       "      <td>borda da mata</td>\n",
       "      <td>MG</td>\n",
       "    </tr>\n",
       "    <tr>\n",
       "      <th>3</th>\n",
       "      <td>00024acbcdf0a6daa1e931b038114c75</td>\n",
       "      <td>1</td>\n",
       "      <td>7634da152a4610f1595efa32f14722fc</td>\n",
       "      <td>9d7a1d34a5052409006425275ba1c2b4</td>\n",
       "      <td>2018-08-15 10:10:18</td>\n",
       "      <td>12.99</td>\n",
       "      <td>12.79</td>\n",
       "      <td>14403</td>\n",
       "      <td>franca</td>\n",
       "      <td>SP</td>\n",
       "    </tr>\n",
       "    <tr>\n",
       "      <th>4</th>\n",
       "      <td>00042b26cf59d7ce69dfabb4e55b4fd9</td>\n",
       "      <td>1</td>\n",
       "      <td>ac6c3623068f30de03045865e4e10089</td>\n",
       "      <td>df560393f3a51e74553ab94004ba5c87</td>\n",
       "      <td>2017-02-13 13:57:51</td>\n",
       "      <td>199.90</td>\n",
       "      <td>18.14</td>\n",
       "      <td>87900</td>\n",
       "      <td>loanda</td>\n",
       "      <td>PR</td>\n",
       "    </tr>\n",
       "  </tbody>\n",
       "</table>\n",
       "</div>"
      ],
      "text/plain": [
       "                           order_id  order_item_id  \\\n",
       "0  00010242fe8c5a6d1ba2dd792cb16214              1   \n",
       "1  00018f77f2f0320c557190d7a144bdd3              1   \n",
       "2  000229ec398224ef6ca0657da4fc703e              1   \n",
       "3  00024acbcdf0a6daa1e931b038114c75              1   \n",
       "4  00042b26cf59d7ce69dfabb4e55b4fd9              1   \n",
       "\n",
       "                         product_id                         seller_id  \\\n",
       "0  4244733e06e7ecb4970a6e2683c13e61  48436dade18ac8b2bce089ec2a041202   \n",
       "1  e5f2d52b802189ee658865ca93d83a8f  dd7ddc04e1b6c2c614352b383efe2d36   \n",
       "2  c777355d18b72b67abbeef9df44fd0fd  5b51032eddd242adc84c38acab88f23d   \n",
       "3  7634da152a4610f1595efa32f14722fc  9d7a1d34a5052409006425275ba1c2b4   \n",
       "4  ac6c3623068f30de03045865e4e10089  df560393f3a51e74553ab94004ba5c87   \n",
       "\n",
       "  shipping_limit_date   price  freight_value  seller_zip_code_prefix  \\\n",
       "0 2017-09-19 09:45:35   58.90          13.29                   27277   \n",
       "1 2017-05-03 11:05:13  239.90          19.93                    3471   \n",
       "2 2018-01-18 14:48:30  199.00          17.87                   37564   \n",
       "3 2018-08-15 10:10:18   12.99          12.79                   14403   \n",
       "4 2017-02-13 13:57:51  199.90          18.14                   87900   \n",
       "\n",
       "     seller_city seller_state  \n",
       "0  volta redonda           SP  \n",
       "1      sao paulo           SP  \n",
       "2  borda da mata           MG  \n",
       "3         franca           SP  \n",
       "4         loanda           PR  "
      ]
     },
     "execution_count": 50,
     "metadata": {},
     "output_type": "execute_result"
    }
   ],
   "source": [
    "# Merge order_items & sellers\n",
    "item_seller_df = pd.merge(\n",
    "    left=order_items_df,\n",
    "    right=sellers_df,\n",
    "    how=\"left\",\n",
    "    left_on=\"seller_id\",\n",
    "    right_on=\"seller_id\"\n",
    ")\n",
    "item_seller_df.head()"
   ]
  },
  {
   "cell_type": "code",
   "execution_count": 51,
   "metadata": {
    "colab": {
     "base_uri": "https://localhost:8080/"
    },
    "id": "-5E3VaW9QTEK",
    "outputId": "08c2249b-f289-4628-cf5a-74c4ba1d32f5"
   },
   "outputs": [
    {
     "data": {
      "text/plain": [
       "seller_city\n",
       "sao paulo         694\n",
       "curitiba          127\n",
       "rio de janeiro     96\n",
       "belo horizonte     68\n",
       "ribeirao preto     52\n",
       "guarulhos          50\n",
       "ibitinga           49\n",
       "santo andre        45\n",
       "campinas           41\n",
       "maringa            40\n",
       "Name: seller_id, dtype: int64"
      ]
     },
     "execution_count": 51,
     "metadata": {},
     "output_type": "execute_result"
    }
   ],
   "source": [
    "item_seller_df.groupby(by=\"seller_city\").seller_id.nunique().sort_values(ascending=False).head(10)"
   ]
  },
  {
   "cell_type": "code",
   "execution_count": 52,
   "metadata": {
    "colab": {
     "base_uri": "https://localhost:8080/"
    },
    "id": "mHjgXyBOQWWE",
    "outputId": "9c830e2b-1bef-4a69-add9-c45d8ff29bba"
   },
   "outputs": [
    {
     "data": {
      "text/plain": [
       "seller_state\n",
       "SP    1849\n",
       "PR     349\n",
       "MG     244\n",
       "SC     190\n",
       "RJ     171\n",
       "RS     129\n",
       "GO      40\n",
       "DF      30\n",
       "ES      23\n",
       "BA      19\n",
       "Name: seller_id, dtype: int64"
      ]
     },
     "execution_count": 52,
     "metadata": {},
     "output_type": "execute_result"
    }
   ],
   "source": [
    "item_seller_df.groupby(by=\"seller_state\").seller_id.nunique().sort_values(ascending=False).head(10)"
   ]
  },
  {
   "cell_type": "markdown",
   "metadata": {
    "id": "UyFd1lSlQiTc"
   },
   "source": [
    "### Explore products & product_category"
   ]
  },
  {
   "cell_type": "code",
   "execution_count": 53,
   "metadata": {
    "colab": {
     "base_uri": "https://localhost:8080/",
     "height": 206
    },
    "id": "oTmI8jE4QttC",
    "outputId": "9b8500e1-041d-41e1-9c4b-09e8144869d4"
   },
   "outputs": [
    {
     "data": {
      "text/html": [
       "<div>\n",
       "<style scoped>\n",
       "    .dataframe tbody tr th:only-of-type {\n",
       "        vertical-align: middle;\n",
       "    }\n",
       "\n",
       "    .dataframe tbody tr th {\n",
       "        vertical-align: top;\n",
       "    }\n",
       "\n",
       "    .dataframe thead th {\n",
       "        text-align: right;\n",
       "    }\n",
       "</style>\n",
       "<table border=\"1\" class=\"dataframe\">\n",
       "  <thead>\n",
       "    <tr style=\"text-align: right;\">\n",
       "      <th></th>\n",
       "      <th>product_id</th>\n",
       "      <th>product_category_name</th>\n",
       "      <th>product_photos_qty</th>\n",
       "      <th>product_category_name_english</th>\n",
       "    </tr>\n",
       "  </thead>\n",
       "  <tbody>\n",
       "    <tr>\n",
       "      <th>0</th>\n",
       "      <td>1e9e8ef04dbcff4541ed26657ea517e5</td>\n",
       "      <td>perfumaria</td>\n",
       "      <td>1.0</td>\n",
       "      <td>perfumery</td>\n",
       "    </tr>\n",
       "    <tr>\n",
       "      <th>1</th>\n",
       "      <td>3aa071139cb16b67ca9e5dea641aaa2f</td>\n",
       "      <td>artes</td>\n",
       "      <td>1.0</td>\n",
       "      <td>art</td>\n",
       "    </tr>\n",
       "    <tr>\n",
       "      <th>2</th>\n",
       "      <td>96bd76ec8810374ed1b65e291975717f</td>\n",
       "      <td>esporte_lazer</td>\n",
       "      <td>1.0</td>\n",
       "      <td>sports_leisure</td>\n",
       "    </tr>\n",
       "    <tr>\n",
       "      <th>3</th>\n",
       "      <td>cef67bcfe19066a932b7673e239eb23d</td>\n",
       "      <td>bebes</td>\n",
       "      <td>1.0</td>\n",
       "      <td>baby</td>\n",
       "    </tr>\n",
       "    <tr>\n",
       "      <th>4</th>\n",
       "      <td>9dc1a7de274444849c219cff195d0b71</td>\n",
       "      <td>utilidades_domesticas</td>\n",
       "      <td>4.0</td>\n",
       "      <td>housewares</td>\n",
       "    </tr>\n",
       "  </tbody>\n",
       "</table>\n",
       "</div>"
      ],
      "text/plain": [
       "                         product_id  product_category_name  \\\n",
       "0  1e9e8ef04dbcff4541ed26657ea517e5             perfumaria   \n",
       "1  3aa071139cb16b67ca9e5dea641aaa2f                  artes   \n",
       "2  96bd76ec8810374ed1b65e291975717f          esporte_lazer   \n",
       "3  cef67bcfe19066a932b7673e239eb23d                  bebes   \n",
       "4  9dc1a7de274444849c219cff195d0b71  utilidades_domesticas   \n",
       "\n",
       "   product_photos_qty product_category_name_english  \n",
       "0                 1.0                     perfumery  \n",
       "1                 1.0                           art  \n",
       "2                 1.0                sports_leisure  \n",
       "3                 1.0                          baby  \n",
       "4                 4.0                    housewares  "
      ]
     },
     "execution_count": 53,
     "metadata": {},
     "output_type": "execute_result"
    }
   ],
   "source": [
    "# Merge products & product_category\n",
    "products_df = pd.merge(\n",
    "    left=products_df,\n",
    "    right=product_category_df,\n",
    "    how=\"left\",\n",
    "    left_on=\"product_category_name\",\n",
    "    right_on=\"product_category_name\"\n",
    ")\n",
    "products_df.head()"
   ]
  },
  {
   "cell_type": "code",
   "execution_count": 54,
   "metadata": {
    "colab": {
     "base_uri": "https://localhost:8080/"
    },
    "id": "NGXao4ouRI8s",
    "outputId": "7927d1d0-e8ea-4a8b-bebf-01cc2c968d00"
   },
   "outputs": [
    {
     "data": {
      "text/plain": [
       "product_category_name_english\n",
       "bed_bath_table               3639\n",
       "sports_leisure               2867\n",
       "furniture_decor              2657\n",
       "health_beauty                2444\n",
       "housewares                   2335\n",
       "                             ... \n",
       "tablets_printing_image          9\n",
       "home_comfort_2                  5\n",
       "fashion_childrens_clothes       5\n",
       "security_and_services           2\n",
       "cds_dvds_musicals               1\n",
       "Name: product_id, Length: 71, dtype: int64"
      ]
     },
     "execution_count": 54,
     "metadata": {},
     "output_type": "execute_result"
    }
   ],
   "source": [
    "products_df.groupby(by=\"product_category_name_english\").product_id.nunique().sort_values(ascending=False)"
   ]
  },
  {
   "cell_type": "markdown",
   "metadata": {
    "id": "t7gTeQjtRUE_"
   },
   "source": [
    "### Explore item_seller & products"
   ]
  },
  {
   "cell_type": "code",
   "execution_count": 55,
   "metadata": {
    "colab": {
     "base_uri": "https://localhost:8080/",
     "height": 226
    },
    "id": "QR-zbx7qRgKW",
    "outputId": "c01fc386-949b-4f30-ad4b-2530e7f0b10f"
   },
   "outputs": [
    {
     "data": {
      "text/html": [
       "<div>\n",
       "<style scoped>\n",
       "    .dataframe tbody tr th:only-of-type {\n",
       "        vertical-align: middle;\n",
       "    }\n",
       "\n",
       "    .dataframe tbody tr th {\n",
       "        vertical-align: top;\n",
       "    }\n",
       "\n",
       "    .dataframe thead th {\n",
       "        text-align: right;\n",
       "    }\n",
       "</style>\n",
       "<table border=\"1\" class=\"dataframe\">\n",
       "  <thead>\n",
       "    <tr style=\"text-align: right;\">\n",
       "      <th></th>\n",
       "      <th>product_id</th>\n",
       "      <th>product_category_name</th>\n",
       "      <th>product_photos_qty</th>\n",
       "      <th>product_category_name_english</th>\n",
       "      <th>order_id</th>\n",
       "      <th>order_item_id</th>\n",
       "      <th>seller_id</th>\n",
       "      <th>shipping_limit_date</th>\n",
       "      <th>price</th>\n",
       "      <th>freight_value</th>\n",
       "      <th>seller_zip_code_prefix</th>\n",
       "      <th>seller_city</th>\n",
       "      <th>seller_state</th>\n",
       "    </tr>\n",
       "  </thead>\n",
       "  <tbody>\n",
       "    <tr>\n",
       "      <th>0</th>\n",
       "      <td>1e9e8ef04dbcff4541ed26657ea517e5</td>\n",
       "      <td>perfumaria</td>\n",
       "      <td>1.0</td>\n",
       "      <td>perfumery</td>\n",
       "      <td>e17e4f88e31525f7deef66779844ddce</td>\n",
       "      <td>1</td>\n",
       "      <td>5670f4db5b62c43d542e1b2d56b0cf7c</td>\n",
       "      <td>2018-04-30 17:33:54</td>\n",
       "      <td>10.91</td>\n",
       "      <td>7.39</td>\n",
       "      <td>3694</td>\n",
       "      <td>sao paulo</td>\n",
       "      <td>SP</td>\n",
       "    </tr>\n",
       "    <tr>\n",
       "      <th>1</th>\n",
       "      <td>3aa071139cb16b67ca9e5dea641aaa2f</td>\n",
       "      <td>artes</td>\n",
       "      <td>1.0</td>\n",
       "      <td>art</td>\n",
       "      <td>5236307716393b7114b53ee991f36956</td>\n",
       "      <td>1</td>\n",
       "      <td>b561927807645834b59ef0d16ba55a24</td>\n",
       "      <td>2018-02-06 19:11:15</td>\n",
       "      <td>248.00</td>\n",
       "      <td>17.99</td>\n",
       "      <td>2955</td>\n",
       "      <td>sao paulo</td>\n",
       "      <td>SP</td>\n",
       "    </tr>\n",
       "    <tr>\n",
       "      <th>2</th>\n",
       "      <td>96bd76ec8810374ed1b65e291975717f</td>\n",
       "      <td>esporte_lazer</td>\n",
       "      <td>1.0</td>\n",
       "      <td>sports_leisure</td>\n",
       "      <td>01f66e58769f84129811d43eefd187fb</td>\n",
       "      <td>1</td>\n",
       "      <td>7b07b3c7487f0ea825fc6df75abd658b</td>\n",
       "      <td>2018-07-11 21:30:20</td>\n",
       "      <td>79.80</td>\n",
       "      <td>7.82</td>\n",
       "      <td>2016</td>\n",
       "      <td>sao paulo</td>\n",
       "      <td>SP</td>\n",
       "    </tr>\n",
       "    <tr>\n",
       "      <th>3</th>\n",
       "      <td>cef67bcfe19066a932b7673e239eb23d</td>\n",
       "      <td>bebes</td>\n",
       "      <td>1.0</td>\n",
       "      <td>baby</td>\n",
       "      <td>143d00a4f2dde4e0364ee1821577adb3</td>\n",
       "      <td>1</td>\n",
       "      <td>c510bc1718f0f2961eaa42a23330681a</td>\n",
       "      <td>2018-08-07 09:10:13</td>\n",
       "      <td>112.30</td>\n",
       "      <td>9.54</td>\n",
       "      <td>13330</td>\n",
       "      <td>indaiatuba</td>\n",
       "      <td>SP</td>\n",
       "    </tr>\n",
       "    <tr>\n",
       "      <th>4</th>\n",
       "      <td>9dc1a7de274444849c219cff195d0b71</td>\n",
       "      <td>utilidades_domesticas</td>\n",
       "      <td>4.0</td>\n",
       "      <td>housewares</td>\n",
       "      <td>86cafb8794cb99a9b1b77fc8e48fbbbb</td>\n",
       "      <td>1</td>\n",
       "      <td>0be8ff43f22e456b4e0371b2245e4d01</td>\n",
       "      <td>2018-04-17 01:30:23</td>\n",
       "      <td>37.90</td>\n",
       "      <td>8.29</td>\n",
       "      <td>4461</td>\n",
       "      <td>sao paulo</td>\n",
       "      <td>SP</td>\n",
       "    </tr>\n",
       "  </tbody>\n",
       "</table>\n",
       "</div>"
      ],
      "text/plain": [
       "                         product_id  product_category_name  \\\n",
       "0  1e9e8ef04dbcff4541ed26657ea517e5             perfumaria   \n",
       "1  3aa071139cb16b67ca9e5dea641aaa2f                  artes   \n",
       "2  96bd76ec8810374ed1b65e291975717f          esporte_lazer   \n",
       "3  cef67bcfe19066a932b7673e239eb23d                  bebes   \n",
       "4  9dc1a7de274444849c219cff195d0b71  utilidades_domesticas   \n",
       "\n",
       "   product_photos_qty product_category_name_english  \\\n",
       "0                 1.0                     perfumery   \n",
       "1                 1.0                           art   \n",
       "2                 1.0                sports_leisure   \n",
       "3                 1.0                          baby   \n",
       "4                 4.0                    housewares   \n",
       "\n",
       "                           order_id  order_item_id  \\\n",
       "0  e17e4f88e31525f7deef66779844ddce              1   \n",
       "1  5236307716393b7114b53ee991f36956              1   \n",
       "2  01f66e58769f84129811d43eefd187fb              1   \n",
       "3  143d00a4f2dde4e0364ee1821577adb3              1   \n",
       "4  86cafb8794cb99a9b1b77fc8e48fbbbb              1   \n",
       "\n",
       "                          seller_id shipping_limit_date   price  \\\n",
       "0  5670f4db5b62c43d542e1b2d56b0cf7c 2018-04-30 17:33:54   10.91   \n",
       "1  b561927807645834b59ef0d16ba55a24 2018-02-06 19:11:15  248.00   \n",
       "2  7b07b3c7487f0ea825fc6df75abd658b 2018-07-11 21:30:20   79.80   \n",
       "3  c510bc1718f0f2961eaa42a23330681a 2018-08-07 09:10:13  112.30   \n",
       "4  0be8ff43f22e456b4e0371b2245e4d01 2018-04-17 01:30:23   37.90   \n",
       "\n",
       "   freight_value  seller_zip_code_prefix seller_city seller_state  \n",
       "0           7.39                    3694   sao paulo           SP  \n",
       "1          17.99                    2955   sao paulo           SP  \n",
       "2           7.82                    2016   sao paulo           SP  \n",
       "3           9.54                   13330  indaiatuba           SP  \n",
       "4           8.29                    4461   sao paulo           SP  "
      ]
     },
     "execution_count": 55,
     "metadata": {},
     "output_type": "execute_result"
    }
   ],
   "source": [
    "sellers_df = pd.merge(\n",
    "    left=products_df,\n",
    "    right=item_seller_df,\n",
    "    how=\"left\",\n",
    "    left_on=\"product_id\",\n",
    "    right_on=\"product_id\"\n",
    ")\n",
    "sellers_df.head()"
   ]
  },
  {
   "cell_type": "code",
   "execution_count": 56,
   "metadata": {
    "colab": {
     "base_uri": "https://localhost:8080/",
     "height": 486
    },
    "id": "ysonh6ogRoU-",
    "outputId": "add4d865-27ce-4647-c335-4ccd0e62e06e"
   },
   "outputs": [
    {
     "data": {
      "text/html": [
       "<div>\n",
       "<style scoped>\n",
       "    .dataframe tbody tr th:only-of-type {\n",
       "        vertical-align: middle;\n",
       "    }\n",
       "\n",
       "    .dataframe tbody tr th {\n",
       "        vertical-align: top;\n",
       "    }\n",
       "\n",
       "    .dataframe thead tr th {\n",
       "        text-align: left;\n",
       "    }\n",
       "\n",
       "    .dataframe thead tr:last-of-type th {\n",
       "        text-align: right;\n",
       "    }\n",
       "</style>\n",
       "<table border=\"1\" class=\"dataframe\">\n",
       "  <thead>\n",
       "    <tr>\n",
       "      <th></th>\n",
       "      <th>order_id</th>\n",
       "      <th colspan=\"2\" halign=\"left\">price</th>\n",
       "    </tr>\n",
       "    <tr>\n",
       "      <th></th>\n",
       "      <th>nunique</th>\n",
       "      <th>min</th>\n",
       "      <th>max</th>\n",
       "    </tr>\n",
       "    <tr>\n",
       "      <th>product_category_name_english</th>\n",
       "      <th></th>\n",
       "      <th></th>\n",
       "      <th></th>\n",
       "    </tr>\n",
       "  </thead>\n",
       "  <tbody>\n",
       "    <tr>\n",
       "      <th>agro_industry_and_commerce</th>\n",
       "      <td>182</td>\n",
       "      <td>12.99</td>\n",
       "      <td>2990.00</td>\n",
       "    </tr>\n",
       "    <tr>\n",
       "      <th>air_conditioning</th>\n",
       "      <td>253</td>\n",
       "      <td>10.90</td>\n",
       "      <td>1599.00</td>\n",
       "    </tr>\n",
       "    <tr>\n",
       "      <th>art</th>\n",
       "      <td>202</td>\n",
       "      <td>3.50</td>\n",
       "      <td>6499.00</td>\n",
       "    </tr>\n",
       "    <tr>\n",
       "      <th>arts_and_craftmanship</th>\n",
       "      <td>23</td>\n",
       "      <td>9.80</td>\n",
       "      <td>289.49</td>\n",
       "    </tr>\n",
       "    <tr>\n",
       "      <th>audio</th>\n",
       "      <td>350</td>\n",
       "      <td>14.90</td>\n",
       "      <td>598.99</td>\n",
       "    </tr>\n",
       "    <tr>\n",
       "      <th>...</th>\n",
       "      <td>...</td>\n",
       "      <td>...</td>\n",
       "      <td>...</td>\n",
       "    </tr>\n",
       "    <tr>\n",
       "      <th>stationery</th>\n",
       "      <td>2311</td>\n",
       "      <td>2.29</td>\n",
       "      <td>1693.00</td>\n",
       "    </tr>\n",
       "    <tr>\n",
       "      <th>tablets_printing_image</th>\n",
       "      <td>79</td>\n",
       "      <td>14.90</td>\n",
       "      <td>889.99</td>\n",
       "    </tr>\n",
       "    <tr>\n",
       "      <th>telephony</th>\n",
       "      <td>4199</td>\n",
       "      <td>5.00</td>\n",
       "      <td>2428.00</td>\n",
       "    </tr>\n",
       "    <tr>\n",
       "      <th>toys</th>\n",
       "      <td>3886</td>\n",
       "      <td>4.90</td>\n",
       "      <td>1699.99</td>\n",
       "    </tr>\n",
       "    <tr>\n",
       "      <th>watches_gifts</th>\n",
       "      <td>5624</td>\n",
       "      <td>8.99</td>\n",
       "      <td>3999.90</td>\n",
       "    </tr>\n",
       "  </tbody>\n",
       "</table>\n",
       "<p>71 rows × 3 columns</p>\n",
       "</div>"
      ],
      "text/plain": [
       "                              order_id  price         \n",
       "                               nunique    min      max\n",
       "product_category_name_english                         \n",
       "agro_industry_and_commerce         182  12.99  2990.00\n",
       "air_conditioning                   253  10.90  1599.00\n",
       "art                                202   3.50  6499.00\n",
       "arts_and_craftmanship               23   9.80   289.49\n",
       "audio                              350  14.90   598.99\n",
       "...                                ...    ...      ...\n",
       "stationery                        2311   2.29  1693.00\n",
       "tablets_printing_image              79  14.90   889.99\n",
       "telephony                         4199   5.00  2428.00\n",
       "toys                              3886   4.90  1699.99\n",
       "watches_gifts                     5624   8.99  3999.90\n",
       "\n",
       "[71 rows x 3 columns]"
      ]
     },
     "execution_count": 56,
     "metadata": {},
     "output_type": "execute_result"
    }
   ],
   "source": [
    "sellers_df.groupby(by=\"product_category_name_english\").agg({\n",
    "    \"order_id\": \"nunique\",\n",
    "    \"price\":  [\"min\", \"max\"]\n",
    "})"
   ]
  },
  {
   "cell_type": "markdown",
   "metadata": {
    "id": "vcT87npzRwYE"
   },
   "source": [
    "### Explore All Data"
   ]
  },
  {
   "cell_type": "code",
   "execution_count": 57,
   "metadata": {
    "colab": {
     "base_uri": "https://localhost:8080/",
     "height": 290
    },
    "id": "gbHvcS9ERykP",
    "outputId": "3c6e8804-18a7-4a34-b0bb-4ea7f6f2763a"
   },
   "outputs": [
    {
     "data": {
      "text/html": [
       "<div>\n",
       "<style scoped>\n",
       "    .dataframe tbody tr th:only-of-type {\n",
       "        vertical-align: middle;\n",
       "    }\n",
       "\n",
       "    .dataframe tbody tr th {\n",
       "        vertical-align: top;\n",
       "    }\n",
       "\n",
       "    .dataframe thead th {\n",
       "        text-align: right;\n",
       "    }\n",
       "</style>\n",
       "<table border=\"1\" class=\"dataframe\">\n",
       "  <thead>\n",
       "    <tr style=\"text-align: right;\">\n",
       "      <th></th>\n",
       "      <th>customer_id</th>\n",
       "      <th>customer_unique_id</th>\n",
       "      <th>customer_zip_code_prefix</th>\n",
       "      <th>customer_city</th>\n",
       "      <th>customer_state</th>\n",
       "      <th>order_id</th>\n",
       "      <th>order_status</th>\n",
       "      <th>order_purchase_timestamp</th>\n",
       "      <th>order_approved_at</th>\n",
       "      <th>order_delivered_carrier_date</th>\n",
       "      <th>...</th>\n",
       "      <th>product_photos_qty</th>\n",
       "      <th>product_category_name_english</th>\n",
       "      <th>order_item_id</th>\n",
       "      <th>seller_id</th>\n",
       "      <th>shipping_limit_date</th>\n",
       "      <th>price</th>\n",
       "      <th>freight_value</th>\n",
       "      <th>seller_zip_code_prefix</th>\n",
       "      <th>seller_city</th>\n",
       "      <th>seller_state</th>\n",
       "    </tr>\n",
       "  </thead>\n",
       "  <tbody>\n",
       "    <tr>\n",
       "      <th>0</th>\n",
       "      <td>06b8999e2fba1a1fbc88172c00ba8bc7</td>\n",
       "      <td>861eff4711a542e4b93843c6dd7febb0</td>\n",
       "      <td>14409</td>\n",
       "      <td>franca</td>\n",
       "      <td>SP</td>\n",
       "      <td>00e7ee1b050b8499577073aeb2a297a1</td>\n",
       "      <td>delivered</td>\n",
       "      <td>2017-05-16 15:05:35</td>\n",
       "      <td>2017-05-16 15:22:12</td>\n",
       "      <td>2017-05-23 10:47:57</td>\n",
       "      <td>...</td>\n",
       "      <td>1.0</td>\n",
       "      <td>office_furniture</td>\n",
       "      <td>1.0</td>\n",
       "      <td>7c67e1448b00f6e969d365cea6b010ab</td>\n",
       "      <td>2017-05-22 15:22:12</td>\n",
       "      <td>124.99</td>\n",
       "      <td>21.88</td>\n",
       "      <td>8577.0</td>\n",
       "      <td>itaquaquecetuba</td>\n",
       "      <td>SP</td>\n",
       "    </tr>\n",
       "    <tr>\n",
       "      <th>1</th>\n",
       "      <td>18955e83d337fd6b2def6b18a428ac77</td>\n",
       "      <td>290c77bc529b7ac935b93aa66c333dc3</td>\n",
       "      <td>9790</td>\n",
       "      <td>sao bernardo do campo</td>\n",
       "      <td>SP</td>\n",
       "      <td>29150127e6685892b6eab3eec79f59c7</td>\n",
       "      <td>delivered</td>\n",
       "      <td>2018-01-12 20:48:24</td>\n",
       "      <td>2018-01-12 20:58:32</td>\n",
       "      <td>2018-01-15 17:14:59</td>\n",
       "      <td>...</td>\n",
       "      <td>3.0</td>\n",
       "      <td>housewares</td>\n",
       "      <td>1.0</td>\n",
       "      <td>b8bc237ba3788b23da09c0f1f3a3288c</td>\n",
       "      <td>2018-01-18 20:58:32</td>\n",
       "      <td>289.00</td>\n",
       "      <td>46.48</td>\n",
       "      <td>88303.0</td>\n",
       "      <td>itajai</td>\n",
       "      <td>SC</td>\n",
       "    </tr>\n",
       "    <tr>\n",
       "      <th>2</th>\n",
       "      <td>4e7b3e00288586ebd08712fdd0374a03</td>\n",
       "      <td>060e732b5b29e8181a18229c7b0b2b5e</td>\n",
       "      <td>1151</td>\n",
       "      <td>sao paulo</td>\n",
       "      <td>SP</td>\n",
       "      <td>b2059ed67ce144a36e2aa97d2c9e9ad2</td>\n",
       "      <td>delivered</td>\n",
       "      <td>2018-05-19 16:07:45</td>\n",
       "      <td>2018-05-20 16:19:10</td>\n",
       "      <td>2018-06-11 14:31:00</td>\n",
       "      <td>...</td>\n",
       "      <td>1.0</td>\n",
       "      <td>office_furniture</td>\n",
       "      <td>1.0</td>\n",
       "      <td>7c67e1448b00f6e969d365cea6b010ab</td>\n",
       "      <td>2018-06-05 16:19:10</td>\n",
       "      <td>139.94</td>\n",
       "      <td>17.79</td>\n",
       "      <td>8577.0</td>\n",
       "      <td>itaquaquecetuba</td>\n",
       "      <td>SP</td>\n",
       "    </tr>\n",
       "    <tr>\n",
       "      <th>3</th>\n",
       "      <td>b2b6027bc5c5109e529d4dc6358b12c3</td>\n",
       "      <td>259dac757896d24d7702b9acbbff3f3c</td>\n",
       "      <td>8775</td>\n",
       "      <td>mogi das cruzes</td>\n",
       "      <td>SP</td>\n",
       "      <td>951670f92359f4fe4a63112aa7306eba</td>\n",
       "      <td>delivered</td>\n",
       "      <td>2018-03-13 16:06:38</td>\n",
       "      <td>2018-03-13 17:29:19</td>\n",
       "      <td>2018-03-27 23:22:42</td>\n",
       "      <td>...</td>\n",
       "      <td>1.0</td>\n",
       "      <td>office_furniture</td>\n",
       "      <td>1.0</td>\n",
       "      <td>7c67e1448b00f6e969d365cea6b010ab</td>\n",
       "      <td>2018-03-27 16:31:16</td>\n",
       "      <td>149.94</td>\n",
       "      <td>23.36</td>\n",
       "      <td>8577.0</td>\n",
       "      <td>itaquaquecetuba</td>\n",
       "      <td>SP</td>\n",
       "    </tr>\n",
       "    <tr>\n",
       "      <th>4</th>\n",
       "      <td>4f2d8ab171c80ec8364f7c12e35b23ad</td>\n",
       "      <td>345ecd01c38d18a9036ed96c73b8d066</td>\n",
       "      <td>13056</td>\n",
       "      <td>campinas</td>\n",
       "      <td>SP</td>\n",
       "      <td>6b7d50bd145f6fc7f33cebabd7e49d0f</td>\n",
       "      <td>delivered</td>\n",
       "      <td>2018-07-29 09:51:30</td>\n",
       "      <td>2018-07-29 10:10:09</td>\n",
       "      <td>2018-07-30 15:16:00</td>\n",
       "      <td>...</td>\n",
       "      <td>1.0</td>\n",
       "      <td>home_confort</td>\n",
       "      <td>1.0</td>\n",
       "      <td>4a3ca9315b744ce9f8e9374361493884</td>\n",
       "      <td>2018-07-31 10:10:09</td>\n",
       "      <td>230.00</td>\n",
       "      <td>22.25</td>\n",
       "      <td>14940.0</td>\n",
       "      <td>ibitinga</td>\n",
       "      <td>SP</td>\n",
       "    </tr>\n",
       "  </tbody>\n",
       "</table>\n",
       "<p>5 rows × 33 columns</p>\n",
       "</div>"
      ],
      "text/plain": [
       "                        customer_id                customer_unique_id  \\\n",
       "0  06b8999e2fba1a1fbc88172c00ba8bc7  861eff4711a542e4b93843c6dd7febb0   \n",
       "1  18955e83d337fd6b2def6b18a428ac77  290c77bc529b7ac935b93aa66c333dc3   \n",
       "2  4e7b3e00288586ebd08712fdd0374a03  060e732b5b29e8181a18229c7b0b2b5e   \n",
       "3  b2b6027bc5c5109e529d4dc6358b12c3  259dac757896d24d7702b9acbbff3f3c   \n",
       "4  4f2d8ab171c80ec8364f7c12e35b23ad  345ecd01c38d18a9036ed96c73b8d066   \n",
       "\n",
       "   customer_zip_code_prefix          customer_city customer_state  \\\n",
       "0                     14409                 franca             SP   \n",
       "1                      9790  sao bernardo do campo             SP   \n",
       "2                      1151              sao paulo             SP   \n",
       "3                      8775        mogi das cruzes             SP   \n",
       "4                     13056               campinas             SP   \n",
       "\n",
       "                           order_id order_status order_purchase_timestamp  \\\n",
       "0  00e7ee1b050b8499577073aeb2a297a1    delivered      2017-05-16 15:05:35   \n",
       "1  29150127e6685892b6eab3eec79f59c7    delivered      2018-01-12 20:48:24   \n",
       "2  b2059ed67ce144a36e2aa97d2c9e9ad2    delivered      2018-05-19 16:07:45   \n",
       "3  951670f92359f4fe4a63112aa7306eba    delivered      2018-03-13 16:06:38   \n",
       "4  6b7d50bd145f6fc7f33cebabd7e49d0f    delivered      2018-07-29 09:51:30   \n",
       "\n",
       "    order_approved_at order_delivered_carrier_date  ... product_photos_qty  \\\n",
       "0 2017-05-16 15:22:12          2017-05-23 10:47:57  ...                1.0   \n",
       "1 2018-01-12 20:58:32          2018-01-15 17:14:59  ...                3.0   \n",
       "2 2018-05-20 16:19:10          2018-06-11 14:31:00  ...                1.0   \n",
       "3 2018-03-13 17:29:19          2018-03-27 23:22:42  ...                1.0   \n",
       "4 2018-07-29 10:10:09          2018-07-30 15:16:00  ...                1.0   \n",
       "\n",
       "  product_category_name_english  order_item_id  \\\n",
       "0              office_furniture            1.0   \n",
       "1                    housewares            1.0   \n",
       "2              office_furniture            1.0   \n",
       "3              office_furniture            1.0   \n",
       "4                  home_confort            1.0   \n",
       "\n",
       "                          seller_id shipping_limit_date   price  \\\n",
       "0  7c67e1448b00f6e969d365cea6b010ab 2017-05-22 15:22:12  124.99   \n",
       "1  b8bc237ba3788b23da09c0f1f3a3288c 2018-01-18 20:58:32  289.00   \n",
       "2  7c67e1448b00f6e969d365cea6b010ab 2018-06-05 16:19:10  139.94   \n",
       "3  7c67e1448b00f6e969d365cea6b010ab 2018-03-27 16:31:16  149.94   \n",
       "4  4a3ca9315b744ce9f8e9374361493884 2018-07-31 10:10:09  230.00   \n",
       "\n",
       "   freight_value seller_zip_code_prefix      seller_city seller_state  \n",
       "0          21.88                 8577.0  itaquaquecetuba           SP  \n",
       "1          46.48                88303.0           itajai           SC  \n",
       "2          17.79                 8577.0  itaquaquecetuba           SP  \n",
       "3          23.36                 8577.0  itaquaquecetuba           SP  \n",
       "4          22.25                14940.0         ibitinga           SP  \n",
       "\n",
       "[5 rows x 33 columns]"
      ]
     },
     "execution_count": 57,
     "metadata": {},
     "output_type": "execute_result"
    }
   ],
   "source": [
    "# Merge all data\n",
    "# Data geolocation tidak digunakan karena tidak berkaitan dengan pertanyaan bisnis yang akan diselesaikan\n",
    "all_data = pd.merge(\n",
    "    left=customer_df,\n",
    "    right=sellers_df,\n",
    "    how=\"left\",\n",
    "    left_on=\"order_id\",\n",
    "    right_on=\"order_id\"\n",
    ")\n",
    "all_data.head()"
   ]
  },
  {
   "cell_type": "code",
   "execution_count": 58,
   "metadata": {
    "colab": {
     "base_uri": "https://localhost:8080/"
    },
    "id": "TT6yZKTnT1_y",
    "outputId": "4857608e-219b-4013-e8d1-661fe2145c44"
   },
   "outputs": [
    {
     "name": "stdout",
     "output_type": "stream",
     "text": [
      "<class 'pandas.core.frame.DataFrame'>\n",
      "Int64Index: 119143 entries, 0 to 119142\n",
      "Data columns (total 33 columns):\n",
      " #   Column                         Non-Null Count   Dtype         \n",
      "---  ------                         --------------   -----         \n",
      " 0   customer_id                    119143 non-null  object        \n",
      " 1   customer_unique_id             119143 non-null  object        \n",
      " 2   customer_zip_code_prefix       119143 non-null  int64         \n",
      " 3   customer_city                  119143 non-null  object        \n",
      " 4   customer_state                 119143 non-null  object        \n",
      " 5   order_id                       119143 non-null  object        \n",
      " 6   order_status                   119143 non-null  object        \n",
      " 7   order_purchase_timestamp       119143 non-null  datetime64[ns]\n",
      " 8   order_approved_at              118966 non-null  datetime64[ns]\n",
      " 9   order_delivered_carrier_date   117057 non-null  datetime64[ns]\n",
      " 10  order_delivered_customer_date  115722 non-null  datetime64[ns]\n",
      " 11  order_estimated_delivery_date  119143 non-null  datetime64[ns]\n",
      " 12  delivery_time                  115721 non-null  float64       \n",
      " 13  payment_sequential             119140 non-null  float64       \n",
      " 14  payment_type                   119140 non-null  object        \n",
      " 15  payment_installments           119140 non-null  float64       \n",
      " 16  payment_value                  119140 non-null  float64       \n",
      " 17  review_id                      118143 non-null  object        \n",
      " 18  review_score                   118143 non-null  float64       \n",
      " 19  review_creation_date           118143 non-null  datetime64[ns]\n",
      " 20  review_answer_timestamp        118143 non-null  datetime64[ns]\n",
      " 21  product_id                     118310 non-null  object        \n",
      " 22  product_category_name          118310 non-null  object        \n",
      " 23  product_photos_qty             118310 non-null  float64       \n",
      " 24  product_category_name_english  118285 non-null  object        \n",
      " 25  order_item_id                  118310 non-null  float64       \n",
      " 26  seller_id                      118310 non-null  object        \n",
      " 27  shipping_limit_date            118310 non-null  datetime64[ns]\n",
      " 28  price                          118310 non-null  float64       \n",
      " 29  freight_value                  118310 non-null  float64       \n",
      " 30  seller_zip_code_prefix         118310 non-null  float64       \n",
      " 31  seller_city                    118310 non-null  object        \n",
      " 32  seller_state                   118310 non-null  object        \n",
      "dtypes: datetime64[ns](8), float64(10), int64(1), object(14)\n",
      "memory usage: 30.9+ MB\n"
     ]
    }
   ],
   "source": [
    "all_data.info()"
   ]
  },
  {
   "cell_type": "markdown",
   "metadata": {
    "id": "IQECGE4G827n"
   },
   "source": [
    "### Cleaning all_data"
   ]
  },
  {
   "cell_type": "code",
   "execution_count": 59,
   "metadata": {
    "colab": {
     "base_uri": "https://localhost:8080/"
    },
    "id": "z04EYxYH8GQL",
    "outputId": "405eaf72-a587-4087-f4ca-ca50e6c8f170"
   },
   "outputs": [
    {
     "name": "stdout",
     "output_type": "stream",
     "text": [
      "\n",
      "---Info Tabel---\n",
      "\n",
      "<class 'pandas.core.frame.DataFrame'>\n",
      "Int64Index: 119143 entries, 0 to 119142\n",
      "Data columns (total 33 columns):\n",
      " #   Column                         Non-Null Count   Dtype         \n",
      "---  ------                         --------------   -----         \n",
      " 0   customer_id                    119143 non-null  object        \n",
      " 1   customer_unique_id             119143 non-null  object        \n",
      " 2   customer_zip_code_prefix       119143 non-null  int64         \n",
      " 3   customer_city                  119143 non-null  object        \n",
      " 4   customer_state                 119143 non-null  object        \n",
      " 5   order_id                       119143 non-null  object        \n",
      " 6   order_status                   119143 non-null  object        \n",
      " 7   order_purchase_timestamp       119143 non-null  datetime64[ns]\n",
      " 8   order_approved_at              118966 non-null  datetime64[ns]\n",
      " 9   order_delivered_carrier_date   117057 non-null  datetime64[ns]\n",
      " 10  order_delivered_customer_date  115722 non-null  datetime64[ns]\n",
      " 11  order_estimated_delivery_date  119143 non-null  datetime64[ns]\n",
      " 12  delivery_time                  115721 non-null  float64       \n",
      " 13  payment_sequential             119140 non-null  float64       \n",
      " 14  payment_type                   119140 non-null  object        \n",
      " 15  payment_installments           119140 non-null  float64       \n",
      " 16  payment_value                  119140 non-null  float64       \n",
      " 17  review_id                      118143 non-null  object        \n",
      " 18  review_score                   118143 non-null  float64       \n",
      " 19  review_creation_date           118143 non-null  datetime64[ns]\n",
      " 20  review_answer_timestamp        118143 non-null  datetime64[ns]\n",
      " 21  product_id                     118310 non-null  object        \n",
      " 22  product_category_name          118310 non-null  object        \n",
      " 23  product_photos_qty             118310 non-null  float64       \n",
      " 24  product_category_name_english  118285 non-null  object        \n",
      " 25  order_item_id                  118310 non-null  float64       \n",
      " 26  seller_id                      118310 non-null  object        \n",
      " 27  shipping_limit_date            118310 non-null  datetime64[ns]\n",
      " 28  price                          118310 non-null  float64       \n",
      " 29  freight_value                  118310 non-null  float64       \n",
      " 30  seller_zip_code_prefix         118310 non-null  float64       \n",
      " 31  seller_city                    118310 non-null  object        \n",
      " 32  seller_state                   118310 non-null  object        \n",
      "dtypes: datetime64[ns](8), float64(10), int64(1), object(14)\n",
      "memory usage: 30.9+ MB\n",
      "\n",
      "---Missing Value---\n",
      "\n",
      "customer_id                         0\n",
      "customer_unique_id                  0\n",
      "customer_zip_code_prefix            0\n",
      "customer_city                       0\n",
      "customer_state                      0\n",
      "order_id                            0\n",
      "order_status                        0\n",
      "order_purchase_timestamp            0\n",
      "order_approved_at                 177\n",
      "order_delivered_carrier_date     2086\n",
      "order_delivered_customer_date    3421\n",
      "order_estimated_delivery_date       0\n",
      "delivery_time                    3422\n",
      "payment_sequential                  3\n",
      "payment_type                        3\n",
      "payment_installments                3\n",
      "payment_value                       3\n",
      "review_id                        1000\n",
      "review_score                     1000\n",
      "review_creation_date             1000\n",
      "review_answer_timestamp          1000\n",
      "product_id                        833\n",
      "product_category_name             833\n",
      "product_photos_qty                833\n",
      "product_category_name_english     858\n",
      "order_item_id                     833\n",
      "seller_id                         833\n",
      "shipping_limit_date               833\n",
      "price                             833\n",
      "freight_value                     833\n",
      "seller_zip_code_prefix            833\n",
      "seller_city                       833\n",
      "seller_state                      833\n",
      "dtype: int64\n",
      "\n",
      "---Duplikat---\n",
      "\n"
     ]
    },
    {
     "name": "stdout",
     "output_type": "stream",
     "text": [
      "0\n",
      "\n",
      "---Deskripsi Tabel---\n",
      "\n",
      "       customer_zip_code_prefix  delivery_time  payment_sequential  \\\n",
      "count             119143.000000  115721.000000       119140.000000   \n",
      "mean               35033.451298       9.165398            1.094737   \n",
      "std                29823.198969       8.650795            0.730141   \n",
      "min                 1003.000000     -16.000000            1.000000   \n",
      "25%                11250.000000       4.000000            1.000000   \n",
      "50%                24240.000000       7.000000            1.000000   \n",
      "75%                58475.000000      12.000000            1.000000   \n",
      "max                99990.000000     205.000000           29.000000   \n",
      "\n",
      "       payment_installments  payment_value   review_score  product_photos_qty  \\\n",
      "count         119140.000000  119140.000000  118143.000000       118310.000000   \n",
      "mean               2.941246     172.735135       4.015659            2.187753   \n",
      "std                2.777848     267.776077       1.400371            1.711055   \n",
      "min                0.000000       0.000000       1.000000            1.000000   \n",
      "25%                1.000000      60.850000       4.000000            1.000000   \n",
      "50%                2.000000     108.160000       5.000000            1.000000   \n",
      "75%                4.000000     189.240000       5.000000            3.000000   \n",
      "max               24.000000   13664.080000       5.000000           20.000000   \n",
      "\n",
      "       order_item_id          price  freight_value  seller_zip_code_prefix  \n",
      "count  118310.000000  118310.000000  118310.000000           118310.000000  \n",
      "mean        1.196543     120.646603      20.032387            24442.410413  \n",
      "std         0.699489     184.109691      15.836850            27573.004511  \n",
      "min         1.000000       0.850000       0.000000             1001.000000  \n",
      "25%         1.000000      39.900000      13.080000             6429.000000  \n",
      "50%         1.000000      74.900000      16.280000            13660.000000  \n",
      "75%         1.000000     134.900000      21.180000            27972.000000  \n",
      "max        21.000000    6735.000000     409.680000            99730.000000  \n"
     ]
    }
   ],
   "source": [
    "analyze_table(all_data)"
   ]
  },
  {
   "cell_type": "code",
   "execution_count": 60,
   "metadata": {
    "id": "0VDe10-n8fUg"
   },
   "outputs": [],
   "source": [
    "# Menggantikan missing values dengan mean pada kolom numerik\n",
    "numeric_columns = ['delivery_time', 'payment_sequential', 'payment_installments', 'payment_value', 'review_score',\n",
    "                    'product_photos_qty', 'price', 'freight_value']\n",
    "for col in numeric_columns:\n",
    "    mean_value = all_data[col].mean()\n",
    "    all_data[col].fillna(mean_value, inplace=True)"
   ]
  },
  {
   "cell_type": "code",
   "execution_count": 61,
   "metadata": {
    "id": "_g_G4x_t8jv3"
   },
   "outputs": [],
   "source": [
    "# Menggantikan missing values dengan mode pada kolom kategori\n",
    "categorical_columns = ['payment_type', 'product_category_name', 'seller_city']\n",
    "for col in categorical_columns:\n",
    "    mode_value = all_data[col].mode()[0]\n",
    "    all_data[col].fillna(mode_value, inplace=True)"
   ]
  },
  {
   "cell_type": "code",
   "execution_count": 62,
   "metadata": {
    "id": "ZSmKtxRQ8n0E"
   },
   "outputs": [],
   "source": [
    "# Menggantikan missing values dengan forward fill pada kolom tanggal\n",
    "date_columns = ['order_approved_at', 'order_delivered_carrier_date']\n",
    "for col in date_columns:\n",
    "    all_data[col].fillna(method='ffill', inplace=True)"
   ]
  },
  {
   "cell_type": "code",
   "execution_count": 63,
   "metadata": {
    "id": "CntRhm2k8rEM"
   },
   "outputs": [],
   "source": [
    "# Memastikan tidak ada missing values tersisa\n",
    "all_data.dropna(inplace=True)"
   ]
  },
  {
   "cell_type": "code",
   "execution_count": 64,
   "metadata": {
    "colab": {
     "base_uri": "https://localhost:8080/"
    },
    "id": "L9FmDWSO88Tw",
    "outputId": "2731c1a1-832b-466e-d0ac-043e2d20936b"
   },
   "outputs": [
    {
     "data": {
      "text/plain": [
       "customer_id                      0\n",
       "customer_unique_id               0\n",
       "customer_zip_code_prefix         0\n",
       "customer_city                    0\n",
       "customer_state                   0\n",
       "order_id                         0\n",
       "order_status                     0\n",
       "order_purchase_timestamp         0\n",
       "order_approved_at                0\n",
       "order_delivered_carrier_date     0\n",
       "order_delivered_customer_date    0\n",
       "order_estimated_delivery_date    0\n",
       "delivery_time                    0\n",
       "payment_sequential               0\n",
       "payment_type                     0\n",
       "payment_installments             0\n",
       "payment_value                    0\n",
       "review_id                        0\n",
       "review_score                     0\n",
       "review_creation_date             0\n",
       "review_answer_timestamp          0\n",
       "product_id                       0\n",
       "product_category_name            0\n",
       "product_photos_qty               0\n",
       "product_category_name_english    0\n",
       "order_item_id                    0\n",
       "seller_id                        0\n",
       "shipping_limit_date              0\n",
       "price                            0\n",
       "freight_value                    0\n",
       "seller_zip_code_prefix           0\n",
       "seller_city                      0\n",
       "seller_state                     0\n",
       "dtype: int64"
      ]
     },
     "execution_count": 64,
     "metadata": {},
     "output_type": "execute_result"
    }
   ],
   "source": [
    "all_data.isna().sum()"
   ]
  },
  {
   "cell_type": "markdown",
   "metadata": {
    "id": "Weialzpf9HTd"
   },
   "source": [
    "### EDA all_data"
   ]
  },
  {
   "cell_type": "code",
   "execution_count": 65,
   "metadata": {
    "colab": {
     "base_uri": "https://localhost:8080/",
     "height": 455
    },
    "id": "zG_Cmdx_UDR_",
    "outputId": "492fe912-aa9a-43a2-f680-f53d533618a2"
   },
   "outputs": [
    {
     "data": {
      "text/html": [
       "<div>\n",
       "<style scoped>\n",
       "    .dataframe tbody tr th:only-of-type {\n",
       "        vertical-align: middle;\n",
       "    }\n",
       "\n",
       "    .dataframe tbody tr th {\n",
       "        vertical-align: top;\n",
       "    }\n",
       "\n",
       "    .dataframe thead th {\n",
       "        text-align: right;\n",
       "    }\n",
       "</style>\n",
       "<table border=\"1\" class=\"dataframe\">\n",
       "  <thead>\n",
       "    <tr style=\"text-align: right;\">\n",
       "      <th></th>\n",
       "      <th></th>\n",
       "      <th>price</th>\n",
       "      <th>freight_value</th>\n",
       "    </tr>\n",
       "    <tr>\n",
       "      <th>customer_city</th>\n",
       "      <th>product_category_name_english</th>\n",
       "      <th></th>\n",
       "      <th></th>\n",
       "    </tr>\n",
       "  </thead>\n",
       "  <tbody>\n",
       "    <tr>\n",
       "      <th rowspan=\"3\" valign=\"top\">abadia dos dourados</th>\n",
       "      <th>books_general_interest</th>\n",
       "      <td>39.90</td>\n",
       "      <td>18.38</td>\n",
       "    </tr>\n",
       "    <tr>\n",
       "      <th>cool_stuff</th>\n",
       "      <td>199.00</td>\n",
       "      <td>20.63</td>\n",
       "    </tr>\n",
       "    <tr>\n",
       "      <th>sports_leisure</th>\n",
       "      <td>120.00</td>\n",
       "      <td>15.59</td>\n",
       "    </tr>\n",
       "    <tr>\n",
       "      <th>abadiania</th>\n",
       "      <th>small_appliances</th>\n",
       "      <td>949.99</td>\n",
       "      <td>75.53</td>\n",
       "    </tr>\n",
       "    <tr>\n",
       "      <th>abaete</th>\n",
       "      <th>baby</th>\n",
       "      <td>65.00</td>\n",
       "      <td>17.70</td>\n",
       "    </tr>\n",
       "    <tr>\n",
       "      <th>...</th>\n",
       "      <th>...</th>\n",
       "      <td>...</td>\n",
       "      <td>...</td>\n",
       "    </tr>\n",
       "    <tr>\n",
       "      <th rowspan=\"3\" valign=\"top\">ze doca</th>\n",
       "      <th>garden_tools</th>\n",
       "      <td>39.90</td>\n",
       "      <td>26.61</td>\n",
       "    </tr>\n",
       "    <tr>\n",
       "      <th>musical_instruments</th>\n",
       "      <td>359.00</td>\n",
       "      <td>49.04</td>\n",
       "    </tr>\n",
       "    <tr>\n",
       "      <th>sports_leisure</th>\n",
       "      <td>149.90</td>\n",
       "      <td>38.60</td>\n",
       "    </tr>\n",
       "    <tr>\n",
       "      <th rowspan=\"2\" valign=\"top\">zortea</th>\n",
       "      <th>bed_bath_table</th>\n",
       "      <td>29.90</td>\n",
       "      <td>16.79</td>\n",
       "    </tr>\n",
       "    <tr>\n",
       "      <th>computers_accessories</th>\n",
       "      <td>69.90</td>\n",
       "      <td>20.98</td>\n",
       "    </tr>\n",
       "  </tbody>\n",
       "</table>\n",
       "<p>24943 rows × 2 columns</p>\n",
       "</div>"
      ],
      "text/plain": [
       "                                                    price  freight_value\n",
       "customer_city       product_category_name_english                       \n",
       "abadia dos dourados books_general_interest          39.90          18.38\n",
       "                    cool_stuff                     199.00          20.63\n",
       "                    sports_leisure                 120.00          15.59\n",
       "abadiania           small_appliances               949.99          75.53\n",
       "abaete              baby                            65.00          17.70\n",
       "...                                                   ...            ...\n",
       "ze doca             garden_tools                    39.90          26.61\n",
       "                    musical_instruments            359.00          49.04\n",
       "                    sports_leisure                 149.90          38.60\n",
       "zortea              bed_bath_table                  29.90          16.79\n",
       "                    computers_accessories           69.90          20.98\n",
       "\n",
       "[24943 rows x 2 columns]"
      ]
     },
     "execution_count": 65,
     "metadata": {},
     "output_type": "execute_result"
    }
   ],
   "source": [
    "all_data.groupby(by=[\"customer_city\", \"product_category_name_english\"]).agg({\n",
    "    \"price\": \"sum\",\n",
    "    \"freight_value\": \"sum\"\n",
    "})"
   ]
  },
  {
   "cell_type": "code",
   "execution_count": 66,
   "metadata": {
    "colab": {
     "base_uri": "https://localhost:8080/",
     "height": 455
    },
    "id": "Qea1oHr1UGzJ",
    "outputId": "08244bb3-b769-4344-ebcb-70ae572c564c"
   },
   "outputs": [
    {
     "data": {
      "text/html": [
       "<div>\n",
       "<style scoped>\n",
       "    .dataframe tbody tr th:only-of-type {\n",
       "        vertical-align: middle;\n",
       "    }\n",
       "\n",
       "    .dataframe tbody tr th {\n",
       "        vertical-align: top;\n",
       "    }\n",
       "\n",
       "    .dataframe thead th {\n",
       "        text-align: right;\n",
       "    }\n",
       "</style>\n",
       "<table border=\"1\" class=\"dataframe\">\n",
       "  <thead>\n",
       "    <tr style=\"text-align: right;\">\n",
       "      <th></th>\n",
       "      <th>order_id</th>\n",
       "      <th>review_score</th>\n",
       "    </tr>\n",
       "    <tr>\n",
       "      <th>product_category_name_english</th>\n",
       "      <th></th>\n",
       "      <th></th>\n",
       "    </tr>\n",
       "  </thead>\n",
       "  <tbody>\n",
       "    <tr>\n",
       "      <th>agro_industry_and_commerce</th>\n",
       "      <td>177</td>\n",
       "      <td>4.227642</td>\n",
       "    </tr>\n",
       "    <tr>\n",
       "      <th>air_conditioning</th>\n",
       "      <td>242</td>\n",
       "      <td>4.051903</td>\n",
       "    </tr>\n",
       "    <tr>\n",
       "      <th>art</th>\n",
       "      <td>193</td>\n",
       "      <td>4.073171</td>\n",
       "    </tr>\n",
       "    <tr>\n",
       "      <th>arts_and_craftmanship</th>\n",
       "      <td>23</td>\n",
       "      <td>4.125000</td>\n",
       "    </tr>\n",
       "    <tr>\n",
       "      <th>audio</th>\n",
       "      <td>345</td>\n",
       "      <td>3.845333</td>\n",
       "    </tr>\n",
       "    <tr>\n",
       "      <th>...</th>\n",
       "      <td>...</td>\n",
       "      <td>...</td>\n",
       "    </tr>\n",
       "    <tr>\n",
       "      <th>stationery</th>\n",
       "      <td>2251</td>\n",
       "      <td>4.235823</td>\n",
       "    </tr>\n",
       "    <tr>\n",
       "      <th>tablets_printing_image</th>\n",
       "      <td>77</td>\n",
       "      <td>4.117647</td>\n",
       "    </tr>\n",
       "    <tr>\n",
       "      <th>telephony</th>\n",
       "      <td>4069</td>\n",
       "      <td>3.995852</td>\n",
       "    </tr>\n",
       "    <tr>\n",
       "      <th>toys</th>\n",
       "      <td>3774</td>\n",
       "      <td>4.209805</td>\n",
       "    </tr>\n",
       "    <tr>\n",
       "      <th>watches_gifts</th>\n",
       "      <td>5452</td>\n",
       "      <td>4.069320</td>\n",
       "    </tr>\n",
       "  </tbody>\n",
       "</table>\n",
       "<p>71 rows × 2 columns</p>\n",
       "</div>"
      ],
      "text/plain": [
       "                               order_id  review_score\n",
       "product_category_name_english                        \n",
       "agro_industry_and_commerce          177      4.227642\n",
       "air_conditioning                    242      4.051903\n",
       "art                                 193      4.073171\n",
       "arts_and_craftmanship                23      4.125000\n",
       "audio                               345      3.845333\n",
       "...                                 ...           ...\n",
       "stationery                         2251      4.235823\n",
       "tablets_printing_image               77      4.117647\n",
       "telephony                          4069      3.995852\n",
       "toys                               3774      4.209805\n",
       "watches_gifts                      5452      4.069320\n",
       "\n",
       "[71 rows x 2 columns]"
      ]
     },
     "execution_count": 66,
     "metadata": {},
     "output_type": "execute_result"
    }
   ],
   "source": [
    "all_data.groupby(by=\"product_category_name_english\").agg({\n",
    "    \"order_id\": \"nunique\",\n",
    "    \"review_score\": \"mean\"\n",
    "})"
   ]
  },
  {
   "cell_type": "code",
   "execution_count": 67,
   "metadata": {
    "id": "wNgWJZfVSdrw"
   },
   "outputs": [],
   "source": [
    "all_data.to_csv('all_data.csv', index=False)"
   ]
  },
  {
   "cell_type": "markdown",
   "metadata": {
    "id": "SCNmtOLp9OKB"
   },
   "source": [
    "## Visualization & Explanatory Analysis"
   ]
  },
  {
   "cell_type": "markdown",
   "metadata": {
    "id": "F2Bo_ypQ9RfH"
   },
   "source": [
    "### Produk apa yang memiliki penjualan tertinggi dan terendah?"
   ]
  },
  {
   "cell_type": "code",
   "execution_count": 68,
   "metadata": {
    "colab": {
     "base_uri": "https://localhost:8080/",
     "height": 206
    },
    "id": "jkO5kTJq9S1Y",
    "outputId": "2bba906f-941e-42cf-b02c-51a4b61a474d"
   },
   "outputs": [
    {
     "data": {
      "text/html": [
       "<div>\n",
       "<style scoped>\n",
       "    .dataframe tbody tr th:only-of-type {\n",
       "        vertical-align: middle;\n",
       "    }\n",
       "\n",
       "    .dataframe tbody tr th {\n",
       "        vertical-align: top;\n",
       "    }\n",
       "\n",
       "    .dataframe thead th {\n",
       "        text-align: right;\n",
       "    }\n",
       "</style>\n",
       "<table border=\"1\" class=\"dataframe\">\n",
       "  <thead>\n",
       "    <tr style=\"text-align: right;\">\n",
       "      <th></th>\n",
       "      <th>product_category_name_english</th>\n",
       "      <th>products</th>\n",
       "    </tr>\n",
       "  </thead>\n",
       "  <tbody>\n",
       "    <tr>\n",
       "      <th>7</th>\n",
       "      <td>bed_bath_table</td>\n",
       "      <td>13311</td>\n",
       "    </tr>\n",
       "    <tr>\n",
       "      <th>43</th>\n",
       "      <td>health_beauty</td>\n",
       "      <td>9749</td>\n",
       "    </tr>\n",
       "    <tr>\n",
       "      <th>65</th>\n",
       "      <td>sports_leisure</td>\n",
       "      <td>8736</td>\n",
       "    </tr>\n",
       "    <tr>\n",
       "      <th>39</th>\n",
       "      <td>furniture_decor</td>\n",
       "      <td>8558</td>\n",
       "    </tr>\n",
       "    <tr>\n",
       "      <th>15</th>\n",
       "      <td>computers_accessories</td>\n",
       "      <td>7926</td>\n",
       "    </tr>\n",
       "  </tbody>\n",
       "</table>\n",
       "</div>"
      ],
      "text/plain": [
       "   product_category_name_english  products\n",
       "7                 bed_bath_table     13311\n",
       "43                 health_beauty      9749\n",
       "65                sports_leisure      8736\n",
       "39               furniture_decor      8558\n",
       "15         computers_accessories      7926"
      ]
     },
     "execution_count": 68,
     "metadata": {},
     "output_type": "execute_result"
    }
   ],
   "source": [
    "sum_order_df = all_data.groupby(\"product_category_name_english\")[\"product_id\"].count().reset_index()\n",
    "sum_order_df = sum_order_df.rename(columns={\"product_id\": \"products\"})\n",
    "sum_order_df = sum_order_df.sort_values(by=\"products\", ascending=False)\n",
    "\n",
    "sum_order_df.head()"
   ]
  },
  {
   "cell_type": "code",
   "execution_count": 69,
   "metadata": {
    "colab": {
     "base_uri": "https://localhost:8080/",
     "height": 206
    },
    "id": "4KN_MsrOaVHa",
    "outputId": "0f1107ca-59e1-4e15-cae1-8cd80c4eaa7a"
   },
   "outputs": [
    {
     "data": {
      "text/html": [
       "<div>\n",
       "<style scoped>\n",
       "    .dataframe tbody tr th:only-of-type {\n",
       "        vertical-align: middle;\n",
       "    }\n",
       "\n",
       "    .dataframe tbody tr th {\n",
       "        vertical-align: top;\n",
       "    }\n",
       "\n",
       "    .dataframe thead th {\n",
       "        text-align: right;\n",
       "    }\n",
       "</style>\n",
       "<table border=\"1\" class=\"dataframe\">\n",
       "  <thead>\n",
       "    <tr style=\"text-align: right;\">\n",
       "      <th></th>\n",
       "      <th>product_category_name_english</th>\n",
       "      <th>products</th>\n",
       "    </tr>\n",
       "  </thead>\n",
       "  <tbody>\n",
       "    <tr>\n",
       "      <th>61</th>\n",
       "      <td>security_and_services</td>\n",
       "      <td>2</td>\n",
       "    </tr>\n",
       "    <tr>\n",
       "      <th>29</th>\n",
       "      <td>fashion_childrens_clothes</td>\n",
       "      <td>7</td>\n",
       "    </tr>\n",
       "    <tr>\n",
       "      <th>11</th>\n",
       "      <td>cds_dvds_musicals</td>\n",
       "      <td>14</td>\n",
       "    </tr>\n",
       "    <tr>\n",
       "      <th>52</th>\n",
       "      <td>la_cuisine</td>\n",
       "      <td>15</td>\n",
       "    </tr>\n",
       "    <tr>\n",
       "      <th>3</th>\n",
       "      <td>arts_and_craftmanship</td>\n",
       "      <td>24</td>\n",
       "    </tr>\n",
       "  </tbody>\n",
       "</table>\n",
       "</div>"
      ],
      "text/plain": [
       "   product_category_name_english  products\n",
       "61         security_and_services         2\n",
       "29     fashion_childrens_clothes         7\n",
       "11             cds_dvds_musicals        14\n",
       "52                    la_cuisine        15\n",
       "3          arts_and_craftmanship        24"
      ]
     },
     "execution_count": 69,
     "metadata": {},
     "output_type": "execute_result"
    }
   ],
   "source": [
    "sum_order_df.sort_values(by=\"products\", ascending=True).head(5)"
   ]
  },
  {
   "cell_type": "code",
   "execution_count": 70,
   "metadata": {
    "colab": {
     "base_uri": "https://localhost:8080/",
     "height": 318
    },
    "id": "4uK-bOztjw58",
    "outputId": "9e57b68a-72d8-4977-fd32-5254b74756a5"
   },
   "outputs": [
    {
     "name": "stderr",
     "output_type": "stream",
     "text": [
      "C:\\Users\\ACER\\AppData\\Local\\Temp\\ipykernel_22524\\466490744.py:5: FutureWarning: \n",
      "\n",
      "Passing `palette` without assigning `hue` is deprecated and will be removed in v0.14.0. Assign the `y` variable to `hue` and set `legend=False` for the same effect.\n",
      "\n",
      "  sns.barplot(x=\"products\", y=\"product_category_name_english\", data=sum_order_df.head(5), palette=colors, ax=ax[0])\n",
      "C:\\Users\\ACER\\AppData\\Local\\Temp\\ipykernel_22524\\466490744.py:11: FutureWarning: \n",
      "\n",
      "Passing `palette` without assigning `hue` is deprecated and will be removed in v0.14.0. Assign the `y` variable to `hue` and set `legend=False` for the same effect.\n",
      "\n",
      "  sns.barplot(x=\"products\", y=\"product_category_name_english\", data=sum_order_df.sort_values(by=\"products\", ascending=True).head(5), palette=colors, ax=ax[1])\n"
     ]
    },
    {
     "data": {
      "image/png": "[encoded data removed]",
      "text/plain": [
       "<Figure size 2400x600 with 2 Axes>"
      ]
     },
     "metadata": {},
     "output_type": "display_data"
    }
   ],
   "source": [
    "fig, ax = plt.subplots(nrows=1, ncols=2, figsize=(24, 6))\n",
    "\n",
    "colors = [\"#72BCD4\", \"#D3D3D3\", \"#D3D3D3\", \"#D3D3D3\", \"#D3D3D3\"]\n",
    "\n",
    "sns.barplot(x=\"products\", y=\"product_category_name_english\", data=sum_order_df.head(5), palette=colors, ax=ax[0])\n",
    "ax[0].set_ylabel(None)\n",
    "ax[0].set_xlabel(None)\n",
    "ax[0].set_title(\"Best Selling Product\", loc=\"center\", fontsize=18)\n",
    "ax[0].tick_params(axis ='y', labelsize=15)\n",
    "\n",
    "sns.barplot(x=\"products\", y=\"product_category_name_english\", data=sum_order_df.sort_values(by=\"products\", ascending=True).head(5), palette=colors, ax=ax[1])\n",
    "ax[1].set_ylabel(None)\n",
    "ax[1].set_xlabel(None)\n",
    "ax[1].invert_xaxis()\n",
    "ax[1].yaxis.set_label_position(\"right\")\n",
    "ax[1].yaxis.tick_right()\n",
    "ax[1].set_title(\"Worst Selling Product\", loc=\"center\", fontsize=18)\n",
    "ax[1].tick_params(axis='y', labelsize=15)\n",
    "\n",
    "plt.suptitle(\"Best and Worst Selling Product by Number of Sales\", fontsize=20)\n",
    "plt.show()"
   ]
  },
  {
   "cell_type": "markdown",
   "metadata": {
    "id": "vjFH1Kz9rKr5"
   },
   "source": [
    "Dari grafik di atas, dapat disimpulkan bahwa kategori produk yang paling diminati oleh pelanggan adalah \"bed_bath_table\" dengan 13311 sales, sedangkan produk \"security and services\" merupakan produk yang memiliki penjualan paling rendah, hanya 2 sales."
   ]
  },
  {
   "cell_type": "markdown",
   "metadata": {
    "id": "D3v-wE7vgvJP"
   },
   "source": [
    "### Bagaimana tingkat kepuasan pelanggan pada tahun 2018?\n"
   ]
  },
  {
   "cell_type": "code",
   "execution_count": 71,
   "metadata": {
    "colab": {
     "base_uri": "https://localhost:8080/",
     "height": 489
    },
    "id": "LyIjoInflgKo",
    "outputId": "29235c81-383e-4687-f771-0296ab31fcd2"
   },
   "outputs": [
    {
     "data": {
      "image/png": "[encoded data removed]",
      "text/plain": [
       "<Figure size 1000x500 with 1 Axes>"
      ]
     },
     "metadata": {},
     "output_type": "display_data"
    }
   ],
   "source": [
    "all_data['review_creation_date'] = pd.to_datetime(all_data['review_creation_date'])\n",
    "\n",
    "# Filter data for the last 8 months\n",
    "last_six_months_data = all_data[all_data['review_creation_date'] >= all_data['review_creation_date'].max() - pd.DateOffset(months=7)]\n",
    "\n",
    "# Create a bar plot for review scores by month\n",
    "plt.figure(figsize=(10, 5))\n",
    "sns.countplot(x=last_six_months_data['review_creation_date'].dt.month,\n",
    "              hue=last_six_months_data['review_score'],\n",
    "              palette=\"viridis\")\n",
    "\n",
    "plt.title(\"Customer Satisfaction in 2018\", fontsize=15)\n",
    "plt.xlabel(\"Month\")\n",
    "plt.ylabel(\"Count of Reviews\")\n",
    "plt.legend(title=\"Review Score\", loc='upper right', bbox_to_anchor=(1.2, 1))\n",
    "\n",
    "months = ['Jan', 'Feb', 'Mar', 'Apr', 'May', 'Jun', 'Jul', 'Aug']\n",
    "plt.xticks(range(0, 8), months)\n",
    "\n",
    "plt.show()"
   ]
  },
  {
   "cell_type": "code",
   "execution_count": 72,
   "metadata": {
    "colab": {
     "base_uri": "https://localhost:8080/"
    },
    "id": "INkCpZ2-2954",
    "outputId": "2fefcbd1-9c18-473f-e01e-98575feeb8e9"
   },
   "outputs": [
    {
     "name": "stdout",
     "output_type": "stream",
     "text": [
      "Average Review Score: **4.05**\n"
     ]
    }
   ],
   "source": [
    "avg_review = last_six_months_data['review_score'].mean()\n",
    "print(f\"Average Review Score: **{avg_review:.2f}**\")"
   ]
  },
  {
   "cell_type": "markdown",
   "metadata": {
    "id": "MHEI6YY3rATp"
   },
   "source": [
    "Grafik di atas mencerminkan tingkat kepuasan pelanggan yang tinggi terhadap layanan yang diberikan. Hal ini dapat dilihat dari jumlah pelanggan yang memberikan rating 5 memiliki jumlah data yang paling banyak dibandingkan dengan rating lainnya. Diketahui juga rata-rata review yang diberikan pada tahun 2018 adalah 4.05."
   ]
  },
  {
   "cell_type": "markdown",
   "metadata": {
    "id": "81yp5HVjqikw"
   },
   "source": [
    "### Berapa jumlah pesanan yang disetujui pada tiap bulannya?"
   ]
  },
  {
   "cell_type": "code",
   "execution_count": 73,
   "metadata": {
    "id": "SuNfCzF9pqwg"
   },
   "outputs": [],
   "source": [
    "monthly_order = all_data.resample(rule='M', on='order_approved_at').agg({\n",
    "    \"order_id\": \"size\",\n",
    "})"
   ]
  },
  {
   "cell_type": "code",
   "execution_count": 74,
   "metadata": {
    "colab": {
     "base_uri": "https://localhost:8080/",
     "height": 770
    },
    "id": "_qFAlMrFpv7i",
    "outputId": "07a034db-6167-4f62-e331-82e1027d4a8d"
   },
   "outputs": [
    {
     "data": {
      "text/html": [
       "<div>\n",
       "<style scoped>\n",
       "    .dataframe tbody tr th:only-of-type {\n",
       "        vertical-align: middle;\n",
       "    }\n",
       "\n",
       "    .dataframe tbody tr th {\n",
       "        vertical-align: top;\n",
       "    }\n",
       "\n",
       "    .dataframe thead th {\n",
       "        text-align: right;\n",
       "    }\n",
       "</style>\n",
       "<table border=\"1\" class=\"dataframe\">\n",
       "  <thead>\n",
       "    <tr style=\"text-align: right;\">\n",
       "      <th></th>\n",
       "      <th>order_approved_at</th>\n",
       "      <th>order_count</th>\n",
       "    </tr>\n",
       "  </thead>\n",
       "  <tbody>\n",
       "    <tr>\n",
       "      <th>0</th>\n",
       "      <td>October</td>\n",
       "      <td>336</td>\n",
       "    </tr>\n",
       "    <tr>\n",
       "      <th>1</th>\n",
       "      <td>November</td>\n",
       "      <td>0</td>\n",
       "    </tr>\n",
       "    <tr>\n",
       "      <th>2</th>\n",
       "      <td>December</td>\n",
       "      <td>1</td>\n",
       "    </tr>\n",
       "    <tr>\n",
       "      <th>3</th>\n",
       "      <td>January</td>\n",
       "      <td>927</td>\n",
       "    </tr>\n",
       "    <tr>\n",
       "      <th>4</th>\n",
       "      <td>February</td>\n",
       "      <td>1940</td>\n",
       "    </tr>\n",
       "    <tr>\n",
       "      <th>5</th>\n",
       "      <td>March</td>\n",
       "      <td>3092</td>\n",
       "    </tr>\n",
       "    <tr>\n",
       "      <th>6</th>\n",
       "      <td>April</td>\n",
       "      <td>2669</td>\n",
       "    </tr>\n",
       "    <tr>\n",
       "      <th>7</th>\n",
       "      <td>May</td>\n",
       "      <td>4266</td>\n",
       "    </tr>\n",
       "    <tr>\n",
       "      <th>8</th>\n",
       "      <td>June</td>\n",
       "      <td>3713</td>\n",
       "    </tr>\n",
       "    <tr>\n",
       "      <th>9</th>\n",
       "      <td>July</td>\n",
       "      <td>4684</td>\n",
       "    </tr>\n",
       "    <tr>\n",
       "      <th>10</th>\n",
       "      <td>August</td>\n",
       "      <td>5081</td>\n",
       "    </tr>\n",
       "    <tr>\n",
       "      <th>11</th>\n",
       "      <td>September</td>\n",
       "      <td>5023</td>\n",
       "    </tr>\n",
       "    <tr>\n",
       "      <th>12</th>\n",
       "      <td>October</td>\n",
       "      <td>5405</td>\n",
       "    </tr>\n",
       "    <tr>\n",
       "      <th>13</th>\n",
       "      <td>November</td>\n",
       "      <td>8658</td>\n",
       "    </tr>\n",
       "    <tr>\n",
       "      <th>14</th>\n",
       "      <td>December</td>\n",
       "      <td>6609</td>\n",
       "    </tr>\n",
       "    <tr>\n",
       "      <th>15</th>\n",
       "      <td>January</td>\n",
       "      <td>8240</td>\n",
       "    </tr>\n",
       "    <tr>\n",
       "      <th>16</th>\n",
       "      <td>February</td>\n",
       "      <td>7779</td>\n",
       "    </tr>\n",
       "    <tr>\n",
       "      <th>17</th>\n",
       "      <td>March</td>\n",
       "      <td>8413</td>\n",
       "    </tr>\n",
       "    <tr>\n",
       "      <th>18</th>\n",
       "      <td>April</td>\n",
       "      <td>7869</td>\n",
       "    </tr>\n",
       "    <tr>\n",
       "      <th>19</th>\n",
       "      <td>May</td>\n",
       "      <td>8308</td>\n",
       "    </tr>\n",
       "    <tr>\n",
       "      <th>20</th>\n",
       "      <td>June</td>\n",
       "      <td>7278</td>\n",
       "    </tr>\n",
       "    <tr>\n",
       "      <th>21</th>\n",
       "      <td>July</td>\n",
       "      <td>7026</td>\n",
       "    </tr>\n",
       "    <tr>\n",
       "      <th>22</th>\n",
       "      <td>August</td>\n",
       "      <td>7518</td>\n",
       "    </tr>\n",
       "  </tbody>\n",
       "</table>\n",
       "</div>"
      ],
      "text/plain": [
       "   order_approved_at  order_count\n",
       "0            October          336\n",
       "1           November            0\n",
       "2           December            1\n",
       "3            January          927\n",
       "4           February         1940\n",
       "5              March         3092\n",
       "6              April         2669\n",
       "7                May         4266\n",
       "8               June         3713\n",
       "9               July         4684\n",
       "10            August         5081\n",
       "11         September         5023\n",
       "12           October         5405\n",
       "13          November         8658\n",
       "14          December         6609\n",
       "15           January         8240\n",
       "16          February         7779\n",
       "17             March         8413\n",
       "18             April         7869\n",
       "19               May         8308\n",
       "20              June         7278\n",
       "21              July         7026\n",
       "22            August         7518"
      ]
     },
     "execution_count": 74,
     "metadata": {},
     "output_type": "execute_result"
    }
   ],
   "source": [
    "monthly_order.index = monthly_order.index.strftime('%B')\n",
    "monthly_order = monthly_order.reset_index()\n",
    "monthly_order.rename(columns={\n",
    "    \"order_id\": \"order_count\",\n",
    "}, inplace=True)\n",
    "monthly_order"
   ]
  },
  {
   "cell_type": "code",
   "execution_count": 75,
   "metadata": {
    "id": "wbx-lorQp2vf"
   },
   "outputs": [],
   "source": [
    "monthly_order = monthly_order.sort_values('order_count').drop_duplicates('order_approved_at', keep='last')"
   ]
  },
  {
   "cell_type": "code",
   "execution_count": 76,
   "metadata": {
    "colab": {
     "base_uri": "https://localhost:8080/",
     "height": 425
    },
    "id": "Z3lq2-NKp9iF",
    "outputId": "5b263cea-5814-4d8a-9d8d-6eea8febe35b"
   },
   "outputs": [
    {
     "data": {
      "text/html": [
       "<div>\n",
       "<style scoped>\n",
       "    .dataframe tbody tr th:only-of-type {\n",
       "        vertical-align: middle;\n",
       "    }\n",
       "\n",
       "    .dataframe tbody tr th {\n",
       "        vertical-align: top;\n",
       "    }\n",
       "\n",
       "    .dataframe thead th {\n",
       "        text-align: right;\n",
       "    }\n",
       "</style>\n",
       "<table border=\"1\" class=\"dataframe\">\n",
       "  <thead>\n",
       "    <tr style=\"text-align: right;\">\n",
       "      <th></th>\n",
       "      <th>order_approved_at</th>\n",
       "      <th>order_count</th>\n",
       "    </tr>\n",
       "  </thead>\n",
       "  <tbody>\n",
       "    <tr>\n",
       "      <th>11</th>\n",
       "      <td>September</td>\n",
       "      <td>5023</td>\n",
       "    </tr>\n",
       "    <tr>\n",
       "      <th>12</th>\n",
       "      <td>October</td>\n",
       "      <td>5405</td>\n",
       "    </tr>\n",
       "    <tr>\n",
       "      <th>14</th>\n",
       "      <td>December</td>\n",
       "      <td>6609</td>\n",
       "    </tr>\n",
       "    <tr>\n",
       "      <th>21</th>\n",
       "      <td>July</td>\n",
       "      <td>7026</td>\n",
       "    </tr>\n",
       "    <tr>\n",
       "      <th>20</th>\n",
       "      <td>June</td>\n",
       "      <td>7278</td>\n",
       "    </tr>\n",
       "    <tr>\n",
       "      <th>22</th>\n",
       "      <td>August</td>\n",
       "      <td>7518</td>\n",
       "    </tr>\n",
       "    <tr>\n",
       "      <th>16</th>\n",
       "      <td>February</td>\n",
       "      <td>7779</td>\n",
       "    </tr>\n",
       "    <tr>\n",
       "      <th>18</th>\n",
       "      <td>April</td>\n",
       "      <td>7869</td>\n",
       "    </tr>\n",
       "    <tr>\n",
       "      <th>15</th>\n",
       "      <td>January</td>\n",
       "      <td>8240</td>\n",
       "    </tr>\n",
       "    <tr>\n",
       "      <th>19</th>\n",
       "      <td>May</td>\n",
       "      <td>8308</td>\n",
       "    </tr>\n",
       "    <tr>\n",
       "      <th>17</th>\n",
       "      <td>March</td>\n",
       "      <td>8413</td>\n",
       "    </tr>\n",
       "    <tr>\n",
       "      <th>13</th>\n",
       "      <td>November</td>\n",
       "      <td>8658</td>\n",
       "    </tr>\n",
       "  </tbody>\n",
       "</table>\n",
       "</div>"
      ],
      "text/plain": [
       "   order_approved_at  order_count\n",
       "11         September         5023\n",
       "12           October         5405\n",
       "14          December         6609\n",
       "21              July         7026\n",
       "20              June         7278\n",
       "22            August         7518\n",
       "16          February         7779\n",
       "18             April         7869\n",
       "15           January         8240\n",
       "19               May         8308\n",
       "17             March         8413\n",
       "13          November         8658"
      ]
     },
     "execution_count": 76,
     "metadata": {},
     "output_type": "execute_result"
    }
   ],
   "source": [
    "monthly_order"
   ]
  },
  {
   "cell_type": "code",
   "execution_count": 77,
   "metadata": {
    "id": "hStSyNPHqApW"
   },
   "outputs": [],
   "source": [
    "month_mapping = {\n",
    "    \"January\": 1,\n",
    "    \"February\": 2,\n",
    "    \"March\": 3,\n",
    "    \"April\": 4,\n",
    "    \"May\": 5,\n",
    "    \"June\": 6,\n",
    "    \"July\": 7,\n",
    "    \"August\": 8,\n",
    "    \"September\": 9,\n",
    "    \"October\": 10,\n",
    "    \"November\": 11,\n",
    "    \"December\": 12\n",
    "}\n",
    "\n",
    "monthly_order[\"month_numeric\"] = monthly_order[\"order_approved_at\"].map(month_mapping)\n",
    "monthly_order = monthly_order.sort_values(\"month_numeric\")\n",
    "monthly_order = monthly_order.drop(\"month_numeric\", axis=1)"
   ]
  },
  {
   "cell_type": "code",
   "execution_count": 78,
   "metadata": {
    "colab": {
     "base_uri": "https://localhost:8080/",
     "height": 526
    },
    "id": "ESmUaw7GqHEy",
    "outputId": "9f2240fc-05dd-4af3-b98e-ddd191f26d74"
   },
   "outputs": [
    {
     "data": {
      "image/png": "[encoded data removed]",
      "text/plain": [
       "<Figure size 1000x500 with 1 Axes>"
      ]
     },
     "metadata": {},
     "output_type": "display_data"
    }
   ],
   "source": [
    "plt.figure(figsize=(10, 5))\n",
    "plt.plot(\n",
    "    monthly_order[\"order_approved_at\"],\n",
    "    monthly_order[\"order_count\"],\n",
    "    marker='o',\n",
    "    linewidth=2,\n",
    "    color=\"#72BCD4\"\n",
    ")\n",
    "plt.title(\"Number of Orders per Month\", loc=\"center\", fontsize=20)\n",
    "plt.xticks(fontsize=10, rotation=45)\n",
    "plt.yticks(fontsize=10)\n",
    "plt.show()"
   ]
  },
  {
   "cell_type": "markdown",
   "metadata": {
    "id": "Oo3GoJBAsq4j"
   },
   "source": [
    "Dari visualisasi grafik, terlihat adanya penurunan yang cukup besar pada bulan September, diikuti oleh kenaikan yang signifikan pada bulan November."
   ]
  },
  {
   "cell_type": "markdown",
   "metadata": {
    "id": "016gHZUh3ZF_"
   },
   "source": [
    "## Analisis Lanjutan"
   ]
  },
  {
   "cell_type": "markdown",
   "metadata": {
    "id": "JgXyuqHP3nvl"
   },
   "source": [
    "### RFM Analysis"
   ]
  },
  {
   "cell_type": "code",
   "execution_count": 79,
   "metadata": {
    "id": "iyMlDsQk4yuc"
   },
   "outputs": [],
   "source": [
    "import datetime as dt\n",
    "\n",
    "now = dt.datetime(2018, 10, 17)\n",
    "\n",
    "all_data['order_purchase_timestamp'] = pd.to_datetime(all_data['order_purchase_timestamp'])\n",
    "\n",
    "# Group by 'customer_id' and calculate Recency, Frequency, and Monetary\n",
    "recency = (now - all_data.groupby('customer_id')['order_purchase_timestamp'].max()).dt.days\n",
    "frequency = all_data.groupby('customer_id')['order_id'].count()\n",
    "monetary = all_data.groupby('customer_id')['price'].sum()\n"
   ]
  },
  {
   "cell_type": "code",
   "execution_count": 80,
   "metadata": {
    "id": "ERqlA53z45fg"
   },
   "outputs": [],
   "source": [
    "rfm = pd.DataFrame({\n",
    "    'customer_id': recency.index,\n",
    "    'Recency': recency.values,\n",
    "    'Frequency': frequency.values,\n",
    "    'Monetary': monetary.values\n",
    "})\n",
    "\n",
    "# Calculate Percentiles\n",
    "rfm_percentiles = rfm[['Recency', 'Frequency', 'Monetary']].rank(pct=True)\n",
    "\n",
    "# RFM Segmentation\n",
    "rfm['RFM_Score'] = rfm_percentiles['Recency'] * 100 + rfm_percentiles['Frequency'] * 10 + rfm_percentiles['Monetary']\n",
    "rfm['RFM_Score'] = rfm['RFM_Score'].clip(0, 100)\n",
    "rfm_segment = pd.cut(rfm['RFM_Score'], bins=[0, 33, 66, 100], labels=['Low', 'Mid', 'High'])\n",
    "rfm['Segment'] = rfm_segment"
   ]
  },
  {
   "cell_type": "code",
   "execution_count": 81,
   "metadata": {
    "colab": {
     "base_uri": "https://localhost:8080/",
     "height": 472
    },
    "id": "v92336J543pC",
    "outputId": "2b65b6e9-4740-4aaf-9be9-9d5e8e0c882f"
   },
   "outputs": [
    {
     "data": {
      "image/png": "[encoded data removed]",
      "text/plain": [
       "<Figure size 640x480 with 1 Axes>"
      ]
     },
     "metadata": {},
     "output_type": "display_data"
    }
   ],
   "source": [
    "# Visualize RFM Segments\n",
    "sns.scatterplot(x='Recency', y='Frequency', hue='Segment', data=rfm)\n",
    "plt.title('RFM Segmentation')\n",
    "plt.xlabel('Recency (Days Since Last Purchase)')\n",
    "plt.ylabel('Frequency (Number of Purchases)')\n",
    "plt.show()"
   ]
  },
  {
   "cell_type": "markdown",
   "metadata": {
    "id": "hB7TTzNI5pYf"
   },
   "source": [
    "- Sumbu horizontal (X-axis) menunjukkan nilai Recency, yang merupakan jumlah hari sejak pelanggan melakukan pembelian terakhir. Nilai yang lebih rendah menunjukkan pelanggan yang baru-baru ini melakukan pembelian.\n",
    "- Sumbu vertikal (Y-axis) menunjukkan nilai Frequency, yaitu jumlah pembelian yang dilakukan oleh pelanggan. Nilai yang lebih tinggi menunjukkan pelanggan yang sering melakukan pembelian.\n",
    "- Visualisasi tersebut menunjukkan bahwa frequency pembelian customer kebanyakan masih rendah, yaitu <10 pembelian. Juga kebanyakan pembeli telah lama tidak melakukan pembelian, ditandai dengan segment high yang lebih banyak dibandingkan segment lain"
   ]
  },
  {
   "cell_type": "markdown",
   "metadata": {
    "id": "i5iZYwOM7H7G"
   },
   "source": [
    "### Keterangan dari kolom-kolom analisis RFM\n",
    "- Recency:\n",
    "Menunjukkan seberapa lama pelanggan terakhir kali melakukan pembelian. Semakin kecil nilai Recency, semakin baru pelanggan tersebut melakukan pembelian.\n",
    "\n",
    "- Frequency:\n",
    "Menunjukkan seberapa sering pelanggan melakukan pembelian dalam suatu periode waktu tertentu. Nilai Frequency yang tinggi menunjukkan bahwa pelanggan tersebut sering melakukan pembelian.\n",
    "\n",
    "- Monetary:\n",
    "Menunjukkan total nilai pembelian atau pengeluaran yang dilakukan oleh pelanggan. Nilai Monetary yang tinggi menunjukkan bahwa pelanggan tersebut menghabiskan lebih banyak uang.\n",
    "\n",
    "- RFM_Score:\n",
    "Merupakan nilai skor yang dihasilkan dari kombinasi Recency, Frequency, dan Monetary. RFM Score yang tinggi menunjukkan pelanggan yang masih aktif, berbelanja secara teratur, dan memberikan kontribusi signifikan terhadap pendapatan bisnis.\n",
    "\n",
    "- Segment:\n",
    "Segment \"High\" akan berisi pelanggan yang baru-baru ini sering berbelanja dan menghabiskan banyak uang, sedangkan segment \"Low\" akan berisi pelanggan yang jarang berbelanja dan menghabiskan sedikit uang. Segment \"Mid\" berada di tengah-tengah, menunjukkan perilaku yang tidak terlalu ekstrem dalam hal Recency, Frequency, dan Monetary."
   ]
  },
  {
   "cell_type": "code",
   "execution_count": 82,
   "metadata": {
    "colab": {
     "base_uri": "https://localhost:8080/",
     "height": 206
    },
    "id": "ity3MIdL42tU",
    "outputId": "50f2cb29-3fdb-4fee-8c40-195c6848112a"
   },
   "outputs": [
    {
     "data": {
      "text/html": [
       "<div>\n",
       "<style scoped>\n",
       "    .dataframe tbody tr th:only-of-type {\n",
       "        vertical-align: middle;\n",
       "    }\n",
       "\n",
       "    .dataframe tbody tr th {\n",
       "        vertical-align: top;\n",
       "    }\n",
       "\n",
       "    .dataframe thead th {\n",
       "        text-align: right;\n",
       "    }\n",
       "</style>\n",
       "<table border=\"1\" class=\"dataframe\">\n",
       "  <thead>\n",
       "    <tr style=\"text-align: right;\">\n",
       "      <th></th>\n",
       "      <th>customer_id</th>\n",
       "      <th>Recency</th>\n",
       "      <th>Frequency</th>\n",
       "      <th>Monetary</th>\n",
       "      <th>RFM_Score</th>\n",
       "      <th>Segment</th>\n",
       "    </tr>\n",
       "  </thead>\n",
       "  <tbody>\n",
       "    <tr>\n",
       "      <th>8241</th>\n",
       "      <td>1617b1357756262bfa56ab541c47bc16</td>\n",
       "      <td>382</td>\n",
       "      <td>8</td>\n",
       "      <td>13440.00</td>\n",
       "      <td>83.789740</td>\n",
       "      <td>High</td>\n",
       "    </tr>\n",
       "    <tr>\n",
       "      <th>83483</th>\n",
       "      <td>de832e8dbb1f588a47013e53feaa67cc</td>\n",
       "      <td>505</td>\n",
       "      <td>15</td>\n",
       "      <td>10856.10</td>\n",
       "      <td>99.839307</td>\n",
       "      <td>High</td>\n",
       "    </tr>\n",
       "    <tr>\n",
       "      <th>37205</th>\n",
       "      <td>63b964e79dee32a3587651701a2b8dbf</td>\n",
       "      <td>244</td>\n",
       "      <td>24</td>\n",
       "      <td>9888.00</td>\n",
       "      <td>55.374783</td>\n",
       "      <td>Mid</td>\n",
       "    </tr>\n",
       "    <tr>\n",
       "      <th>41462</th>\n",
       "      <td>6f241d5bbb142b6f764387c8c270645a</td>\n",
       "      <td>159</td>\n",
       "      <td>7</td>\n",
       "      <td>9520.14</td>\n",
       "      <td>34.557531</td>\n",
       "      <td>Mid</td>\n",
       "    </tr>\n",
       "    <tr>\n",
       "      <th>54750</th>\n",
       "      <td>926b6a6fb8b6081e00b335edaf578d35</td>\n",
       "      <td>546</td>\n",
       "      <td>2</td>\n",
       "      <td>7998.00</td>\n",
       "      <td>100.000000</td>\n",
       "      <td>High</td>\n",
       "    </tr>\n",
       "  </tbody>\n",
       "</table>\n",
       "</div>"
      ],
      "text/plain": [
       "                            customer_id  Recency  Frequency  Monetary  \\\n",
       "8241   1617b1357756262bfa56ab541c47bc16      382          8  13440.00   \n",
       "83483  de832e8dbb1f588a47013e53feaa67cc      505         15  10856.10   \n",
       "37205  63b964e79dee32a3587651701a2b8dbf      244         24   9888.00   \n",
       "41462  6f241d5bbb142b6f764387c8c270645a      159          7   9520.14   \n",
       "54750  926b6a6fb8b6081e00b335edaf578d35      546          2   7998.00   \n",
       "\n",
       "        RFM_Score Segment  \n",
       "8241    83.789740    High  \n",
       "83483   99.839307    High  \n",
       "37205   55.374783     Mid  \n",
       "41462   34.557531     Mid  \n",
       "54750  100.000000    High  "
      ]
     },
     "execution_count": 82,
     "metadata": {},
     "output_type": "execute_result"
    }
   ],
   "source": [
    "# Customer dengan pengeluaran terbesar\n",
    "top_monetary_customers = rfm.sort_values(by='Monetary', ascending=False).head(10)\n",
    "top_monetary_customers.head()"
   ]
  },
  {
   "cell_type": "code",
   "execution_count": 83,
   "metadata": {
    "colab": {
     "base_uri": "https://localhost:8080/",
     "height": 206
    },
    "id": "vktagj4g41qe",
    "outputId": "c9871a5a-1cc6-499c-c6c4-0639738a0d7e"
   },
   "outputs": [
    {
     "data": {
      "text/html": [
       "<div>\n",
       "<style scoped>\n",
       "    .dataframe tbody tr th:only-of-type {\n",
       "        vertical-align: middle;\n",
       "    }\n",
       "\n",
       "    .dataframe tbody tr th {\n",
       "        vertical-align: top;\n",
       "    }\n",
       "\n",
       "    .dataframe thead th {\n",
       "        text-align: right;\n",
       "    }\n",
       "</style>\n",
       "<table border=\"1\" class=\"dataframe\">\n",
       "  <thead>\n",
       "    <tr style=\"text-align: right;\">\n",
       "      <th></th>\n",
       "      <th>customer_id</th>\n",
       "      <th>Recency</th>\n",
       "      <th>Frequency</th>\n",
       "      <th>Monetary</th>\n",
       "      <th>RFM_Score</th>\n",
       "      <th>Segment</th>\n",
       "    </tr>\n",
       "  </thead>\n",
       "  <tbody>\n",
       "    <tr>\n",
       "      <th>44873</th>\n",
       "      <td>7812fcebfc5e8065d31e1bb5f0017dae</td>\n",
       "      <td>743</td>\n",
       "      <td>1</td>\n",
       "      <td>29.99</td>\n",
       "      <td>100.0</td>\n",
       "      <td>High</td>\n",
       "    </tr>\n",
       "    <tr>\n",
       "      <th>41630</th>\n",
       "      <td>6f989332712d3222b6571b1cf5b835ce</td>\n",
       "      <td>743</td>\n",
       "      <td>1</td>\n",
       "      <td>36.49</td>\n",
       "      <td>100.0</td>\n",
       "      <td>High</td>\n",
       "    </tr>\n",
       "    <tr>\n",
       "      <th>47426</th>\n",
       "      <td>7ec40b22510fdbea1b08921dd39e63d8</td>\n",
       "      <td>743</td>\n",
       "      <td>1</td>\n",
       "      <td>21.90</td>\n",
       "      <td>100.0</td>\n",
       "      <td>High</td>\n",
       "    </tr>\n",
       "    <tr>\n",
       "      <th>82721</th>\n",
       "      <td>dc607dc98d6a11d5d04d9f2a70aa6c34</td>\n",
       "      <td>743</td>\n",
       "      <td>1</td>\n",
       "      <td>74.90</td>\n",
       "      <td>100.0</td>\n",
       "      <td>High</td>\n",
       "    </tr>\n",
       "    <tr>\n",
       "      <th>42123</th>\n",
       "      <td>70fc57eeae292675927697fe03ad3ff5</td>\n",
       "      <td>743</td>\n",
       "      <td>1</td>\n",
       "      <td>21.50</td>\n",
       "      <td>100.0</td>\n",
       "      <td>High</td>\n",
       "    </tr>\n",
       "  </tbody>\n",
       "</table>\n",
       "</div>"
      ],
      "text/plain": [
       "                            customer_id  Recency  Frequency  Monetary  \\\n",
       "44873  7812fcebfc5e8065d31e1bb5f0017dae      743          1     29.99   \n",
       "41630  6f989332712d3222b6571b1cf5b835ce      743          1     36.49   \n",
       "47426  7ec40b22510fdbea1b08921dd39e63d8      743          1     21.90   \n",
       "82721  dc607dc98d6a11d5d04d9f2a70aa6c34      743          1     74.90   \n",
       "42123  70fc57eeae292675927697fe03ad3ff5      743          1     21.50   \n",
       "\n",
       "       RFM_Score Segment  \n",
       "44873      100.0    High  \n",
       "41630      100.0    High  \n",
       "47426      100.0    High  \n",
       "82721      100.0    High  \n",
       "42123      100.0    High  "
      ]
     },
     "execution_count": 83,
     "metadata": {},
     "output_type": "execute_result"
    }
   ],
   "source": [
    "# Customer yang terakhir belanja\n",
    "recent_customers = rfm.sort_values(by='Recency', ascending=False).head(10)\n",
    "recent_customers.head()"
   ]
  },
  {
   "cell_type": "code",
   "execution_count": 84,
   "metadata": {
    "colab": {
     "base_uri": "https://localhost:8080/",
     "height": 206
    },
    "id": "Fdx4FAlO40oT",
    "outputId": "9699948c-a36c-4b60-d7b8-93b7425b44c2"
   },
   "outputs": [
    {
     "data": {
      "text/html": [
       "<div>\n",
       "<style scoped>\n",
       "    .dataframe tbody tr th:only-of-type {\n",
       "        vertical-align: middle;\n",
       "    }\n",
       "\n",
       "    .dataframe tbody tr th {\n",
       "        vertical-align: top;\n",
       "    }\n",
       "\n",
       "    .dataframe thead th {\n",
       "        text-align: right;\n",
       "    }\n",
       "</style>\n",
       "<table border=\"1\" class=\"dataframe\">\n",
       "  <thead>\n",
       "    <tr style=\"text-align: right;\">\n",
       "      <th></th>\n",
       "      <th>customer_id</th>\n",
       "      <th>Recency</th>\n",
       "      <th>Frequency</th>\n",
       "      <th>Monetary</th>\n",
       "      <th>RFM_Score</th>\n",
       "      <th>Segment</th>\n",
       "    </tr>\n",
       "  </thead>\n",
       "  <tbody>\n",
       "    <tr>\n",
       "      <th>14657</th>\n",
       "      <td>270c23a11d024a44c896d1894b261a83</td>\n",
       "      <td>434</td>\n",
       "      <td>63</td>\n",
       "      <td>2305.38</td>\n",
       "      <td>91.198487</td>\n",
       "      <td>High</td>\n",
       "    </tr>\n",
       "    <tr>\n",
       "      <th>7310</th>\n",
       "      <td>13aa59158da63ba0e93ec6ac2c07aacb</td>\n",
       "      <td>388</td>\n",
       "      <td>38</td>\n",
       "      <td>3039.62</td>\n",
       "      <td>84.627325</td>\n",
       "      <td>High</td>\n",
       "    </tr>\n",
       "    <tr>\n",
       "      <th>54898</th>\n",
       "      <td>92cd3ec6e2d643d4ebd0e3d6238f69e2</td>\n",
       "      <td>496</td>\n",
       "      <td>26</td>\n",
       "      <td>1299.74</td>\n",
       "      <td>98.743795</td>\n",
       "      <td>High</td>\n",
       "    </tr>\n",
       "    <tr>\n",
       "      <th>78952</th>\n",
       "      <td>d22f25a9fadfb1abbc2e29395b1239f4</td>\n",
       "      <td>157</td>\n",
       "      <td>24</td>\n",
       "      <td>359.76</td>\n",
       "      <td>34.007254</td>\n",
       "      <td>Mid</td>\n",
       "    </tr>\n",
       "    <tr>\n",
       "      <th>37205</th>\n",
       "      <td>63b964e79dee32a3587651701a2b8dbf</td>\n",
       "      <td>244</td>\n",
       "      <td>24</td>\n",
       "      <td>9888.00</td>\n",
       "      <td>55.374783</td>\n",
       "      <td>Mid</td>\n",
       "    </tr>\n",
       "  </tbody>\n",
       "</table>\n",
       "</div>"
      ],
      "text/plain": [
       "                            customer_id  Recency  Frequency  Monetary  \\\n",
       "14657  270c23a11d024a44c896d1894b261a83      434         63   2305.38   \n",
       "7310   13aa59158da63ba0e93ec6ac2c07aacb      388         38   3039.62   \n",
       "54898  92cd3ec6e2d643d4ebd0e3d6238f69e2      496         26   1299.74   \n",
       "78952  d22f25a9fadfb1abbc2e29395b1239f4      157         24    359.76   \n",
       "37205  63b964e79dee32a3587651701a2b8dbf      244         24   9888.00   \n",
       "\n",
       "       RFM_Score Segment  \n",
       "14657  91.198487    High  \n",
       "7310   84.627325    High  \n",
       "54898  98.743795    High  \n",
       "78952  34.007254     Mid  \n",
       "37205  55.374783     Mid  "
      ]
     },
     "execution_count": 84,
     "metadata": {},
     "output_type": "execute_result"
    }
   ],
   "source": [
    "# Customer dengan pembelian terbanyak\n",
    "top_frequency_customers = rfm.sort_values(by='Frequency', ascending=False).head(10)\n",
    "top_frequency_customers.head()"
   ]
  },
  {
   "cell_type": "markdown",
   "metadata": {
    "id": "J2CnXYGT9Tc2"
   },
   "source": [
    "## Conclusion"
   ]
  },
  {
   "cell_type": "markdown",
   "metadata": {
    "id": "f73FBkLw9V8C"
   },
   "source": [
    "### Produk apa yang memiliki penjualan tertinggi dan terendah?"
   ]
  },
  {
   "cell_type": "markdown",
   "metadata": {
    "id": "4Op20a-KtaNe"
   },
   "source": [
    "Kategori produk yang paling diminati oleh pelanggan adalah \"bed_bath_table\" dengan penjualan yang hampir mencapai 14000 unit. Sedangkan produk \"security and services\" merupakan produk yang memiliki penjualan paling rendah, hanya 2 sales."
   ]
  },
  {
   "cell_type": "markdown",
   "metadata": {
    "id": "fNoU25m4s2ZA"
   },
   "source": [
    "### Bagaimana tingkat kepuasan pelanggan pada tahun 2018?"
   ]
  },
  {
   "cell_type": "markdown",
   "metadata": {
    "id": "JWy-2eHStksD"
   },
   "source": [
    "Pelanggan menunjukkan tingkat kepuasan yang sangat tinggi terhadap layanan yang diberikan, seperti yang tergambar dalam visualisasi data. Banyak pelanggan memberikan rating 5, dengan rating 4 berada di posisi kedua terbanyak. Diketahui juga rata-rata review yang diberikan pada tahun 2018 adalah 4.05."
   ]
  },
  {
   "cell_type": "markdown",
   "metadata": {
    "id": "qhqUPxNGsyyj"
   },
   "source": [
    "### Berapa jumlah pesanan yang disetujui pada tiap bulannya?"
   ]
  },
  {
   "cell_type": "markdown",
   "metadata": {
    "id": "iObG_F-2t6NL"
   },
   "source": [
    "Pembelian pelanggan cenderung bervariasi, dengan fluktuasi nilai yang mengindikasikan adanya kenaikan dan penurunan setiap bulan. Analisis data menunjukkan bahwa puncak pembelian maksimum oleh pelanggan terjadi pada bulan November, sementara puncak pembelian minimum tercatat pada bulan September."
   ]
  }
 ],
 "metadata": {
  "colab": {
   "provenance": []
  },
  "kernelspec": {
   "display_name": "Python 3 (ipykernel)",
   "language": "python",
   "name": "python3"
  },
  "language_info": {
   "codemirror_mode": {
    "name": "ipython",
    "version": 3
   },
   "file_extension": ".py",
   "mimetype": "text/x-python",
   "name": "python",
   "nbconvert_exporter": "python",
   "pygments_lexer": "ipython3",
   "version": "3.11.2"
  }
 },
 "nbformat": 4,
 "nbformat_minor": 4
}
